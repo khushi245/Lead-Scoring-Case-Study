{
 "cells": [
  {
   "cell_type": "markdown",
   "metadata": {},
   "source": [
    "# Lead Scoring Case Study"
   ]
  },
  {
   "cell_type": "markdown",
   "metadata": {},
   "source": [
    "An education company named X Education sells online courses to industry professionals. On any given day, many professionals who are interested in the courses land on their website and browse for courses. \n",
    " \n",
    "\n",
    "The company markets its courses on several websites and search engines like Google. Once these people land on the website, they might browse the courses or fill up a form for the course or watch some videos. When these people fill up a form providing their email address or phone number, they are classified to be a lead. Moreover, the company also gets leads through past referrals. Once these leads are acquired, employees from the sales team start making calls, writing emails, etc. Through this process, some of the leads get converted while most do not. The typical lead conversion rate at X education is around 30%.\n",
    "\n",
    "Now, although X Education gets a lot of leads, its lead conversion rate is very poor. For example, if, say, they acquire 100 leads in a day, only about 30 of them are converted. To make this process more efficient, the company wishes to identify the most potential leads, also known as ‘Hot Leads’. If they successfully identify this set of leads, the lead conversion rate should go up as the sales team will now be focusing more on communicating with the potential leads rather than making calls to everyone.\n",
    "\n",
    "The company requires to build a model wherein we need to assign a lead score to each of the leads such that the customers with higher lead score have a higher conversion chance and the customers with lower lead score have a lower conversion chance. The CEO, in particular, has given a ballpark of the target lead conversion rate to be around 80%.\n",
    "\n",
    "### Purpose\n",
    "\n",
    "Build a logistic regression model to assign a lead score between 0 and 100 to each of the leads which can be used by the company to target potential leads. A higher score would mean that the lead is hot, i.e. is most likely to convert whereas a lower score would mean that the lead is cold and will mostly not get converted."
   ]
  },
  {
   "cell_type": "code",
   "execution_count": 192,
   "metadata": {},
   "outputs": [],
   "source": [
    "#Supressing warnings\n",
    "import warnings\n",
    "warnings.filterwarnings('ignore')"
   ]
  },
  {
   "cell_type": "code",
   "execution_count": 2,
   "metadata": {},
   "outputs": [],
   "source": [
    "#importing important packages\n",
    "import pandas as pd\n",
    "import numpy as np\n",
    "\n",
    "import matplotlib.pyplot as plt\n",
    "import seaborn as sns\n",
    "\n",
    "from sklearn.model_selection import train_test_split\n",
    "from sklearn.preprocessing import MinMaxScaler\n",
    "\n",
    "import statsmodels.api as sm\n",
    "from sklearn.linear_model import LogisticRegression\n",
    "from sklearn.feature_selection import RFE\n",
    "from statsmodels.stats.outliers_influence import variance_inflation_factor\n",
    "\n",
    "from sklearn import metrics\n",
    "from sklearn.metrics import precision_recall_curve"
   ]
  },
  {
   "cell_type": "code",
   "execution_count": 3,
   "metadata": {},
   "outputs": [],
   "source": [
    "#Setting some options\n",
    "pd.set_option(\"max_columns\",None)\n",
    "pd.set_option(\"max_rows\",None)"
   ]
  },
  {
   "cell_type": "code",
   "execution_count": 4,
   "metadata": {},
   "outputs": [],
   "source": [
    "#Reading the Dataset\n",
    "df=pd.read_csv(\"Leads.csv\")"
   ]
  },
  {
   "cell_type": "markdown",
   "metadata": {},
   "source": [
    "# Dataset Inspection"
   ]
  },
  {
   "cell_type": "code",
   "execution_count": 5,
   "metadata": {},
   "outputs": [
    {
     "data": {
      "text/plain": [
       "(9240, 37)"
      ]
     },
     "execution_count": 5,
     "metadata": {},
     "output_type": "execute_result"
    }
   ],
   "source": [
    "df.shape"
   ]
  },
  {
   "cell_type": "code",
   "execution_count": 6,
   "metadata": {
    "scrolled": false
   },
   "outputs": [
    {
     "data": {
      "text/html": [
       "<div>\n",
       "<style scoped>\n",
       "    .dataframe tbody tr th:only-of-type {\n",
       "        vertical-align: middle;\n",
       "    }\n",
       "\n",
       "    .dataframe tbody tr th {\n",
       "        vertical-align: top;\n",
       "    }\n",
       "\n",
       "    .dataframe thead th {\n",
       "        text-align: right;\n",
       "    }\n",
       "</style>\n",
       "<table border=\"1\" class=\"dataframe\">\n",
       "  <thead>\n",
       "    <tr style=\"text-align: right;\">\n",
       "      <th></th>\n",
       "      <th>Prospect ID</th>\n",
       "      <th>Lead Number</th>\n",
       "      <th>Lead Origin</th>\n",
       "      <th>Lead Source</th>\n",
       "      <th>Do Not Email</th>\n",
       "      <th>Do Not Call</th>\n",
       "      <th>Converted</th>\n",
       "      <th>TotalVisits</th>\n",
       "      <th>Total Time Spent on Website</th>\n",
       "      <th>Page Views Per Visit</th>\n",
       "      <th>Last Activity</th>\n",
       "      <th>Country</th>\n",
       "      <th>Specialization</th>\n",
       "      <th>How did you hear about X Education</th>\n",
       "      <th>What is your current occupation</th>\n",
       "      <th>What matters most to you in choosing a course</th>\n",
       "      <th>Search</th>\n",
       "      <th>Magazine</th>\n",
       "      <th>Newspaper Article</th>\n",
       "      <th>X Education Forums</th>\n",
       "      <th>Newspaper</th>\n",
       "      <th>Digital Advertisement</th>\n",
       "      <th>Through Recommendations</th>\n",
       "      <th>Receive More Updates About Our Courses</th>\n",
       "      <th>Tags</th>\n",
       "      <th>Lead Quality</th>\n",
       "      <th>Update me on Supply Chain Content</th>\n",
       "      <th>Get updates on DM Content</th>\n",
       "      <th>Lead Profile</th>\n",
       "      <th>City</th>\n",
       "      <th>Asymmetrique Activity Index</th>\n",
       "      <th>Asymmetrique Profile Index</th>\n",
       "      <th>Asymmetrique Activity Score</th>\n",
       "      <th>Asymmetrique Profile Score</th>\n",
       "      <th>I agree to pay the amount through cheque</th>\n",
       "      <th>A free copy of Mastering The Interview</th>\n",
       "      <th>Last Notable Activity</th>\n",
       "    </tr>\n",
       "  </thead>\n",
       "  <tbody>\n",
       "    <tr>\n",
       "      <th>0</th>\n",
       "      <td>7927b2df-8bba-4d29-b9a2-b6e0beafe620</td>\n",
       "      <td>660737</td>\n",
       "      <td>API</td>\n",
       "      <td>Olark Chat</td>\n",
       "      <td>No</td>\n",
       "      <td>No</td>\n",
       "      <td>0</td>\n",
       "      <td>0.0</td>\n",
       "      <td>0</td>\n",
       "      <td>0.0</td>\n",
       "      <td>Page Visited on Website</td>\n",
       "      <td>NaN</td>\n",
       "      <td>Select</td>\n",
       "      <td>Select</td>\n",
       "      <td>Unemployed</td>\n",
       "      <td>Better Career Prospects</td>\n",
       "      <td>No</td>\n",
       "      <td>No</td>\n",
       "      <td>No</td>\n",
       "      <td>No</td>\n",
       "      <td>No</td>\n",
       "      <td>No</td>\n",
       "      <td>No</td>\n",
       "      <td>No</td>\n",
       "      <td>Interested in other courses</td>\n",
       "      <td>Low in Relevance</td>\n",
       "      <td>No</td>\n",
       "      <td>No</td>\n",
       "      <td>Select</td>\n",
       "      <td>Select</td>\n",
       "      <td>02.Medium</td>\n",
       "      <td>02.Medium</td>\n",
       "      <td>15.0</td>\n",
       "      <td>15.0</td>\n",
       "      <td>No</td>\n",
       "      <td>No</td>\n",
       "      <td>Modified</td>\n",
       "    </tr>\n",
       "    <tr>\n",
       "      <th>1</th>\n",
       "      <td>2a272436-5132-4136-86fa-dcc88c88f482</td>\n",
       "      <td>660728</td>\n",
       "      <td>API</td>\n",
       "      <td>Organic Search</td>\n",
       "      <td>No</td>\n",
       "      <td>No</td>\n",
       "      <td>0</td>\n",
       "      <td>5.0</td>\n",
       "      <td>674</td>\n",
       "      <td>2.5</td>\n",
       "      <td>Email Opened</td>\n",
       "      <td>India</td>\n",
       "      <td>Select</td>\n",
       "      <td>Select</td>\n",
       "      <td>Unemployed</td>\n",
       "      <td>Better Career Prospects</td>\n",
       "      <td>No</td>\n",
       "      <td>No</td>\n",
       "      <td>No</td>\n",
       "      <td>No</td>\n",
       "      <td>No</td>\n",
       "      <td>No</td>\n",
       "      <td>No</td>\n",
       "      <td>No</td>\n",
       "      <td>Ringing</td>\n",
       "      <td>NaN</td>\n",
       "      <td>No</td>\n",
       "      <td>No</td>\n",
       "      <td>Select</td>\n",
       "      <td>Select</td>\n",
       "      <td>02.Medium</td>\n",
       "      <td>02.Medium</td>\n",
       "      <td>15.0</td>\n",
       "      <td>15.0</td>\n",
       "      <td>No</td>\n",
       "      <td>No</td>\n",
       "      <td>Email Opened</td>\n",
       "    </tr>\n",
       "    <tr>\n",
       "      <th>2</th>\n",
       "      <td>8cc8c611-a219-4f35-ad23-fdfd2656bd8a</td>\n",
       "      <td>660727</td>\n",
       "      <td>Landing Page Submission</td>\n",
       "      <td>Direct Traffic</td>\n",
       "      <td>No</td>\n",
       "      <td>No</td>\n",
       "      <td>1</td>\n",
       "      <td>2.0</td>\n",
       "      <td>1532</td>\n",
       "      <td>2.0</td>\n",
       "      <td>Email Opened</td>\n",
       "      <td>India</td>\n",
       "      <td>Business Administration</td>\n",
       "      <td>Select</td>\n",
       "      <td>Student</td>\n",
       "      <td>Better Career Prospects</td>\n",
       "      <td>No</td>\n",
       "      <td>No</td>\n",
       "      <td>No</td>\n",
       "      <td>No</td>\n",
       "      <td>No</td>\n",
       "      <td>No</td>\n",
       "      <td>No</td>\n",
       "      <td>No</td>\n",
       "      <td>Will revert after reading the email</td>\n",
       "      <td>Might be</td>\n",
       "      <td>No</td>\n",
       "      <td>No</td>\n",
       "      <td>Potential Lead</td>\n",
       "      <td>Mumbai</td>\n",
       "      <td>02.Medium</td>\n",
       "      <td>01.High</td>\n",
       "      <td>14.0</td>\n",
       "      <td>20.0</td>\n",
       "      <td>No</td>\n",
       "      <td>Yes</td>\n",
       "      <td>Email Opened</td>\n",
       "    </tr>\n",
       "    <tr>\n",
       "      <th>3</th>\n",
       "      <td>0cc2df48-7cf4-4e39-9de9-19797f9b38cc</td>\n",
       "      <td>660719</td>\n",
       "      <td>Landing Page Submission</td>\n",
       "      <td>Direct Traffic</td>\n",
       "      <td>No</td>\n",
       "      <td>No</td>\n",
       "      <td>0</td>\n",
       "      <td>1.0</td>\n",
       "      <td>305</td>\n",
       "      <td>1.0</td>\n",
       "      <td>Unreachable</td>\n",
       "      <td>India</td>\n",
       "      <td>Media and Advertising</td>\n",
       "      <td>Word Of Mouth</td>\n",
       "      <td>Unemployed</td>\n",
       "      <td>Better Career Prospects</td>\n",
       "      <td>No</td>\n",
       "      <td>No</td>\n",
       "      <td>No</td>\n",
       "      <td>No</td>\n",
       "      <td>No</td>\n",
       "      <td>No</td>\n",
       "      <td>No</td>\n",
       "      <td>No</td>\n",
       "      <td>Ringing</td>\n",
       "      <td>Not Sure</td>\n",
       "      <td>No</td>\n",
       "      <td>No</td>\n",
       "      <td>Select</td>\n",
       "      <td>Mumbai</td>\n",
       "      <td>02.Medium</td>\n",
       "      <td>01.High</td>\n",
       "      <td>13.0</td>\n",
       "      <td>17.0</td>\n",
       "      <td>No</td>\n",
       "      <td>No</td>\n",
       "      <td>Modified</td>\n",
       "    </tr>\n",
       "    <tr>\n",
       "      <th>4</th>\n",
       "      <td>3256f628-e534-4826-9d63-4a8b88782852</td>\n",
       "      <td>660681</td>\n",
       "      <td>Landing Page Submission</td>\n",
       "      <td>Google</td>\n",
       "      <td>No</td>\n",
       "      <td>No</td>\n",
       "      <td>1</td>\n",
       "      <td>2.0</td>\n",
       "      <td>1428</td>\n",
       "      <td>1.0</td>\n",
       "      <td>Converted to Lead</td>\n",
       "      <td>India</td>\n",
       "      <td>Select</td>\n",
       "      <td>Other</td>\n",
       "      <td>Unemployed</td>\n",
       "      <td>Better Career Prospects</td>\n",
       "      <td>No</td>\n",
       "      <td>No</td>\n",
       "      <td>No</td>\n",
       "      <td>No</td>\n",
       "      <td>No</td>\n",
       "      <td>No</td>\n",
       "      <td>No</td>\n",
       "      <td>No</td>\n",
       "      <td>Will revert after reading the email</td>\n",
       "      <td>Might be</td>\n",
       "      <td>No</td>\n",
       "      <td>No</td>\n",
       "      <td>Select</td>\n",
       "      <td>Mumbai</td>\n",
       "      <td>02.Medium</td>\n",
       "      <td>01.High</td>\n",
       "      <td>15.0</td>\n",
       "      <td>18.0</td>\n",
       "      <td>No</td>\n",
       "      <td>No</td>\n",
       "      <td>Modified</td>\n",
       "    </tr>\n",
       "  </tbody>\n",
       "</table>\n",
       "</div>"
      ],
      "text/plain": [
       "                            Prospect ID  Lead Number              Lead Origin  \\\n",
       "0  7927b2df-8bba-4d29-b9a2-b6e0beafe620       660737                      API   \n",
       "1  2a272436-5132-4136-86fa-dcc88c88f482       660728                      API   \n",
       "2  8cc8c611-a219-4f35-ad23-fdfd2656bd8a       660727  Landing Page Submission   \n",
       "3  0cc2df48-7cf4-4e39-9de9-19797f9b38cc       660719  Landing Page Submission   \n",
       "4  3256f628-e534-4826-9d63-4a8b88782852       660681  Landing Page Submission   \n",
       "\n",
       "      Lead Source Do Not Email Do Not Call  Converted  TotalVisits  \\\n",
       "0      Olark Chat           No          No          0          0.0   \n",
       "1  Organic Search           No          No          0          5.0   \n",
       "2  Direct Traffic           No          No          1          2.0   \n",
       "3  Direct Traffic           No          No          0          1.0   \n",
       "4          Google           No          No          1          2.0   \n",
       "\n",
       "   Total Time Spent on Website  Page Views Per Visit            Last Activity  \\\n",
       "0                            0                   0.0  Page Visited on Website   \n",
       "1                          674                   2.5             Email Opened   \n",
       "2                         1532                   2.0             Email Opened   \n",
       "3                          305                   1.0              Unreachable   \n",
       "4                         1428                   1.0        Converted to Lead   \n",
       "\n",
       "  Country           Specialization How did you hear about X Education  \\\n",
       "0     NaN                   Select                             Select   \n",
       "1   India                   Select                             Select   \n",
       "2   India  Business Administration                             Select   \n",
       "3   India    Media and Advertising                      Word Of Mouth   \n",
       "4   India                   Select                              Other   \n",
       "\n",
       "  What is your current occupation  \\\n",
       "0                      Unemployed   \n",
       "1                      Unemployed   \n",
       "2                         Student   \n",
       "3                      Unemployed   \n",
       "4                      Unemployed   \n",
       "\n",
       "  What matters most to you in choosing a course Search Magazine  \\\n",
       "0                       Better Career Prospects     No       No   \n",
       "1                       Better Career Prospects     No       No   \n",
       "2                       Better Career Prospects     No       No   \n",
       "3                       Better Career Prospects     No       No   \n",
       "4                       Better Career Prospects     No       No   \n",
       "\n",
       "  Newspaper Article X Education Forums Newspaper Digital Advertisement  \\\n",
       "0                No                 No        No                    No   \n",
       "1                No                 No        No                    No   \n",
       "2                No                 No        No                    No   \n",
       "3                No                 No        No                    No   \n",
       "4                No                 No        No                    No   \n",
       "\n",
       "  Through Recommendations Receive More Updates About Our Courses  \\\n",
       "0                      No                                     No   \n",
       "1                      No                                     No   \n",
       "2                      No                                     No   \n",
       "3                      No                                     No   \n",
       "4                      No                                     No   \n",
       "\n",
       "                                  Tags      Lead Quality  \\\n",
       "0          Interested in other courses  Low in Relevance   \n",
       "1                              Ringing               NaN   \n",
       "2  Will revert after reading the email          Might be   \n",
       "3                              Ringing          Not Sure   \n",
       "4  Will revert after reading the email          Might be   \n",
       "\n",
       "  Update me on Supply Chain Content Get updates on DM Content    Lead Profile  \\\n",
       "0                                No                        No          Select   \n",
       "1                                No                        No          Select   \n",
       "2                                No                        No  Potential Lead   \n",
       "3                                No                        No          Select   \n",
       "4                                No                        No          Select   \n",
       "\n",
       "     City Asymmetrique Activity Index Asymmetrique Profile Index  \\\n",
       "0  Select                   02.Medium                  02.Medium   \n",
       "1  Select                   02.Medium                  02.Medium   \n",
       "2  Mumbai                   02.Medium                    01.High   \n",
       "3  Mumbai                   02.Medium                    01.High   \n",
       "4  Mumbai                   02.Medium                    01.High   \n",
       "\n",
       "   Asymmetrique Activity Score  Asymmetrique Profile Score  \\\n",
       "0                         15.0                        15.0   \n",
       "1                         15.0                        15.0   \n",
       "2                         14.0                        20.0   \n",
       "3                         13.0                        17.0   \n",
       "4                         15.0                        18.0   \n",
       "\n",
       "  I agree to pay the amount through cheque  \\\n",
       "0                                       No   \n",
       "1                                       No   \n",
       "2                                       No   \n",
       "3                                       No   \n",
       "4                                       No   \n",
       "\n",
       "  A free copy of Mastering The Interview Last Notable Activity  \n",
       "0                                     No              Modified  \n",
       "1                                     No          Email Opened  \n",
       "2                                    Yes          Email Opened  \n",
       "3                                     No              Modified  \n",
       "4                                     No              Modified  "
      ]
     },
     "execution_count": 6,
     "metadata": {},
     "output_type": "execute_result"
    }
   ],
   "source": [
    "df.head()"
   ]
  },
  {
   "cell_type": "markdown",
   "metadata": {},
   "source": [
    "As we see that some columns have Select value which is as null values and hence we will replace these values"
   ]
  },
  {
   "cell_type": "code",
   "execution_count": 7,
   "metadata": {},
   "outputs": [],
   "source": [
    "df=df.replace(\"Select\",np.nan)"
   ]
  },
  {
   "cell_type": "markdown",
   "metadata": {},
   "source": [
    "### Feature Engineering\n",
    "\n",
    "#### We are creating a variable called Null_Count which calculates the number of missing values for each lead. We think it is important as to what amount of information the customer is giving with regards to the conversion rate. "
   ]
  },
  {
   "cell_type": "code",
   "execution_count": 8,
   "metadata": {},
   "outputs": [],
   "source": [
    "df[\"Null_Count\"] = df.isnull().sum(axis = 1)"
   ]
  },
  {
   "cell_type": "markdown",
   "metadata": {},
   "source": [
    "### Let's now inspect all the variables and see how many unique values these columns have"
   ]
  },
  {
   "cell_type": "code",
   "execution_count": 9,
   "metadata": {
    "scrolled": false
   },
   "outputs": [
    {
     "data": {
      "text/plain": [
       "Prospect ID                                      9240\n",
       "Lead Number                                      9240\n",
       "Lead Origin                                         5\n",
       "Lead Source                                        22\n",
       "Do Not Email                                        2\n",
       "Do Not Call                                         2\n",
       "Converted                                           2\n",
       "TotalVisits                                        42\n",
       "Total Time Spent on Website                      1731\n",
       "Page Views Per Visit                              115\n",
       "Last Activity                                      18\n",
       "Country                                            39\n",
       "Specialization                                     19\n",
       "How did you hear about X Education                 10\n",
       "What is your current occupation                     7\n",
       "What matters most to you in choosing a course       4\n",
       "Search                                              2\n",
       "Magazine                                            1\n",
       "Newspaper Article                                   2\n",
       "X Education Forums                                  2\n",
       "Newspaper                                           2\n",
       "Digital Advertisement                               2\n",
       "Through Recommendations                             2\n",
       "Receive More Updates About Our Courses              1\n",
       "Tags                                               27\n",
       "Lead Quality                                        6\n",
       "Update me on Supply Chain Content                   1\n",
       "Get updates on DM Content                           1\n",
       "Lead Profile                                        6\n",
       "City                                                7\n",
       "Asymmetrique Activity Index                         4\n",
       "Asymmetrique Profile Index                          4\n",
       "Asymmetrique Activity Score                        13\n",
       "Asymmetrique Profile Score                         11\n",
       "I agree to pay the amount through cheque            1\n",
       "A free copy of Mastering The Interview              2\n",
       "Last Notable Activity                              16\n",
       "Null_Count                                         16\n",
       "dtype: int64"
      ]
     },
     "execution_count": 9,
     "metadata": {},
     "output_type": "execute_result"
    }
   ],
   "source": [
    "df.nunique(dropna = False)"
   ]
  },
  {
   "cell_type": "markdown",
   "metadata": {},
   "source": [
    "#### As the number of unique values for Prospect ID, Lead Number = 9240, i.e all values are unique and hence we'll drop these columns as they as of little use to us.\n",
    "#### Also some columns have only one unique value and these columns would also be of least importance to our analysis and hence we'll delete these columns."
   ]
  },
  {
   "cell_type": "code",
   "execution_count": 10,
   "metadata": {},
   "outputs": [],
   "source": [
    "df.index = df[\"Lead Number\"]"
   ]
  },
  {
   "cell_type": "code",
   "execution_count": 11,
   "metadata": {},
   "outputs": [],
   "source": [
    "for i in df.columns:\n",
    "    if (df[i].nunique()) == 1 or (df[i].nunique() == df.shape[0]):\n",
    "        df.drop(i, axis = 1, inplace = True)"
   ]
  },
  {
   "cell_type": "code",
   "execution_count": 12,
   "metadata": {},
   "outputs": [
    {
     "data": {
      "text/plain": [
       "(9240, 31)"
      ]
     },
     "execution_count": 12,
     "metadata": {},
     "output_type": "execute_result"
    }
   ],
   "source": [
    "df.shape"
   ]
  },
  {
   "cell_type": "markdown",
   "metadata": {},
   "source": [
    "### We'll now look for missing values in our data"
   ]
  },
  {
   "cell_type": "code",
   "execution_count": 13,
   "metadata": {
    "scrolled": false
   },
   "outputs": [
    {
     "data": {
      "text/plain": [
       "How did you hear about X Education               78.463203\n",
       "Lead Profile                                     74.188312\n",
       "Lead Quality                                     51.590909\n",
       "Asymmetrique Profile Score                       45.649351\n",
       "Asymmetrique Activity Score                      45.649351\n",
       "Asymmetrique Profile Index                       45.649351\n",
       "Asymmetrique Activity Index                      45.649351\n",
       "City                                             39.707792\n",
       "Specialization                                   36.580087\n",
       "Tags                                             36.287879\n",
       "What matters most to you in choosing a course    29.318182\n",
       "What is your current occupation                  29.112554\n",
       "Country                                          26.634199\n",
       "TotalVisits                                       1.482684\n",
       "Page Views Per Visit                              1.482684\n",
       "Last Activity                                     1.114719\n",
       "Lead Source                                       0.389610\n",
       "Null_Count                                        0.000000\n",
       "Total Time Spent on Website                       0.000000\n",
       "Converted                                         0.000000\n",
       "Do Not Call                                       0.000000\n",
       "Do Not Email                                      0.000000\n",
       "Newspaper Article                                 0.000000\n",
       "Search                                            0.000000\n",
       "Last Notable Activity                             0.000000\n",
       "X Education Forums                                0.000000\n",
       "Newspaper                                         0.000000\n",
       "Digital Advertisement                             0.000000\n",
       "Through Recommendations                           0.000000\n",
       "A free copy of Mastering The Interview            0.000000\n",
       "Lead Origin                                       0.000000\n",
       "dtype: float64"
      ]
     },
     "execution_count": 13,
     "metadata": {},
     "output_type": "execute_result"
    }
   ],
   "source": [
    "null_percent = (df.isnull().sum()/df.shape[0]*100).sort_values(ascending=False)\n",
    "null_percent"
   ]
  },
  {
   "cell_type": "markdown",
   "metadata": {},
   "source": [
    "#### Looking at the columns, we take 40% to be the threshold for missing values and we'll drop all the columns that have more than 40% of missing values."
   ]
  },
  {
   "cell_type": "code",
   "execution_count": 14,
   "metadata": {},
   "outputs": [],
   "source": [
    "# Dropping the columns with more than 45% Null values.\n",
    "for i in null_percent.index:\n",
    "    if null_percent[i]>40:\n",
    "        df.drop(i,axis=1,inplace=True)"
   ]
  },
  {
   "cell_type": "code",
   "execution_count": 15,
   "metadata": {},
   "outputs": [
    {
     "data": {
      "text/plain": [
       "(9240, 24)"
      ]
     },
     "execution_count": 15,
     "metadata": {},
     "output_type": "execute_result"
    }
   ],
   "source": [
    "df.shape"
   ]
  },
  {
   "cell_type": "markdown",
   "metadata": {},
   "source": [
    "#### Now that we have removed all the unnecessary columns, we'll go ahead and look at the remaining columns individually, remove the missing values from them, explore them for EDA and make them ready for the regression. "
   ]
  },
  {
   "cell_type": "markdown",
   "metadata": {},
   "source": [
    "## Missing value treatment, Data Preprocessing and Exploratory data analysis"
   ]
  },
  {
   "cell_type": "code",
   "execution_count": 16,
   "metadata": {},
   "outputs": [],
   "source": [
    "# Renaming the columns for our convinience.\n",
    "df.columns = ['Lead Origin', 'Lead Source', 'Do Not Email', 'Do Not Call',\n",
    "       'Converted', 'TotalVisits', 'Total Time Spent on Website',\n",
    "       'Page Views Per Visit', 'Last Activity', 'Country', 'Specialization',\n",
    "       'Current occupation', 'Reason_choose_course', 'Search',\n",
    "       'Newspaper Article', 'X Education Forums', 'Newspaper',\n",
    "       'Digital Advertisement', 'Through Recommendations', 'Tags', 'City',\n",
    "       'Mastering_Interview_Copy', 'Last Notable Activity', 'Null_Count']"
   ]
  },
  {
   "cell_type": "code",
   "execution_count": 17,
   "metadata": {
    "scrolled": false
   },
   "outputs": [
    {
     "data": {
      "text/plain": [
       "City                           39.707792\n",
       "Specialization                 36.580087\n",
       "Tags                           36.287879\n",
       "Reason_choose_course           29.318182\n",
       "Current occupation             29.112554\n",
       "Country                        26.634199\n",
       "TotalVisits                     1.482684\n",
       "Page Views Per Visit            1.482684\n",
       "Last Activity                   1.114719\n",
       "Lead Source                     0.389610\n",
       "Do Not Email                    0.000000\n",
       "Do Not Call                     0.000000\n",
       "Converted                       0.000000\n",
       "Total Time Spent on Website     0.000000\n",
       "Null_Count                      0.000000\n",
       "Last Notable Activity           0.000000\n",
       "Search                          0.000000\n",
       "Newspaper Article               0.000000\n",
       "X Education Forums              0.000000\n",
       "Newspaper                       0.000000\n",
       "Digital Advertisement           0.000000\n",
       "Through Recommendations         0.000000\n",
       "Mastering_Interview_Copy        0.000000\n",
       "Lead Origin                     0.000000\n",
       "dtype: float64"
      ]
     },
     "execution_count": 17,
     "metadata": {},
     "output_type": "execute_result"
    }
   ],
   "source": [
    " (df.isnull().sum()/df.shape[0]*100).sort_values(ascending=False)"
   ]
  },
  {
   "cell_type": "code",
   "execution_count": 18,
   "metadata": {},
   "outputs": [],
   "source": [
    "# Function for plotting conversion rate for all the levels of different categorical features.\n",
    "def eda(i):\n",
    "    conversion = df[df.Converted == 1][i].value_counts()/df[i].value_counts()*100\n",
    "    conversion = conversion.sort_values(ascending = False)\n",
    "    plt.figure(figsize = [8,6])\n",
    "    sns.barplot(x = conversion.index, y = conversion.values)\n",
    "    plt.xticks(rotation = 90)\n",
    "    plt.ylabel(\"Conversion Rate\")\n",
    "    plt.title(\"Conversion rate for Different %s\"%i, fontsize=16)\n",
    "    plt.show()"
   ]
  },
  {
   "cell_type": "code",
   "execution_count": 19,
   "metadata": {},
   "outputs": [],
   "source": [
    "# Function to calculate conversion percentage for each categorical variable.\n",
    "def conversion_percent(i):\n",
    "    conversion = df[df.Converted == 1][i].value_counts()/df[i].value_counts()*100\n",
    "    conversion = conversion.sort_values(ascending = False)\n",
    "    return conversion\n",
    "    "
   ]
  },
  {
   "cell_type": "markdown",
   "metadata": {},
   "source": [
    "### City"
   ]
  },
  {
   "cell_type": "code",
   "execution_count": 20,
   "metadata": {
    "scrolled": false
   },
   "outputs": [
    {
     "data": {
      "text/plain": [
       "NaN                            3669\n",
       "Mumbai                         3222\n",
       "Thane & Outskirts               752\n",
       "Other Cities                    686\n",
       "Other Cities of Maharashtra     457\n",
       "Other Metro Cities              380\n",
       "Tier II Cities                   74\n",
       "Name: City, dtype: int64"
      ]
     },
     "execution_count": 20,
     "metadata": {},
     "output_type": "execute_result"
    }
   ],
   "source": [
    "df[\"City\"].value_counts(dropna = False)"
   ]
  },
  {
   "cell_type": "markdown",
   "metadata": {},
   "source": [
    "#### As the number of missing values are more than the mode, it wouldn't be appropriate to replace them with the mode and hence we'll replace the missing values with \"Not Specified\""
   ]
  },
  {
   "cell_type": "code",
   "execution_count": 21,
   "metadata": {},
   "outputs": [],
   "source": [
    "df.City = df.City.fillna(\"Not Specified\")"
   ]
  },
  {
   "cell_type": "code",
   "execution_count": 22,
   "metadata": {},
   "outputs": [
    {
     "data": {
      "text/plain": [
       "0    5679\n",
       "1    3561\n",
       "Name: Converted, dtype: int64"
      ]
     },
     "execution_count": 22,
     "metadata": {},
     "output_type": "execute_result"
    }
   ],
   "source": [
    "df.Converted.value_counts()"
   ]
  },
  {
   "cell_type": "code",
   "execution_count": 23,
   "metadata": {
    "scrolled": false
   },
   "outputs": [
    {
     "data": {
      "image/png": "[encoded data removed]",
      "text/plain": [
       "<Figure size 576x432 with 1 Axes>"
      ]
     },
     "metadata": {
      "needs_background": "light"
     },
     "output_type": "display_data"
    }
   ],
   "source": [
    "eda(\"City\")"
   ]
  },
  {
   "cell_type": "code",
   "execution_count": 24,
   "metadata": {},
   "outputs": [
    {
     "data": {
      "text/plain": [
       "Thane & Outskirts              44.946809\n",
       "Other Cities of Maharashtra    43.982495\n",
       "Other Metro Cities             40.789474\n",
       "Mumbai                         40.626940\n",
       "Other Cities                   40.233236\n",
       "Not Specified                  34.260016\n",
       "Tier II Cities                 33.783784\n",
       "Name: City, dtype: float64"
      ]
     },
     "execution_count": 24,
     "metadata": {},
     "output_type": "execute_result"
    }
   ],
   "source": [
    "conversion_percent(\"City\")"
   ]
  },
  {
   "cell_type": "markdown",
   "metadata": {},
   "source": [
    "#### The conversion rate for all of the cities is above 30%, however, conversion rate for Thane and Outsirts is  45 % while conversion rate for Tier 2 cities is less than 35%. "
   ]
  },
  {
   "cell_type": "markdown",
   "metadata": {},
   "source": [
    "### Specialization"
   ]
  },
  {
   "cell_type": "code",
   "execution_count": 25,
   "metadata": {},
   "outputs": [
    {
     "data": {
      "text/plain": [
       "NaN                                  3380\n",
       "Finance Management                    976\n",
       "Human Resource Management             848\n",
       "Marketing Management                  838\n",
       "Operations Management                 503\n",
       "Business Administration               403\n",
       "IT Projects Management                366\n",
       "Supply Chain Management               349\n",
       "Banking, Investment And Insurance     338\n",
       "Media and Advertising                 203\n",
       "Travel and Tourism                    203\n",
       "International Business                178\n",
       "Healthcare Management                 159\n",
       "Hospitality Management                114\n",
       "E-COMMERCE                            112\n",
       "Retail Management                     100\n",
       "Rural and Agribusiness                 73\n",
       "E-Business                             57\n",
       "Services Excellence                    40\n",
       "Name: Specialization, dtype: int64"
      ]
     },
     "execution_count": 25,
     "metadata": {},
     "output_type": "execute_result"
    }
   ],
   "source": [
    "df.Specialization.value_counts(dropna = False)"
   ]
  },
  {
   "cell_type": "markdown",
   "metadata": {},
   "source": [
    "#### As the number of missing values are more than the mode, it wouldn't be appropriate to replace them with the mode and hence we'll replace the missing values with \"Not Specified\""
   ]
  },
  {
   "cell_type": "code",
   "execution_count": 26,
   "metadata": {},
   "outputs": [],
   "source": [
    "df.Specialization = df.Specialization.fillna(\"Not Specified\")"
   ]
  },
  {
   "cell_type": "code",
   "execution_count": 27,
   "metadata": {
    "scrolled": false
   },
   "outputs": [
    {
     "data": {
      "image/png": "[encoded data removed]",
      "text/plain": [
       "<Figure size 576x432 with 1 Axes>"
      ]
     },
     "metadata": {
      "needs_background": "light"
     },
     "output_type": "display_data"
    }
   ],
   "source": [
    "eda(\"Specialization\")"
   ]
  },
  {
   "cell_type": "code",
   "execution_count": 28,
   "metadata": {},
   "outputs": [
    {
     "data": {
      "text/plain": [
       "Healthcare Management                49.685535\n",
       "Banking, Investment And Insurance    49.408284\n",
       "Marketing Management                 48.687351\n",
       "Operations Management                47.316103\n",
       "Human Resource Management            45.754717\n",
       "Finance Management                   44.672131\n",
       "Business Administration              44.416873\n",
       "Supply Chain Management              43.266476\n",
       "Rural and Agribusiness               42.465753\n",
       "Hospitality Management               42.105263\n",
       "Media and Advertising                41.871921\n",
       "IT Projects Management               38.251366\n",
       "E-Business                           36.842105\n",
       "International Business               35.955056\n",
       "E-COMMERCE                           35.714286\n",
       "Travel and Tourism                   35.467980\n",
       "Retail Management                    34.000000\n",
       "Not Specified                        28.668639\n",
       "Services Excellence                  27.500000\n",
       "Name: Specialization, dtype: float64"
      ]
     },
     "execution_count": 28,
     "metadata": {},
     "output_type": "execute_result"
    }
   ],
   "source": [
    "conversion_percent(\"Specialization\")"
   ]
  },
  {
   "cell_type": "markdown",
   "metadata": {},
   "source": [
    "#### Here we see that there are 19 levels for the column specialization and we would need to create dummy variables for our logistic regression model, it would make our model very complex. We can see that all the Management specializations have nearly similar conversion rate, we will club these levels. We will also club E-Business and E-Commerce as they are similar specialization."
   ]
  },
  {
   "cell_type": "code",
   "execution_count": 29,
   "metadata": {},
   "outputs": [],
   "source": [
    "df['Specialization'] = df['Specialization'].apply(lambda x:'Management' if x.find('Management')>-1 else x)\n",
    "df['Specialization'] = df['Specialization'].apply(lambda x:'E-Commerce' if x.find('E-')>-1 else x)"
   ]
  },
  {
   "cell_type": "code",
   "execution_count": 30,
   "metadata": {},
   "outputs": [
    {
     "data": {
      "image/png": "[encoded data removed]",
      "text/plain": [
       "<Figure size 576x432 with 1 Axes>"
      ]
     },
     "metadata": {
      "needs_background": "light"
     },
     "output_type": "display_data"
    }
   ],
   "source": [
    "eda(\"Specialization\")"
   ]
  },
  {
   "cell_type": "markdown",
   "metadata": {},
   "source": [
    "#### As we see here, Banking and Management have a conversion rate of nearly 50% whereas Services Excellence has a conversion rate less than 30%."
   ]
  },
  {
   "cell_type": "markdown",
   "metadata": {},
   "source": [
    "### Tags"
   ]
  },
  {
   "cell_type": "code",
   "execution_count": 31,
   "metadata": {
    "scrolled": false
   },
   "outputs": [
    {
     "data": {
      "text/plain": [
       "NaN                                                  3353\n",
       "Will revert after reading the email                  2072\n",
       "Ringing                                              1203\n",
       "Interested in other courses                           513\n",
       "Already a student                                     465\n",
       "Closed by Horizzon                                    358\n",
       "switched off                                          240\n",
       "Busy                                                  186\n",
       "Lost to EINS                                          175\n",
       "Not doing further education                           145\n",
       "Interested  in full time MBA                          117\n",
       "Graduation in progress                                111\n",
       "invalid number                                         83\n",
       "Diploma holder (Not Eligible)                          63\n",
       "wrong number given                                     47\n",
       "opp hangup                                             33\n",
       "number not provided                                    27\n",
       "in touch with EINS                                     12\n",
       "Lost to Others                                          7\n",
       "Still Thinking                                          6\n",
       "Want to take admission but has financial problems       6\n",
       "Interested in Next batch                                5\n",
       "In confusion whether part time or DLP                   5\n",
       "Lateral student                                         3\n",
       "University not recognized                               2\n",
       "Shall take in the next coming month                     2\n",
       "Recognition issue (DEC approval)                        1\n",
       "Name: Tags, dtype: int64"
      ]
     },
     "execution_count": 31,
     "metadata": {},
     "output_type": "execute_result"
    }
   ],
   "source": [
    "df.Tags.value_counts(dropna = False)"
   ]
  },
  {
   "cell_type": "code",
   "execution_count": 32,
   "metadata": {},
   "outputs": [],
   "source": [
    "df.Tags = df.Tags.fillna(\"Not Specified\")"
   ]
  },
  {
   "cell_type": "code",
   "execution_count": 33,
   "metadata": {},
   "outputs": [
    {
     "data": {
      "text/plain": [
       "Converted                                            1.000000\n",
       "Will revert after reading the email                  0.644307\n",
       "Closed by Horizzon                                   0.251229\n",
       "Lost to EINS                                         0.168937\n",
       "Busy                                                 0.052753\n",
       "Interested in Next batch                             0.029384\n",
       "Lateral student                                      0.022759\n",
       "Shall take in the next coming month                  0.003465\n",
       "Want to take admission but has financial problems   -0.002726\n",
       "Recognition issue (DEC approval)                    -0.008238\n",
       "In confusion whether part time or DLP               -0.008863\n",
       "in touch with EINS                                  -0.010032\n",
       "Still Thinking                                      -0.011456\n",
       "University not recognized                           -0.011651\n",
       "Lost to Others                                      -0.021804\n",
       "opp hangup                                          -0.036225\n",
       "number not provided                                 -0.042868\n",
       "wrong number given                                  -0.056620\n",
       "Diploma holder (Not Eligible)                       -0.062908\n",
       "Graduation in progress                              -0.073029\n",
       "invalid number                                      -0.073033\n",
       "Interested  in full time MBA                        -0.083709\n",
       "Not doing further education                         -0.098195\n",
       "switched off                                        -0.123718\n",
       "Already a student                                   -0.179234\n",
       "Interested in other courses                         -0.179365\n",
       "Not Specified                                       -0.210985\n",
       "Ringing                                             -0.283895\n",
       "Name: Converted, dtype: float64"
      ]
     },
     "execution_count": 33,
     "metadata": {},
     "output_type": "execute_result"
    }
   ],
   "source": [
    "Tags_Dummy = pd.get_dummies(df.Tags)\n",
    "Tags_Dummy[\"Converted\"] = df.Converted\n",
    "Tags_Corr = Tags_Dummy.corr()[\"Converted\"].sort_values(ascending = False)\n",
    "Tags_Corr"
   ]
  },
  {
   "cell_type": "markdown",
   "metadata": {},
   "source": [
    "#### Here we see that there are 27 levels for the column Tags and we would need to create dummy variables for our logistic regression model, it would make our model very complex. We can see that multiple levels share similar relationship with conversions, we will club these levels."
   ]
  },
  {
   "cell_type": "code",
   "execution_count": 34,
   "metadata": {},
   "outputs": [],
   "source": [
    "df.Tags = df.Tags.apply(lambda x: \"Other_Tags\" if x in list(Tags_Corr[abs(Tags_Corr) < 0.15 ].index) else x)"
   ]
  },
  {
   "cell_type": "code",
   "execution_count": 35,
   "metadata": {},
   "outputs": [
    {
     "data": {
      "image/png": "[encoded data removed]",
      "text/plain": [
       "<Figure size 576x432 with 1 Axes>"
      ]
     },
     "metadata": {
      "needs_background": "light"
     },
     "output_type": "display_data"
    }
   ],
   "source": [
    "eda(\"Tags\")"
   ]
  },
  {
   "cell_type": "markdown",
   "metadata": {},
   "source": [
    "#### This looks very interesting. Three categories here have conversion rate more than 95% whereas other categories have a very low conversion. This seems like an important variable."
   ]
  },
  {
   "cell_type": "markdown",
   "metadata": {},
   "source": [
    "### Why did you choose the course?"
   ]
  },
  {
   "cell_type": "code",
   "execution_count": 36,
   "metadata": {
    "scrolled": true
   },
   "outputs": [
    {
     "data": {
      "text/plain": [
       "Better Career Prospects      6528\n",
       "NaN                          2709\n",
       "Flexibility & Convenience       2\n",
       "Other                           1\n",
       "Name: Reason_choose_course, dtype: int64"
      ]
     },
     "execution_count": 36,
     "metadata": {},
     "output_type": "execute_result"
    }
   ],
   "source": [
    "df.Reason_choose_course.value_counts(dropna = False)"
   ]
  },
  {
   "cell_type": "markdown",
   "metadata": {},
   "source": [
    "#### As almost all the leads choose Better Career Prospects as the reason of choosing course, this variables looks of little importance and hence we'll drop the variable."
   ]
  },
  {
   "cell_type": "code",
   "execution_count": 37,
   "metadata": {},
   "outputs": [],
   "source": [
    "df.drop(\"Reason_choose_course\", axis = 1, inplace = True)"
   ]
  },
  {
   "cell_type": "markdown",
   "metadata": {},
   "source": [
    "### Current Occupation"
   ]
  },
  {
   "cell_type": "code",
   "execution_count": 38,
   "metadata": {},
   "outputs": [
    {
     "data": {
      "text/plain": [
       "Unemployed              5600\n",
       "NaN                     2690\n",
       "Working Professional     706\n",
       "Student                  210\n",
       "Other                     16\n",
       "Housewife                 10\n",
       "Businessman                8\n",
       "Name: Current occupation, dtype: int64"
      ]
     },
     "execution_count": 38,
     "metadata": {},
     "output_type": "execute_result"
    }
   ],
   "source": [
    "df[\"Current occupation\"].value_counts(dropna = False)"
   ]
  },
  {
   "cell_type": "code",
   "execution_count": 39,
   "metadata": {},
   "outputs": [],
   "source": [
    "#Imputing null values with Unemplyoed\n",
    "df['Current occupation'] = df['Current occupation'].replace(np.nan, 'Unemployed')"
   ]
  },
  {
   "cell_type": "markdown",
   "metadata": {},
   "source": [
    "#### We are also going to group Housewife, Other and Businessman to one category as the number of leads for these categories are very low"
   ]
  },
  {
   "cell_type": "code",
   "execution_count": 40,
   "metadata": {},
   "outputs": [],
   "source": [
    "df[\"Current occupation\"] = df[\"Current occupation\"].apply(lambda x: \"Other_Occupation\" if x in [\"Housewife\", \"Other\", \"Businessman\"] else x)"
   ]
  },
  {
   "cell_type": "code",
   "execution_count": 41,
   "metadata": {},
   "outputs": [
    {
     "data": {
      "image/png": "[encoded data removed]",
      "text/plain": [
       "<Figure size 576x432 with 1 Axes>"
      ]
     },
     "metadata": {
      "needs_background": "light"
     },
     "output_type": "display_data"
    }
   ],
   "source": [
    "eda(\"Current occupation\")"
   ]
  },
  {
   "cell_type": "code",
   "execution_count": 42,
   "metadata": {},
   "outputs": [
    {
     "data": {
      "text/plain": [
       "Working Professional    91.643059\n",
       "Other_Occupation        73.529412\n",
       "Student                 37.142857\n",
       "Unemployed              33.908323\n",
       "Name: Current occupation, dtype: float64"
      ]
     },
     "execution_count": 42,
     "metadata": {},
     "output_type": "execute_result"
    }
   ],
   "source": [
    "conversion_percent(\"Current occupation\")"
   ]
  },
  {
   "cell_type": "markdown",
   "metadata": {},
   "source": [
    "#### We see here that the conversion rate is as high as 91% where as it is as low as 33% for unemployed."
   ]
  },
  {
   "cell_type": "markdown",
   "metadata": {},
   "source": [
    "### Country"
   ]
  },
  {
   "cell_type": "code",
   "execution_count": 43,
   "metadata": {},
   "outputs": [
    {
     "data": {
      "text/plain": [
       "India                   6492\n",
       "NaN                     2461\n",
       "United States             69\n",
       "United Arab Emirates      53\n",
       "Singapore                 24\n",
       "Saudi Arabia              21\n",
       "United Kingdom            15\n",
       "Australia                 13\n",
       "Qatar                     10\n",
       "Hong Kong                  7\n",
       "Bahrain                    7\n",
       "Oman                       6\n",
       "France                     6\n",
       "unknown                    5\n",
       "Kuwait                     4\n",
       "South Africa               4\n",
       "Canada                     4\n",
       "Nigeria                    4\n",
       "Germany                    4\n",
       "Sweden                     3\n",
       "Bangladesh                 2\n",
       "Netherlands                2\n",
       "China                      2\n",
       "Uganda                     2\n",
       "Philippines                2\n",
       "Belgium                    2\n",
       "Ghana                      2\n",
       "Italy                      2\n",
       "Asia/Pacific Region        2\n",
       "Switzerland                1\n",
       "Sri Lanka                  1\n",
       "Indonesia                  1\n",
       "Malaysia                   1\n",
       "Liberia                    1\n",
       "Russia                     1\n",
       "Denmark                    1\n",
       "Tanzania                   1\n",
       "Kenya                      1\n",
       "Vietnam                    1\n",
       "Name: Country, dtype: int64"
      ]
     },
     "execution_count": 43,
     "metadata": {},
     "output_type": "execute_result"
    }
   ],
   "source": [
    "df.Country.value_counts(dropna = False)"
   ]
  },
  {
   "cell_type": "markdown",
   "metadata": {},
   "source": [
    "#### We will group countries other than India as they are very less and it wont make sense to individually make their dummies."
   ]
  },
  {
   "cell_type": "code",
   "execution_count": 44,
   "metadata": {},
   "outputs": [],
   "source": [
    "df.Country = df.Country.apply(lambda x: \"Other_Countries\" if x not in [\"India\", np.nan] else x)"
   ]
  },
  {
   "cell_type": "code",
   "execution_count": 45,
   "metadata": {},
   "outputs": [
    {
     "data": {
      "text/plain": [
       "India              6492\n",
       "Other_Countries     287\n",
       "Name: Country, dtype: int64"
      ]
     },
     "execution_count": 45,
     "metadata": {},
     "output_type": "execute_result"
    }
   ],
   "source": [
    "df.Country.value_counts()"
   ]
  },
  {
   "cell_type": "code",
   "execution_count": 46,
   "metadata": {},
   "outputs": [
    {
     "data": {
      "image/png": "[encoded data removed]",
      "text/plain": [
       "<Figure size 576x432 with 1 Axes>"
      ]
     },
     "metadata": {
      "needs_background": "light"
     },
     "output_type": "display_data"
    }
   ],
   "source": [
    "eda(\"Country\")"
   ]
  },
  {
   "cell_type": "code",
   "execution_count": 47,
   "metadata": {},
   "outputs": [
    {
     "data": {
      "text/plain": [
       "India              36.983980\n",
       "Other_Countries    29.268293\n",
       "Name: Country, dtype: float64"
      ]
     },
     "execution_count": 47,
     "metadata": {},
     "output_type": "execute_result"
    }
   ],
   "source": [
    "conversion_percent(\"Country\")"
   ]
  },
  {
   "cell_type": "markdown",
   "metadata": {},
   "source": [
    "#### It seems like the country is India based and if we replace the null values with India, it will constitute of more than 95% of the data whichcould render the variable useless and hence we'll drop it."
   ]
  },
  {
   "cell_type": "code",
   "execution_count": 48,
   "metadata": {},
   "outputs": [],
   "source": [
    "df.drop(\"Country\", axis = 1, inplace = True)"
   ]
  },
  {
   "cell_type": "markdown",
   "metadata": {},
   "source": [
    "### Total Visits"
   ]
  },
  {
   "cell_type": "code",
   "execution_count": 49,
   "metadata": {
    "scrolled": true
   },
   "outputs": [
    {
     "data": {
      "text/plain": [
       "count    9103.000000\n",
       "mean        3.445238\n",
       "std         4.854853\n",
       "min         0.000000\n",
       "25%         1.000000\n",
       "50%         3.000000\n",
       "75%         5.000000\n",
       "max       251.000000\n",
       "Name: TotalVisits, dtype: float64"
      ]
     },
     "execution_count": 49,
     "metadata": {},
     "output_type": "execute_result"
    }
   ],
   "source": [
    "df.TotalVisits.describe()"
   ]
  },
  {
   "cell_type": "markdown",
   "metadata": {},
   "source": [
    "#### Here, total visits seems to have outlier as the maximum value of visits in 251 compared to 5 visits as 75th Quantile. Hence we are going to replace the null values with the median."
   ]
  },
  {
   "cell_type": "code",
   "execution_count": 50,
   "metadata": {},
   "outputs": [],
   "source": [
    "df.TotalVisits = df.TotalVisits.fillna(df.TotalVisits.median())"
   ]
  },
  {
   "cell_type": "markdown",
   "metadata": {},
   "source": [
    "#### We will also treat the outliers here by capping the variable by the 95th percentile."
   ]
  },
  {
   "cell_type": "code",
   "execution_count": 51,
   "metadata": {},
   "outputs": [],
   "source": [
    "df.TotalVisits[df.TotalVisits > df.TotalVisits.quantile(0.95)] = df.TotalVisits.quantile(0.95)"
   ]
  },
  {
   "cell_type": "code",
   "execution_count": 52,
   "metadata": {
    "scrolled": true
   },
   "outputs": [
    {
     "data": {
      "image/png": "[encoded data removed]",
      "text/plain": [
       "<Figure size 432x288 with 1 Axes>"
      ]
     },
     "metadata": {
      "needs_background": "light"
     },
     "output_type": "display_data"
    }
   ],
   "source": [
    "sns.boxplot(x = df.Converted, y = df.TotalVisits)\n",
    "plt.show()"
   ]
  },
  {
   "cell_type": "markdown",
   "metadata": {},
   "source": [
    "#### We can see from the boxplots that median for the converted and not-converted leads at almost the same but the 75th percentile is slightly greater for the converted leads."
   ]
  },
  {
   "cell_type": "markdown",
   "metadata": {},
   "source": [
    "### Page Views Per Page"
   ]
  },
  {
   "cell_type": "code",
   "execution_count": 53,
   "metadata": {},
   "outputs": [
    {
     "data": {
      "text/plain": [
       "count    9103.000000\n",
       "mean        2.362820\n",
       "std         2.161418\n",
       "min         0.000000\n",
       "25%         1.000000\n",
       "50%         2.000000\n",
       "75%         3.000000\n",
       "max        55.000000\n",
       "Name: Page Views Per Visit, dtype: float64"
      ]
     },
     "execution_count": 53,
     "metadata": {},
     "output_type": "execute_result"
    }
   ],
   "source": [
    "df['Page Views Per Visit'].describe()"
   ]
  },
  {
   "cell_type": "markdown",
   "metadata": {},
   "source": [
    "#### The variable also seems to have outliers and hence we will replace the null values with median."
   ]
  },
  {
   "cell_type": "code",
   "execution_count": 54,
   "metadata": {},
   "outputs": [],
   "source": [
    "df[\"Page Views Per Visit\"] = df[\"Page Views Per Visit\"].fillna(df[\"Page Views Per Visit\"].median())"
   ]
  },
  {
   "cell_type": "code",
   "execution_count": 55,
   "metadata": {},
   "outputs": [
    {
     "data": {
      "text/plain": [
       "0.90    5.0\n",
       "0.95    6.0\n",
       "0.98    8.0\n",
       "0.99    9.0\n",
       "Name: Page Views Per Visit, dtype: float64"
      ]
     },
     "execution_count": 55,
     "metadata": {},
     "output_type": "execute_result"
    }
   ],
   "source": [
    "# This variable also seems to have outliers and hence we'll treat them\n",
    "df['Page Views Per Visit'].quantile([0.9, 0.95, 0.98, 0.99])"
   ]
  },
  {
   "cell_type": "code",
   "execution_count": 56,
   "metadata": {},
   "outputs": [],
   "source": [
    "# Here we will cap the variable with 0.99 percentile.\n",
    "df['Page Views Per Visit'][df['Page Views Per Visit'] > df['Page Views Per Visit'].quantile(0.99)] = df['Page Views Per Visit'].quantile(0.99)"
   ]
  },
  {
   "cell_type": "code",
   "execution_count": 57,
   "metadata": {},
   "outputs": [
    {
     "data": {
      "image/png": "[encoded data removed]",
      "text/plain": [
       "<Figure size 432x288 with 1 Axes>"
      ]
     },
     "metadata": {
      "needs_background": "light"
     },
     "output_type": "display_data"
    }
   ],
   "source": [
    "sns.boxplot(x = df.Converted, y = df['Page Views Per Visit'])\n",
    "plt.show()"
   ]
  },
  {
   "cell_type": "markdown",
   "metadata": {},
   "source": [
    "#### We can see from the boxplots that median for the converted and not-converted leads at almost the same but the 75th percentile is slightly greater for the converted leads."
   ]
  },
  {
   "cell_type": "markdown",
   "metadata": {},
   "source": [
    "### Last Activity"
   ]
  },
  {
   "cell_type": "code",
   "execution_count": 58,
   "metadata": {},
   "outputs": [
    {
     "data": {
      "text/plain": [
       "Email Opened                    3437\n",
       "SMS Sent                        2745\n",
       "Olark Chat Conversation          973\n",
       "Page Visited on Website          640\n",
       "Converted to Lead                428\n",
       "Email Bounced                    326\n",
       "Email Link Clicked               267\n",
       "Form Submitted on Website        116\n",
       "NaN                              103\n",
       "Unreachable                       93\n",
       "Unsubscribed                      61\n",
       "Had a Phone Conversation          30\n",
       "Approached upfront                 9\n",
       "View in browser link Clicked       6\n",
       "Email Marked Spam                  2\n",
       "Email Received                     2\n",
       "Resubscribed to emails             1\n",
       "Visited Booth in Tradeshow         1\n",
       "Name: Last Activity, dtype: int64"
      ]
     },
     "execution_count": 58,
     "metadata": {},
     "output_type": "execute_result"
    }
   ],
   "source": [
    "df[\"Last Activity\"].value_counts(dropna = False)"
   ]
  },
  {
   "cell_type": "markdown",
   "metadata": {},
   "source": [
    "#### We'll replace the null value and club other less frequency values in a level called \"Others\""
   ]
  },
  {
   "cell_type": "code",
   "execution_count": 59,
   "metadata": {},
   "outputs": [],
   "source": [
    "last_act = df[\"Last Activity\"].value_counts()\n",
    "df[\"Last Activity\"] = df[\"Last Activity\"].apply(lambda x: \"Other_Activity\" if x in last_act[last_act < 102].index else x)\n",
    "df[\"Last Activity\"] = df[\"Last Activity\"].fillna(\"Other_Activity\")"
   ]
  },
  {
   "cell_type": "code",
   "execution_count": 60,
   "metadata": {},
   "outputs": [
    {
     "data": {
      "image/png": "[encoded data removed]",
      "text/plain": [
       "<Figure size 576x432 with 1 Axes>"
      ]
     },
     "metadata": {
      "needs_background": "light"
     },
     "output_type": "display_data"
    }
   ],
   "source": [
    "eda(\"Last Activity\")"
   ]
  },
  {
   "cell_type": "markdown",
   "metadata": {},
   "source": [
    "#### The conversion rate is maximum for leads with last Activity SMS sent and is significantly low for when a lead's email is bounced."
   ]
  },
  {
   "cell_type": "markdown",
   "metadata": {},
   "source": [
    "### Lead Source"
   ]
  },
  {
   "cell_type": "code",
   "execution_count": 61,
   "metadata": {
    "scrolled": false
   },
   "outputs": [
    {
     "data": {
      "text/plain": [
       "Google               2868\n",
       "Direct Traffic       2543\n",
       "Olark Chat           1755\n",
       "Organic Search       1154\n",
       "Reference             534\n",
       "Welingak Website      142\n",
       "Referral Sites        125\n",
       "Facebook               55\n",
       "NaN                    36\n",
       "bing                    6\n",
       "google                  5\n",
       "Click2call              4\n",
       "Social Media            2\n",
       "Live Chat               2\n",
       "Press_Release           2\n",
       "blog                    1\n",
       "welearnblog_Home        1\n",
       "WeLearn                 1\n",
       "testone                 1\n",
       "Pay per Click Ads       1\n",
       "youtubechannel          1\n",
       "NC_EDM                  1\n",
       "Name: Lead Source, dtype: int64"
      ]
     },
     "execution_count": 61,
     "metadata": {},
     "output_type": "execute_result"
    }
   ],
   "source": [
    "df[\"Lead Source\"].value_counts(dropna = False)"
   ]
  },
  {
   "cell_type": "markdown",
   "metadata": {},
   "source": [
    "#### Replacing all the less frequency values with Other_Source"
   ]
  },
  {
   "cell_type": "code",
   "execution_count": 62,
   "metadata": {},
   "outputs": [],
   "source": [
    "source = df[\"Lead Source\"].value_counts()\n",
    "df[\"Lead Source\"] = df[\"Lead Source\"].apply(lambda x: \"Other_Source\" if x in source[source < 200].index else x)\n",
    "df[\"Lead Source\"] = df[\"Lead Source\"].fillna(\"Other_Source\")"
   ]
  },
  {
   "cell_type": "code",
   "execution_count": 63,
   "metadata": {},
   "outputs": [
    {
     "data": {
      "image/png": "[encoded data removed]",
      "text/plain": [
       "<Figure size 576x432 with 1 Axes>"
      ]
     },
     "metadata": {
      "needs_background": "light"
     },
     "output_type": "display_data"
    }
   ],
   "source": [
    "eda(\"Lead Source\")"
   ]
  },
  {
   "cell_type": "markdown",
   "metadata": {},
   "source": [
    "#### Conversion rate for people who come in through reference have a very high conversion rate and conversion rate for those who come through Olark Chat is very less."
   ]
  },
  {
   "cell_type": "markdown",
   "metadata": {},
   "source": [
    "### Email"
   ]
  },
  {
   "cell_type": "code",
   "execution_count": 64,
   "metadata": {},
   "outputs": [
    {
     "data": {
      "text/plain": [
       "No     8506\n",
       "Yes     734\n",
       "Name: Do Not Email, dtype: int64"
      ]
     },
     "execution_count": 64,
     "metadata": {},
     "output_type": "execute_result"
    }
   ],
   "source": [
    "df['Do Not Email'].value_counts()"
   ]
  },
  {
   "cell_type": "code",
   "execution_count": 65,
   "metadata": {
    "scrolled": false
   },
   "outputs": [
    {
     "data": {
      "image/png": "[encoded data removed]",
      "text/plain": [
       "<Figure size 576x432 with 1 Axes>"
      ]
     },
     "metadata": {
      "needs_background": "light"
     },
     "output_type": "display_data"
    }
   ],
   "source": [
    "eda(\"Do Not Email\")"
   ]
  },
  {
   "cell_type": "markdown",
   "metadata": {},
   "source": [
    "#### Customers who didn't choose the option \"Do Not Email\" have high conversion rate."
   ]
  },
  {
   "cell_type": "markdown",
   "metadata": {},
   "source": [
    "### Call"
   ]
  },
  {
   "cell_type": "code",
   "execution_count": 66,
   "metadata": {},
   "outputs": [
    {
     "data": {
      "text/plain": [
       "No     9238\n",
       "Yes       2\n",
       "Name: Do Not Call, dtype: int64"
      ]
     },
     "execution_count": 66,
     "metadata": {},
     "output_type": "execute_result"
    }
   ],
   "source": [
    "df['Do Not Call'].value_counts()"
   ]
  },
  {
   "cell_type": "markdown",
   "metadata": {},
   "source": [
    "#### As almost all the values for this column as No, we will drop this column."
   ]
  },
  {
   "cell_type": "code",
   "execution_count": 67,
   "metadata": {},
   "outputs": [],
   "source": [
    "df.drop('Do Not Call', axis = 1, inplace = True)"
   ]
  },
  {
   "cell_type": "markdown",
   "metadata": {},
   "source": [
    "### Total Time Spent on Website"
   ]
  },
  {
   "cell_type": "code",
   "execution_count": 68,
   "metadata": {
    "scrolled": true
   },
   "outputs": [
    {
     "data": {
      "text/plain": [
       "count    9240.000000\n",
       "mean      487.698268\n",
       "std       548.021466\n",
       "min         0.000000\n",
       "25%        12.000000\n",
       "50%       248.000000\n",
       "75%       936.000000\n",
       "max      2272.000000\n",
       "Name: Total Time Spent on Website, dtype: float64"
      ]
     },
     "execution_count": 68,
     "metadata": {},
     "output_type": "execute_result"
    }
   ],
   "source": [
    "df[\"Total Time Spent on Website\"].describe()"
   ]
  },
  {
   "cell_type": "code",
   "execution_count": 69,
   "metadata": {},
   "outputs": [
    {
     "data": {
      "image/png": "[encoded data removed]",
      "text/plain": [
       "<Figure size 432x288 with 1 Axes>"
      ]
     },
     "metadata": {
      "needs_background": "light"
     },
     "output_type": "display_data"
    }
   ],
   "source": [
    "sns.boxplot(df['Total Time Spent on Website'])\n",
    "plt.show()"
   ]
  },
  {
   "cell_type": "markdown",
   "metadata": {},
   "source": [
    "#### As no outliers are visible in the boxplot, the variable doesn't require an outlier treatment."
   ]
  },
  {
   "cell_type": "code",
   "execution_count": 70,
   "metadata": {},
   "outputs": [
    {
     "data": {
      "image/png": "[encoded data removed]",
      "text/plain": [
       "<Figure size 432x288 with 1 Axes>"
      ]
     },
     "metadata": {
      "needs_background": "light"
     },
     "output_type": "display_data"
    }
   ],
   "source": [
    "sns.boxplot(y = df['Total Time Spent on Website'], x = df.Converted)\n",
    "plt.show()"
   ]
  },
  {
   "cell_type": "markdown",
   "metadata": {},
   "source": [
    "#### Leads spending more time on the website are more likely to be converted."
   ]
  },
  {
   "cell_type": "markdown",
   "metadata": {},
   "source": [
    "### Last Notable Activity"
   ]
  },
  {
   "cell_type": "code",
   "execution_count": 71,
   "metadata": {},
   "outputs": [
    {
     "data": {
      "text/plain": [
       "Modified                        3407\n",
       "Email Opened                    2827\n",
       "SMS Sent                        2172\n",
       "Page Visited on Website          318\n",
       "Olark Chat Conversation          183\n",
       "Email Link Clicked               173\n",
       "Email Bounced                     60\n",
       "Unsubscribed                      47\n",
       "Unreachable                       32\n",
       "Had a Phone Conversation          14\n",
       "Email Marked Spam                  2\n",
       "Form Submitted on Website          1\n",
       "Email Received                     1\n",
       "Resubscribed to emails             1\n",
       "Approached upfront                 1\n",
       "View in browser link Clicked       1\n",
       "Name: Last Notable Activity, dtype: int64"
      ]
     },
     "execution_count": 71,
     "metadata": {},
     "output_type": "execute_result"
    }
   ],
   "source": [
    "df[\"Last Notable Activity\"].value_counts()"
   ]
  },
  {
   "cell_type": "markdown",
   "metadata": {},
   "source": [
    "#### This column is very similar to the last activity and hence we'll drop the column."
   ]
  },
  {
   "cell_type": "code",
   "execution_count": 72,
   "metadata": {},
   "outputs": [],
   "source": [
    "df.drop(\"Last Notable Activity\", axis = 1, inplace = True)"
   ]
  },
  {
   "cell_type": "markdown",
   "metadata": {},
   "source": [
    "### Mastering_Interview_Copy"
   ]
  },
  {
   "cell_type": "code",
   "execution_count": 73,
   "metadata": {},
   "outputs": [
    {
     "data": {
      "text/plain": [
       "No     6352\n",
       "Yes    2888\n",
       "Name: Mastering_Interview_Copy, dtype: int64"
      ]
     },
     "execution_count": 73,
     "metadata": {},
     "output_type": "execute_result"
    }
   ],
   "source": [
    "df.Mastering_Interview_Copy.value_counts()"
   ]
  },
  {
   "cell_type": "code",
   "execution_count": 74,
   "metadata": {
    "scrolled": false
   },
   "outputs": [
    {
     "data": {
      "image/png": "[encoded data removed]",
      "text/plain": [
       "<Figure size 576x432 with 1 Axes>"
      ]
     },
     "metadata": {
      "needs_background": "light"
     },
     "output_type": "display_data"
    }
   ],
   "source": [
    "eda('Mastering_Interview_Copy')"
   ]
  },
  {
   "cell_type": "markdown",
   "metadata": {},
   "source": [
    "#### Now, this is interesting, customers who didn't want a free copy of mastering the interview have a higher conversion rate which would have been expected to be other way round."
   ]
  },
  {
   "cell_type": "markdown",
   "metadata": {},
   "source": [
    "### Search"
   ]
  },
  {
   "cell_type": "code",
   "execution_count": 75,
   "metadata": {},
   "outputs": [
    {
     "data": {
      "text/plain": [
       "No     9226\n",
       "Yes      14\n",
       "Name: Search, dtype: int64"
      ]
     },
     "execution_count": 75,
     "metadata": {},
     "output_type": "execute_result"
    }
   ],
   "source": [
    "df.Search.value_counts()"
   ]
  },
  {
   "cell_type": "markdown",
   "metadata": {},
   "source": [
    "#### Dropping the column as majority of the responses are No."
   ]
  },
  {
   "cell_type": "code",
   "execution_count": 76,
   "metadata": {},
   "outputs": [],
   "source": [
    "df.drop(\"Search\", axis = 1, inplace = True)"
   ]
  },
  {
   "cell_type": "markdown",
   "metadata": {},
   "source": [
    "### Newspaper Article"
   ]
  },
  {
   "cell_type": "code",
   "execution_count": 77,
   "metadata": {},
   "outputs": [
    {
     "data": {
      "text/plain": [
       "No     9238\n",
       "Yes       2\n",
       "Name: Newspaper Article, dtype: int64"
      ]
     },
     "execution_count": 77,
     "metadata": {},
     "output_type": "execute_result"
    }
   ],
   "source": [
    "df['Newspaper Article'].value_counts()"
   ]
  },
  {
   "cell_type": "markdown",
   "metadata": {},
   "source": [
    "#### Dropping the column as majority of the responses are No."
   ]
  },
  {
   "cell_type": "code",
   "execution_count": 78,
   "metadata": {},
   "outputs": [],
   "source": [
    "df.drop(\"Newspaper Article\", axis = 1, inplace = True)"
   ]
  },
  {
   "cell_type": "markdown",
   "metadata": {},
   "source": [
    "### X Education Forums"
   ]
  },
  {
   "cell_type": "code",
   "execution_count": 79,
   "metadata": {},
   "outputs": [
    {
     "data": {
      "text/plain": [
       "No     9239\n",
       "Yes       1\n",
       "Name: X Education Forums, dtype: int64"
      ]
     },
     "execution_count": 79,
     "metadata": {},
     "output_type": "execute_result"
    }
   ],
   "source": [
    "df[\"X Education Forums\"].value_counts()"
   ]
  },
  {
   "cell_type": "markdown",
   "metadata": {},
   "source": [
    "#### Dropping the column as majority of the responses are No."
   ]
  },
  {
   "cell_type": "code",
   "execution_count": 80,
   "metadata": {},
   "outputs": [],
   "source": [
    "df.drop(\"X Education Forums\", axis = 1, inplace = True)"
   ]
  },
  {
   "cell_type": "markdown",
   "metadata": {},
   "source": [
    "### Newspaper"
   ]
  },
  {
   "cell_type": "code",
   "execution_count": 81,
   "metadata": {},
   "outputs": [
    {
     "data": {
      "text/plain": [
       "No     9239\n",
       "Yes       1\n",
       "Name: Newspaper, dtype: int64"
      ]
     },
     "execution_count": 81,
     "metadata": {},
     "output_type": "execute_result"
    }
   ],
   "source": [
    "df['Newspaper'].value_counts()"
   ]
  },
  {
   "cell_type": "markdown",
   "metadata": {},
   "source": [
    "#### Dropping the column as majority of the responses are No."
   ]
  },
  {
   "cell_type": "code",
   "execution_count": 82,
   "metadata": {},
   "outputs": [],
   "source": [
    "df.drop(\"Newspaper\", axis = 1, inplace = True)"
   ]
  },
  {
   "cell_type": "markdown",
   "metadata": {},
   "source": [
    "### Digital Advertisement"
   ]
  },
  {
   "cell_type": "code",
   "execution_count": 83,
   "metadata": {},
   "outputs": [
    {
     "data": {
      "text/plain": [
       "No     9236\n",
       "Yes       4\n",
       "Name: Digital Advertisement, dtype: int64"
      ]
     },
     "execution_count": 83,
     "metadata": {},
     "output_type": "execute_result"
    }
   ],
   "source": [
    "df['Digital Advertisement'].value_counts()"
   ]
  },
  {
   "cell_type": "markdown",
   "metadata": {},
   "source": [
    "#### Dropping the column as majority of the responses are No."
   ]
  },
  {
   "cell_type": "code",
   "execution_count": 84,
   "metadata": {},
   "outputs": [],
   "source": [
    "df.drop(\"Digital Advertisement\", axis = 1, inplace = True)"
   ]
  },
  {
   "cell_type": "markdown",
   "metadata": {},
   "source": [
    "### Through Recommendations"
   ]
  },
  {
   "cell_type": "code",
   "execution_count": 85,
   "metadata": {},
   "outputs": [
    {
     "data": {
      "text/plain": [
       "No     9233\n",
       "Yes       7\n",
       "Name: Through Recommendations, dtype: int64"
      ]
     },
     "execution_count": 85,
     "metadata": {},
     "output_type": "execute_result"
    }
   ],
   "source": [
    "df['Through Recommendations'].value_counts()"
   ]
  },
  {
   "cell_type": "markdown",
   "metadata": {},
   "source": [
    "#### Dropping the column as majority of the responses are No."
   ]
  },
  {
   "cell_type": "code",
   "execution_count": 86,
   "metadata": {},
   "outputs": [],
   "source": [
    "df.drop(\"Through Recommendations\", axis = 1, inplace = True)"
   ]
  },
  {
   "cell_type": "markdown",
   "metadata": {},
   "source": [
    "### Lead Origin"
   ]
  },
  {
   "cell_type": "code",
   "execution_count": 87,
   "metadata": {},
   "outputs": [
    {
     "data": {
      "text/plain": [
       "Landing Page Submission    4886\n",
       "API                        3580\n",
       "Lead Add Form               718\n",
       "Lead Import                  55\n",
       "Quick Add Form                1\n",
       "Name: Lead Origin, dtype: int64"
      ]
     },
     "execution_count": 87,
     "metadata": {},
     "output_type": "execute_result"
    }
   ],
   "source": [
    "df['Lead Origin'].value_counts()"
   ]
  },
  {
   "cell_type": "code",
   "execution_count": 88,
   "metadata": {},
   "outputs": [],
   "source": [
    "df = df[~(df['Lead Origin'] == 'Quick Add Form')]"
   ]
  },
  {
   "cell_type": "code",
   "execution_count": 89,
   "metadata": {
    "scrolled": false
   },
   "outputs": [
    {
     "data": {
      "image/png": "[encoded data removed]",
      "text/plain": [
       "<Figure size 576x432 with 1 Axes>"
      ]
     },
     "metadata": {
      "needs_background": "light"
     },
     "output_type": "display_data"
    }
   ],
   "source": [
    "eda('Lead Origin')"
   ]
  },
  {
   "cell_type": "markdown",
   "metadata": {},
   "source": [
    "#### The conversion rate for Lead Add form is maximum (as large as 90%) whereas it's pretty low for other lead origins."
   ]
  },
  {
   "cell_type": "markdown",
   "metadata": {},
   "source": [
    "### Correlation for numerical variables"
   ]
  },
  {
   "cell_type": "code",
   "execution_count": 90,
   "metadata": {
    "scrolled": false
   },
   "outputs": [
    {
     "data": {
      "image/png": "[encoded data removed]",
      "text/plain": [
       "<Figure size 720x432 with 2 Axes>"
      ]
     },
     "metadata": {
      "needs_background": "light"
     },
     "output_type": "display_data"
    }
   ],
   "source": [
    "plt.figure(figsize = [10,6])\n",
    "sns.heatmap(df.corr(), annot = True, cmap=\"YlGnBu\")\n",
    "plt.show()"
   ]
  },
  {
   "cell_type": "markdown",
   "metadata": {},
   "source": [
    "#### Total Visits and Page Views Per Visit are highly correlated and shall cause multicollinearity in our model."
   ]
  },
  {
   "cell_type": "code",
   "execution_count": 91,
   "metadata": {},
   "outputs": [
    {
     "data": {
      "text/plain": [
       "Lead Origin                    0\n",
       "Lead Source                    0\n",
       "Do Not Email                   0\n",
       "Converted                      0\n",
       "TotalVisits                    0\n",
       "Total Time Spent on Website    0\n",
       "Page Views Per Visit           0\n",
       "Last Activity                  0\n",
       "Specialization                 0\n",
       "Current occupation             0\n",
       "Tags                           0\n",
       "City                           0\n",
       "Mastering_Interview_Copy       0\n",
       "Null_Count                     0\n",
       "dtype: int64"
      ]
     },
     "execution_count": 91,
     "metadata": {},
     "output_type": "execute_result"
    }
   ],
   "source": [
    "df.isnull().sum()"
   ]
  },
  {
   "cell_type": "markdown",
   "metadata": {},
   "source": [
    "### Dummy Variable Creation"
   ]
  },
  {
   "cell_type": "code",
   "execution_count": 92,
   "metadata": {
    "scrolled": true
   },
   "outputs": [
    {
     "data": {
      "text/plain": [
       "Index(['Lead Origin', 'Lead Source', 'Do Not Email', 'Converted',\n",
       "       'Last Activity', 'Specialization', 'Current occupation', 'Tags', 'City',\n",
       "       'Mastering_Interview_Copy'],\n",
       "      dtype='object')"
      ]
     },
     "execution_count": 92,
     "metadata": {},
     "output_type": "execute_result"
    }
   ],
   "source": [
    "df[\"Converted\"] = df[\"Converted\"].astype(\"object\")\n",
    "categorical = df.select_dtypes(\"object\").columns\n",
    "categorical"
   ]
  },
  {
   "cell_type": "markdown",
   "metadata": {},
   "source": [
    "### Two of the variables have to be binary mapped here."
   ]
  },
  {
   "cell_type": "code",
   "execution_count": 93,
   "metadata": {},
   "outputs": [],
   "source": [
    "binary = ['Do Not Email', 'Mastering_Interview_Copy']\n",
    "def binary_dummy(x):\n",
    "    return x.map({'Yes': 1, \"No\": 0})\n",
    "df[binary] = df[binary].apply(binary_dummy)"
   ]
  },
  {
   "cell_type": "markdown",
   "metadata": {},
   "source": [
    "### For rest of the variables, we have to create the dummy variables manually."
   ]
  },
  {
   "cell_type": "code",
   "execution_count": 94,
   "metadata": {},
   "outputs": [],
   "source": [
    "dummy = pd.get_dummies(df['Lead Origin'], drop_first=True)\n",
    "df = pd.concat([df, dummy], 1)\n",
    "df.drop(\"Lead Origin\",inplace=True, axis=1)\n",
    "\n",
    "dummy = pd.get_dummies(df['Lead Source'])\n",
    "dummy.drop('Other_Source', axis = 1, inplace = True)\n",
    "df = pd.concat([df, dummy], 1)\n",
    "df.drop(\"Lead Source\",inplace=True, axis=1)\n",
    "\n",
    "dummy = pd.get_dummies(df['Last Activity'])\n",
    "dummy.drop('Other_Activity', axis = 1, inplace = True)\n",
    "df = pd.concat([df, dummy], 1)\n",
    "df.drop(\"Last Activity\",inplace=True, axis=1)\n",
    "\n",
    "dummy = pd.get_dummies(df['Specialization'])\n",
    "dummy.drop('Not Specified', axis = 1, inplace = True)\n",
    "df = pd.concat([df, dummy], 1)\n",
    "df.drop(\"Specialization\",inplace=True, axis=1)\n",
    "\n",
    "dummy = pd.get_dummies(df['Current occupation'])\n",
    "dummy.drop('Other_Occupation', axis = 1, inplace = True)\n",
    "df = pd.concat([df, dummy], 1)\n",
    "df.drop(\"Current occupation\",inplace=True, axis=1)\n",
    "\n",
    "dummy = pd.get_dummies(df['City'])\n",
    "dummy.drop('Not Specified', axis = 1, inplace = True)\n",
    "df = pd.concat([df, dummy], 1)\n",
    "df.drop(\"City\",inplace=True, axis=1)\n",
    "\n",
    "dummy = pd.get_dummies(df['Tags'])\n",
    "dummy.drop('Not Specified', axis = 1, inplace = True)\n",
    "df = pd.concat([df, dummy], 1)\n",
    "df.drop(\"Tags\",inplace=True, axis=1)"
   ]
  },
  {
   "cell_type": "code",
   "execution_count": 95,
   "metadata": {
    "scrolled": false
   },
   "outputs": [
    {
     "name": "stdout",
     "output_type": "stream",
     "text": [
      "<class 'pandas.core.frame.DataFrame'>\n",
      "Int64Index: 9239 entries, 660737 to 579533\n",
      "Data columns (total 48 columns):\n",
      " #   Column                               Non-Null Count  Dtype  \n",
      "---  ------                               --------------  -----  \n",
      " 0   Do Not Email                         9239 non-null   int64  \n",
      " 1   Converted                            9239 non-null   object \n",
      " 2   TotalVisits                          9239 non-null   float64\n",
      " 3   Total Time Spent on Website          9239 non-null   int64  \n",
      " 4   Page Views Per Visit                 9239 non-null   float64\n",
      " 5   Mastering_Interview_Copy             9239 non-null   int64  \n",
      " 6   Null_Count                           9239 non-null   int64  \n",
      " 7   Landing Page Submission              9239 non-null   uint8  \n",
      " 8   Lead Add Form                        9239 non-null   uint8  \n",
      " 9   Lead Import                          9239 non-null   uint8  \n",
      " 10  Direct Traffic                       9239 non-null   uint8  \n",
      " 11  Google                               9239 non-null   uint8  \n",
      " 12  Olark Chat                           9239 non-null   uint8  \n",
      " 13  Organic Search                       9239 non-null   uint8  \n",
      " 14  Reference                            9239 non-null   uint8  \n",
      " 15  Converted to Lead                    9239 non-null   uint8  \n",
      " 16  Email Bounced                        9239 non-null   uint8  \n",
      " 17  Email Link Clicked                   9239 non-null   uint8  \n",
      " 18  Email Opened                         9239 non-null   uint8  \n",
      " 19  Form Submitted on Website            9239 non-null   uint8  \n",
      " 20  Olark Chat Conversation              9239 non-null   uint8  \n",
      " 21  Page Visited on Website              9239 non-null   uint8  \n",
      " 22  SMS Sent                             9239 non-null   uint8  \n",
      " 23  Banking, Investment And Insurance    9239 non-null   uint8  \n",
      " 24  Business Administration              9239 non-null   uint8  \n",
      " 25  E-Commerce                           9239 non-null   uint8  \n",
      " 26  International Business               9239 non-null   uint8  \n",
      " 27  Management                           9239 non-null   uint8  \n",
      " 28  Media and Advertising                9239 non-null   uint8  \n",
      " 29  Rural and Agribusiness               9239 non-null   uint8  \n",
      " 30  Services Excellence                  9239 non-null   uint8  \n",
      " 31  Travel and Tourism                   9239 non-null   uint8  \n",
      " 32  Student                              9239 non-null   uint8  \n",
      " 33  Unemployed                           9239 non-null   uint8  \n",
      " 34  Working Professional                 9239 non-null   uint8  \n",
      " 35  Mumbai                               9239 non-null   uint8  \n",
      " 36  Other Cities                         9239 non-null   uint8  \n",
      " 37  Other Cities of Maharashtra          9239 non-null   uint8  \n",
      " 38  Other Metro Cities                   9239 non-null   uint8  \n",
      " 39  Thane & Outskirts                    9239 non-null   uint8  \n",
      " 40  Tier II Cities                       9239 non-null   uint8  \n",
      " 41  Already a student                    9239 non-null   uint8  \n",
      " 42  Closed by Horizzon                   9239 non-null   uint8  \n",
      " 43  Interested in other courses          9239 non-null   uint8  \n",
      " 44  Lost to EINS                         9239 non-null   uint8  \n",
      " 45  Other_Tags                           9239 non-null   uint8  \n",
      " 46  Ringing                              9239 non-null   uint8  \n",
      " 47  Will revert after reading the email  9239 non-null   uint8  \n",
      "dtypes: float64(2), int64(4), object(1), uint8(41)\n",
      "memory usage: 947.4+ KB\n"
     ]
    }
   ],
   "source": [
    "# Checking the DataFrame\n",
    "df.info()"
   ]
  },
  {
   "cell_type": "markdown",
   "metadata": {},
   "source": [
    "## Splitting the Data into Training and Testing set."
   ]
  },
  {
   "cell_type": "code",
   "execution_count": 96,
   "metadata": {},
   "outputs": [],
   "source": [
    "# We specify this so that the train and test data set always have the same rows, respectively.\n",
    "df_train, df_test = train_test_split(df, train_size = 0.7, test_size = 0.3, random_state = 100)"
   ]
  },
  {
   "cell_type": "markdown",
   "metadata": {},
   "source": [
    "### Rescaling the Features"
   ]
  },
  {
   "cell_type": "code",
   "execution_count": 97,
   "metadata": {},
   "outputs": [],
   "source": [
    "# We will use minmax scaling.\n",
    "Scaler = MinMaxScaler()"
   ]
  },
  {
   "cell_type": "code",
   "execution_count": 98,
   "metadata": {},
   "outputs": [
    {
     "data": {
      "text/html": [
       "<div>\n",
       "<style scoped>\n",
       "    .dataframe tbody tr th:only-of-type {\n",
       "        vertical-align: middle;\n",
       "    }\n",
       "\n",
       "    .dataframe tbody tr th {\n",
       "        vertical-align: top;\n",
       "    }\n",
       "\n",
       "    .dataframe thead th {\n",
       "        text-align: right;\n",
       "    }\n",
       "</style>\n",
       "<table border=\"1\" class=\"dataframe\">\n",
       "  <thead>\n",
       "    <tr style=\"text-align: right;\">\n",
       "      <th></th>\n",
       "      <th>Do Not Email</th>\n",
       "      <th>Converted</th>\n",
       "      <th>TotalVisits</th>\n",
       "      <th>Total Time Spent on Website</th>\n",
       "      <th>Page Views Per Visit</th>\n",
       "      <th>Mastering_Interview_Copy</th>\n",
       "      <th>Null_Count</th>\n",
       "      <th>Landing Page Submission</th>\n",
       "      <th>Lead Add Form</th>\n",
       "      <th>Lead Import</th>\n",
       "      <th>Direct Traffic</th>\n",
       "      <th>Google</th>\n",
       "      <th>Olark Chat</th>\n",
       "      <th>Organic Search</th>\n",
       "      <th>Reference</th>\n",
       "      <th>Converted to Lead</th>\n",
       "      <th>Email Bounced</th>\n",
       "      <th>Email Link Clicked</th>\n",
       "      <th>Email Opened</th>\n",
       "      <th>Form Submitted on Website</th>\n",
       "      <th>Olark Chat Conversation</th>\n",
       "      <th>Page Visited on Website</th>\n",
       "      <th>SMS Sent</th>\n",
       "      <th>Banking, Investment And Insurance</th>\n",
       "      <th>Business Administration</th>\n",
       "      <th>E-Commerce</th>\n",
       "      <th>International Business</th>\n",
       "      <th>Management</th>\n",
       "      <th>Media and Advertising</th>\n",
       "      <th>Rural and Agribusiness</th>\n",
       "      <th>Services Excellence</th>\n",
       "      <th>Travel and Tourism</th>\n",
       "      <th>Student</th>\n",
       "      <th>Unemployed</th>\n",
       "      <th>Working Professional</th>\n",
       "      <th>Mumbai</th>\n",
       "      <th>Other Cities</th>\n",
       "      <th>Other Cities of Maharashtra</th>\n",
       "      <th>Other Metro Cities</th>\n",
       "      <th>Thane &amp; Outskirts</th>\n",
       "      <th>Tier II Cities</th>\n",
       "      <th>Already a student</th>\n",
       "      <th>Closed by Horizzon</th>\n",
       "      <th>Interested in other courses</th>\n",
       "      <th>Lost to EINS</th>\n",
       "      <th>Other_Tags</th>\n",
       "      <th>Ringing</th>\n",
       "      <th>Will revert after reading the email</th>\n",
       "    </tr>\n",
       "    <tr>\n",
       "      <th>Lead Number</th>\n",
       "      <th></th>\n",
       "      <th></th>\n",
       "      <th></th>\n",
       "      <th></th>\n",
       "      <th></th>\n",
       "      <th></th>\n",
       "      <th></th>\n",
       "      <th></th>\n",
       "      <th></th>\n",
       "      <th></th>\n",
       "      <th></th>\n",
       "      <th></th>\n",
       "      <th></th>\n",
       "      <th></th>\n",
       "      <th></th>\n",
       "      <th></th>\n",
       "      <th></th>\n",
       "      <th></th>\n",
       "      <th></th>\n",
       "      <th></th>\n",
       "      <th></th>\n",
       "      <th></th>\n",
       "      <th></th>\n",
       "      <th></th>\n",
       "      <th></th>\n",
       "      <th></th>\n",
       "      <th></th>\n",
       "      <th></th>\n",
       "      <th></th>\n",
       "      <th></th>\n",
       "      <th></th>\n",
       "      <th></th>\n",
       "      <th></th>\n",
       "      <th></th>\n",
       "      <th></th>\n",
       "      <th></th>\n",
       "      <th></th>\n",
       "      <th></th>\n",
       "      <th></th>\n",
       "      <th></th>\n",
       "      <th></th>\n",
       "      <th></th>\n",
       "      <th></th>\n",
       "      <th></th>\n",
       "      <th></th>\n",
       "      <th></th>\n",
       "      <th></th>\n",
       "      <th></th>\n",
       "    </tr>\n",
       "  </thead>\n",
       "  <tbody>\n",
       "    <tr>\n",
       "      <th>608309</th>\n",
       "      <td>0.0</td>\n",
       "      <td>0</td>\n",
       "      <td>0.3</td>\n",
       "      <td>0.620599</td>\n",
       "      <td>0.333333</td>\n",
       "      <td>0.0</td>\n",
       "      <td>0.642857</td>\n",
       "      <td>1</td>\n",
       "      <td>0</td>\n",
       "      <td>0</td>\n",
       "      <td>1</td>\n",
       "      <td>0</td>\n",
       "      <td>0</td>\n",
       "      <td>0</td>\n",
       "      <td>0</td>\n",
       "      <td>0</td>\n",
       "      <td>0</td>\n",
       "      <td>0</td>\n",
       "      <td>1</td>\n",
       "      <td>0</td>\n",
       "      <td>0</td>\n",
       "      <td>0</td>\n",
       "      <td>0</td>\n",
       "      <td>0</td>\n",
       "      <td>0</td>\n",
       "      <td>0</td>\n",
       "      <td>0</td>\n",
       "      <td>1</td>\n",
       "      <td>0</td>\n",
       "      <td>0</td>\n",
       "      <td>0</td>\n",
       "      <td>0</td>\n",
       "      <td>0</td>\n",
       "      <td>1</td>\n",
       "      <td>0</td>\n",
       "      <td>0</td>\n",
       "      <td>0</td>\n",
       "      <td>0</td>\n",
       "      <td>0</td>\n",
       "      <td>1</td>\n",
       "      <td>0</td>\n",
       "      <td>0</td>\n",
       "      <td>0</td>\n",
       "      <td>0</td>\n",
       "      <td>0</td>\n",
       "      <td>0</td>\n",
       "      <td>0</td>\n",
       "      <td>0</td>\n",
       "    </tr>\n",
       "    <tr>\n",
       "      <th>601302</th>\n",
       "      <td>0.0</td>\n",
       "      <td>0</td>\n",
       "      <td>1.0</td>\n",
       "      <td>0.719190</td>\n",
       "      <td>0.555556</td>\n",
       "      <td>0.0</td>\n",
       "      <td>0.071429</td>\n",
       "      <td>1</td>\n",
       "      <td>0</td>\n",
       "      <td>0</td>\n",
       "      <td>1</td>\n",
       "      <td>0</td>\n",
       "      <td>0</td>\n",
       "      <td>0</td>\n",
       "      <td>0</td>\n",
       "      <td>0</td>\n",
       "      <td>0</td>\n",
       "      <td>0</td>\n",
       "      <td>0</td>\n",
       "      <td>0</td>\n",
       "      <td>1</td>\n",
       "      <td>0</td>\n",
       "      <td>0</td>\n",
       "      <td>0</td>\n",
       "      <td>0</td>\n",
       "      <td>0</td>\n",
       "      <td>0</td>\n",
       "      <td>1</td>\n",
       "      <td>0</td>\n",
       "      <td>0</td>\n",
       "      <td>0</td>\n",
       "      <td>0</td>\n",
       "      <td>0</td>\n",
       "      <td>1</td>\n",
       "      <td>0</td>\n",
       "      <td>1</td>\n",
       "      <td>0</td>\n",
       "      <td>0</td>\n",
       "      <td>0</td>\n",
       "      <td>0</td>\n",
       "      <td>0</td>\n",
       "      <td>0</td>\n",
       "      <td>0</td>\n",
       "      <td>1</td>\n",
       "      <td>0</td>\n",
       "      <td>0</td>\n",
       "      <td>0</td>\n",
       "      <td>0</td>\n",
       "    </tr>\n",
       "    <tr>\n",
       "      <th>597540</th>\n",
       "      <td>1.0</td>\n",
       "      <td>0</td>\n",
       "      <td>0.6</td>\n",
       "      <td>0.060299</td>\n",
       "      <td>0.666667</td>\n",
       "      <td>0.0</td>\n",
       "      <td>0.428571</td>\n",
       "      <td>1</td>\n",
       "      <td>0</td>\n",
       "      <td>0</td>\n",
       "      <td>0</td>\n",
       "      <td>0</td>\n",
       "      <td>0</td>\n",
       "      <td>1</td>\n",
       "      <td>0</td>\n",
       "      <td>0</td>\n",
       "      <td>0</td>\n",
       "      <td>0</td>\n",
       "      <td>0</td>\n",
       "      <td>0</td>\n",
       "      <td>0</td>\n",
       "      <td>1</td>\n",
       "      <td>0</td>\n",
       "      <td>0</td>\n",
       "      <td>0</td>\n",
       "      <td>0</td>\n",
       "      <td>0</td>\n",
       "      <td>1</td>\n",
       "      <td>0</td>\n",
       "      <td>0</td>\n",
       "      <td>0</td>\n",
       "      <td>0</td>\n",
       "      <td>0</td>\n",
       "      <td>1</td>\n",
       "      <td>0</td>\n",
       "      <td>0</td>\n",
       "      <td>0</td>\n",
       "      <td>0</td>\n",
       "      <td>0</td>\n",
       "      <td>1</td>\n",
       "      <td>0</td>\n",
       "      <td>0</td>\n",
       "      <td>0</td>\n",
       "      <td>1</td>\n",
       "      <td>0</td>\n",
       "      <td>0</td>\n",
       "      <td>0</td>\n",
       "      <td>0</td>\n",
       "    </tr>\n",
       "    <tr>\n",
       "      <th>591462</th>\n",
       "      <td>0.0</td>\n",
       "      <td>1</td>\n",
       "      <td>0.2</td>\n",
       "      <td>0.479754</td>\n",
       "      <td>0.111111</td>\n",
       "      <td>0.0</td>\n",
       "      <td>0.571429</td>\n",
       "      <td>0</td>\n",
       "      <td>0</td>\n",
       "      <td>0</td>\n",
       "      <td>0</td>\n",
       "      <td>1</td>\n",
       "      <td>0</td>\n",
       "      <td>0</td>\n",
       "      <td>0</td>\n",
       "      <td>0</td>\n",
       "      <td>0</td>\n",
       "      <td>0</td>\n",
       "      <td>1</td>\n",
       "      <td>0</td>\n",
       "      <td>0</td>\n",
       "      <td>0</td>\n",
       "      <td>0</td>\n",
       "      <td>0</td>\n",
       "      <td>0</td>\n",
       "      <td>0</td>\n",
       "      <td>0</td>\n",
       "      <td>0</td>\n",
       "      <td>0</td>\n",
       "      <td>0</td>\n",
       "      <td>0</td>\n",
       "      <td>0</td>\n",
       "      <td>0</td>\n",
       "      <td>1</td>\n",
       "      <td>0</td>\n",
       "      <td>0</td>\n",
       "      <td>0</td>\n",
       "      <td>0</td>\n",
       "      <td>0</td>\n",
       "      <td>0</td>\n",
       "      <td>0</td>\n",
       "      <td>0</td>\n",
       "      <td>0</td>\n",
       "      <td>0</td>\n",
       "      <td>0</td>\n",
       "      <td>0</td>\n",
       "      <td>0</td>\n",
       "      <td>0</td>\n",
       "    </tr>\n",
       "    <tr>\n",
       "      <th>589061</th>\n",
       "      <td>0.0</td>\n",
       "      <td>0</td>\n",
       "      <td>0.2</td>\n",
       "      <td>0.583627</td>\n",
       "      <td>0.222222</td>\n",
       "      <td>1.0</td>\n",
       "      <td>0.214286</td>\n",
       "      <td>1</td>\n",
       "      <td>0</td>\n",
       "      <td>0</td>\n",
       "      <td>1</td>\n",
       "      <td>0</td>\n",
       "      <td>0</td>\n",
       "      <td>0</td>\n",
       "      <td>0</td>\n",
       "      <td>0</td>\n",
       "      <td>0</td>\n",
       "      <td>0</td>\n",
       "      <td>1</td>\n",
       "      <td>0</td>\n",
       "      <td>0</td>\n",
       "      <td>0</td>\n",
       "      <td>0</td>\n",
       "      <td>0</td>\n",
       "      <td>0</td>\n",
       "      <td>1</td>\n",
       "      <td>0</td>\n",
       "      <td>0</td>\n",
       "      <td>0</td>\n",
       "      <td>0</td>\n",
       "      <td>0</td>\n",
       "      <td>0</td>\n",
       "      <td>0</td>\n",
       "      <td>1</td>\n",
       "      <td>0</td>\n",
       "      <td>1</td>\n",
       "      <td>0</td>\n",
       "      <td>0</td>\n",
       "      <td>0</td>\n",
       "      <td>0</td>\n",
       "      <td>0</td>\n",
       "      <td>0</td>\n",
       "      <td>0</td>\n",
       "      <td>0</td>\n",
       "      <td>0</td>\n",
       "      <td>0</td>\n",
       "      <td>1</td>\n",
       "      <td>0</td>\n",
       "    </tr>\n",
       "  </tbody>\n",
       "</table>\n",
       "</div>"
      ],
      "text/plain": [
       "             Do Not Email Converted  TotalVisits  Total Time Spent on Website  \\\n",
       "Lead Number                                                                     \n",
       "608309                0.0         0          0.3                     0.620599   \n",
       "601302                0.0         0          1.0                     0.719190   \n",
       "597540                1.0         0          0.6                     0.060299   \n",
       "591462                0.0         1          0.2                     0.479754   \n",
       "589061                0.0         0          0.2                     0.583627   \n",
       "\n",
       "             Page Views Per Visit  Mastering_Interview_Copy  Null_Count  \\\n",
       "Lead Number                                                               \n",
       "608309                   0.333333                       0.0    0.642857   \n",
       "601302                   0.555556                       0.0    0.071429   \n",
       "597540                   0.666667                       0.0    0.428571   \n",
       "591462                   0.111111                       0.0    0.571429   \n",
       "589061                   0.222222                       1.0    0.214286   \n",
       "\n",
       "             Landing Page Submission  Lead Add Form  Lead Import  \\\n",
       "Lead Number                                                        \n",
       "608309                             1              0            0   \n",
       "601302                             1              0            0   \n",
       "597540                             1              0            0   \n",
       "591462                             0              0            0   \n",
       "589061                             1              0            0   \n",
       "\n",
       "             Direct Traffic  Google  Olark Chat  Organic Search  Reference  \\\n",
       "Lead Number                                                                  \n",
       "608309                    1       0           0               0          0   \n",
       "601302                    1       0           0               0          0   \n",
       "597540                    0       0           0               1          0   \n",
       "591462                    0       1           0               0          0   \n",
       "589061                    1       0           0               0          0   \n",
       "\n",
       "             Converted to Lead  Email Bounced  Email Link Clicked  \\\n",
       "Lead Number                                                         \n",
       "608309                       0              0                   0   \n",
       "601302                       0              0                   0   \n",
       "597540                       0              0                   0   \n",
       "591462                       0              0                   0   \n",
       "589061                       0              0                   0   \n",
       "\n",
       "             Email Opened  Form Submitted on Website  Olark Chat Conversation  \\\n",
       "Lead Number                                                                     \n",
       "608309                  1                          0                        0   \n",
       "601302                  0                          0                        1   \n",
       "597540                  0                          0                        0   \n",
       "591462                  1                          0                        0   \n",
       "589061                  1                          0                        0   \n",
       "\n",
       "             Page Visited on Website  SMS Sent  \\\n",
       "Lead Number                                      \n",
       "608309                             0         0   \n",
       "601302                             0         0   \n",
       "597540                             1         0   \n",
       "591462                             0         0   \n",
       "589061                             0         0   \n",
       "\n",
       "             Banking, Investment And Insurance  Business Administration  \\\n",
       "Lead Number                                                               \n",
       "608309                                       0                        0   \n",
       "601302                                       0                        0   \n",
       "597540                                       0                        0   \n",
       "591462                                       0                        0   \n",
       "589061                                       0                        0   \n",
       "\n",
       "             E-Commerce  International Business  Management  \\\n",
       "Lead Number                                                   \n",
       "608309                0                       0           1   \n",
       "601302                0                       0           1   \n",
       "597540                0                       0           1   \n",
       "591462                0                       0           0   \n",
       "589061                1                       0           0   \n",
       "\n",
       "             Media and Advertising  Rural and Agribusiness  \\\n",
       "Lead Number                                                  \n",
       "608309                           0                       0   \n",
       "601302                           0                       0   \n",
       "597540                           0                       0   \n",
       "591462                           0                       0   \n",
       "589061                           0                       0   \n",
       "\n",
       "             Services Excellence  Travel and Tourism  Student  Unemployed  \\\n",
       "Lead Number                                                                 \n",
       "608309                         0                   0        0           1   \n",
       "601302                         0                   0        0           1   \n",
       "597540                         0                   0        0           1   \n",
       "591462                         0                   0        0           1   \n",
       "589061                         0                   0        0           1   \n",
       "\n",
       "             Working Professional  Mumbai  Other Cities  \\\n",
       "Lead Number                                               \n",
       "608309                          0       0             0   \n",
       "601302                          0       1             0   \n",
       "597540                          0       0             0   \n",
       "591462                          0       0             0   \n",
       "589061                          0       1             0   \n",
       "\n",
       "             Other Cities of Maharashtra  Other Metro Cities  \\\n",
       "Lead Number                                                    \n",
       "608309                                 0                   0   \n",
       "601302                                 0                   0   \n",
       "597540                                 0                   0   \n",
       "591462                                 0                   0   \n",
       "589061                                 0                   0   \n",
       "\n",
       "             Thane & Outskirts  Tier II Cities  Already a student  \\\n",
       "Lead Number                                                         \n",
       "608309                       1               0                  0   \n",
       "601302                       0               0                  0   \n",
       "597540                       1               0                  0   \n",
       "591462                       0               0                  0   \n",
       "589061                       0               0                  0   \n",
       "\n",
       "             Closed by Horizzon  Interested in other courses  Lost to EINS  \\\n",
       "Lead Number                                                                  \n",
       "608309                        0                            0             0   \n",
       "601302                        0                            1             0   \n",
       "597540                        0                            1             0   \n",
       "591462                        0                            0             0   \n",
       "589061                        0                            0             0   \n",
       "\n",
       "             Other_Tags  Ringing  Will revert after reading the email  \n",
       "Lead Number                                                            \n",
       "608309                0        0                                    0  \n",
       "601302                0        0                                    0  \n",
       "597540                0        0                                    0  \n",
       "591462                0        0                                    0  \n",
       "589061                0        1                                    0  "
      ]
     },
     "execution_count": 98,
     "metadata": {},
     "output_type": "execute_result"
    }
   ],
   "source": [
    "# Applying Scaler to all the columns except \"0-1\" and dummy variables.\n",
    "\n",
    "scale_vars = [x for x in df.columns if (df[x].dtype==\"int64\") or (df[x].dtype==\"float64\")]\n",
    "\n",
    "df_train[scale_vars] = Scaler.fit_transform(df_train[scale_vars])\n",
    "\n",
    "df_train.head()"
   ]
  },
  {
   "cell_type": "markdown",
   "metadata": {},
   "source": [
    "### Checking the Conversion Rate."
   ]
  },
  {
   "cell_type": "code",
   "execution_count": 99,
   "metadata": {},
   "outputs": [
    {
     "data": {
      "text/plain": [
       "38.920674192051955"
      ]
     },
     "execution_count": 99,
     "metadata": {},
     "output_type": "execute_result"
    }
   ],
   "source": [
    "conversion_rate = (sum(df_train['Converted'])/len(df_train['Converted'].index))*100\n",
    "conversion_rate "
   ]
  },
  {
   "cell_type": "code",
   "execution_count": 100,
   "metadata": {
    "scrolled": true
   },
   "outputs": [
    {
     "data": {
      "text/plain": [
       "<Figure size 720x720 with 0 Axes>"
      ]
     },
     "metadata": {},
     "output_type": "display_data"
    },
    {
     "data": {
      "image/png": "[encoded data removed]",
      "text/plain": [
       "<Figure size 432x288 with 1 Axes>"
      ]
     },
     "metadata": {},
     "output_type": "display_data"
    }
   ],
   "source": [
    "Imbalance = df_train.Converted.value_counts().reset_index()\n",
    "\n",
    "plt.figure(figsize=(10,10))\n",
    "x= ['Non-Defaulter','Defaulter']\n",
    "Imbalance.plot.pie(autopct='%1.1f%%', y=\"Converted\",\n",
    "                   labels=[\"Didn't Convert\",\"Converted\"], shadow=True,\n",
    "                   explode=(0.2,0), legend=False, colors=[\"#FFF8DC\",\"#DC143C\"])\n",
    "plt.ylabel(\"\")\n",
    "plt.title(\"Imbalance Plotting\", fontsize=15)\n",
    "plt.show()"
   ]
  },
  {
   "cell_type": "code",
   "execution_count": 194,
   "metadata": {},
   "outputs": [
    {
     "data": {
      "text/plain": [
       "1.5952247191011235"
      ]
     },
     "execution_count": 194,
     "metadata": {},
     "output_type": "execute_result"
    }
   ],
   "source": [
    "imbalance_ratio = df[df.Converted == 0].shape[0]/df[df.Converted == 1].shape[0]\n",
    "imbalance_ratio"
   ]
  },
  {
   "cell_type": "markdown",
   "metadata": {},
   "source": [
    "The data seems appropriate as the imbalance ratio isn't much."
   ]
  },
  {
   "cell_type": "markdown",
   "metadata": {},
   "source": [
    "### Dividing into X and Y sets for Model Building."
   ]
  },
  {
   "cell_type": "code",
   "execution_count": 101,
   "metadata": {},
   "outputs": [],
   "source": [
    "y_train = df_train.pop(\"Converted\")\n",
    "x_train = df_train"
   ]
  },
  {
   "cell_type": "code",
   "execution_count": 102,
   "metadata": {},
   "outputs": [
    {
     "data": {
      "text/plain": [
       "(6467, 47)"
      ]
     },
     "execution_count": 102,
     "metadata": {},
     "output_type": "execute_result"
    }
   ],
   "source": [
    "x_train.shape"
   ]
  },
  {
   "cell_type": "code",
   "execution_count": 103,
   "metadata": {},
   "outputs": [
    {
     "data": {
      "text/plain": [
       "(6467,)"
      ]
     },
     "execution_count": 103,
     "metadata": {},
     "output_type": "execute_result"
    }
   ],
   "source": [
    "y_train.shape"
   ]
  },
  {
   "cell_type": "markdown",
   "metadata": {},
   "source": [
    "### Building our Model."
   ]
  },
  {
   "cell_type": "code",
   "execution_count": 104,
   "metadata": {},
   "outputs": [
    {
     "data": {
      "text/html": [
       "<table class=\"simpletable\">\n",
       "<caption>Generalized Linear Model Regression Results</caption>\n",
       "<tr>\n",
       "  <th>Dep. Variable:</th>       <td>Converted</td>    <th>  No. Observations:  </th>  <td>  6467</td> \n",
       "</tr>\n",
       "<tr>\n",
       "  <th>Model:</th>                  <td>GLM</td>       <th>  Df Residuals:      </th>  <td>  6419</td> \n",
       "</tr>\n",
       "<tr>\n",
       "  <th>Model Family:</th>        <td>Binomial</td>     <th>  Df Model:          </th>  <td>    47</td> \n",
       "</tr>\n",
       "<tr>\n",
       "  <th>Link Function:</th>         <td>logit</td>      <th>  Scale:             </th> <td>  1.0000</td>\n",
       "</tr>\n",
       "<tr>\n",
       "  <th>Method:</th>                <td>IRLS</td>       <th>  Log-Likelihood:    </th> <td> -1335.0</td>\n",
       "</tr>\n",
       "<tr>\n",
       "  <th>Date:</th>            <td>Sun, 07 Mar 2021</td> <th>  Deviance:          </th> <td>  2670.0</td>\n",
       "</tr>\n",
       "<tr>\n",
       "  <th>Time:</th>                <td>00:36:17</td>     <th>  Pearson chi2:      </th> <td>1.10e+04</td>\n",
       "</tr>\n",
       "<tr>\n",
       "  <th>No. Iterations:</th>         <td>24</td>        <th>                     </th>     <td> </td>   \n",
       "</tr>\n",
       "<tr>\n",
       "  <th>Covariance Type:</th>     <td>nonrobust</td>    <th>                     </th>     <td> </td>   \n",
       "</tr>\n",
       "</table>\n",
       "<table class=\"simpletable\">\n",
       "<tr>\n",
       "                   <td></td>                      <th>coef</th>     <th>std err</th>      <th>z</th>      <th>P>|z|</th>  <th>[0.025</th>    <th>0.975]</th>  \n",
       "</tr>\n",
       "<tr>\n",
       "  <th>const</th>                               <td>   -1.1810</td> <td>    1.093</td> <td>   -1.080</td> <td> 0.280</td> <td>   -3.324</td> <td>    0.962</td>\n",
       "</tr>\n",
       "<tr>\n",
       "  <th>Do Not Email</th>                        <td>   -0.8503</td> <td>    0.263</td> <td>   -3.237</td> <td> 0.001</td> <td>   -1.365</td> <td>   -0.335</td>\n",
       "</tr>\n",
       "<tr>\n",
       "  <th>TotalVisits</th>                         <td>    1.0584</td> <td>    0.306</td> <td>    3.456</td> <td> 0.001</td> <td>    0.458</td> <td>    1.659</td>\n",
       "</tr>\n",
       "<tr>\n",
       "  <th>Total Time Spent on Website</th>         <td>    4.3600</td> <td>    0.244</td> <td>   17.869</td> <td> 0.000</td> <td>    3.882</td> <td>    4.838</td>\n",
       "</tr>\n",
       "<tr>\n",
       "  <th>Page Views Per Visit</th>                <td>   -1.2670</td> <td>    0.406</td> <td>   -3.124</td> <td> 0.002</td> <td>   -2.062</td> <td>   -0.472</td>\n",
       "</tr>\n",
       "<tr>\n",
       "  <th>Mastering_Interview_Copy</th>            <td>   -0.1183</td> <td>    0.166</td> <td>   -0.711</td> <td> 0.477</td> <td>   -0.444</td> <td>    0.208</td>\n",
       "</tr>\n",
       "<tr>\n",
       "  <th>Null_Count</th>                          <td>   -2.0690</td> <td>    0.339</td> <td>   -6.108</td> <td> 0.000</td> <td>   -2.733</td> <td>   -1.405</td>\n",
       "</tr>\n",
       "<tr>\n",
       "  <th>Landing Page Submission</th>             <td>   -0.4240</td> <td>    0.241</td> <td>   -1.757</td> <td> 0.079</td> <td>   -0.897</td> <td>    0.049</td>\n",
       "</tr>\n",
       "<tr>\n",
       "  <th>Lead Add Form</th>                       <td>    4.3222</td> <td>    0.563</td> <td>    7.682</td> <td> 0.000</td> <td>    3.219</td> <td>    5.425</td>\n",
       "</tr>\n",
       "<tr>\n",
       "  <th>Lead Import</th>                         <td>   -0.2734</td> <td>    0.897</td> <td>   -0.305</td> <td> 0.760</td> <td>   -2.031</td> <td>    1.484</td>\n",
       "</tr>\n",
       "<tr>\n",
       "  <th>Direct Traffic</th>                      <td>    0.1680</td> <td>    0.400</td> <td>    0.420</td> <td> 0.675</td> <td>   -0.616</td> <td>    0.952</td>\n",
       "</tr>\n",
       "<tr>\n",
       "  <th>Google</th>                              <td>    0.1481</td> <td>    0.381</td> <td>    0.389</td> <td> 0.698</td> <td>   -0.599</td> <td>    0.895</td>\n",
       "</tr>\n",
       "<tr>\n",
       "  <th>Olark Chat</th>                          <td>    1.0925</td> <td>    0.409</td> <td>    2.673</td> <td> 0.008</td> <td>    0.291</td> <td>    1.894</td>\n",
       "</tr>\n",
       "<tr>\n",
       "  <th>Organic Search</th>                      <td>    0.0706</td> <td>    0.397</td> <td>    0.178</td> <td> 0.859</td> <td>   -0.707</td> <td>    0.849</td>\n",
       "</tr>\n",
       "<tr>\n",
       "  <th>Reference</th>                           <td>   -3.3818</td> <td>    0.586</td> <td>   -5.773</td> <td> 0.000</td> <td>   -4.530</td> <td>   -2.234</td>\n",
       "</tr>\n",
       "<tr>\n",
       "  <th>Converted to Lead</th>                   <td>   -1.8378</td> <td>    0.523</td> <td>   -3.514</td> <td> 0.000</td> <td>   -2.863</td> <td>   -0.813</td>\n",
       "</tr>\n",
       "<tr>\n",
       "  <th>Email Bounced</th>                       <td>   -1.5432</td> <td>    0.585</td> <td>   -2.638</td> <td> 0.008</td> <td>   -2.690</td> <td>   -0.397</td>\n",
       "</tr>\n",
       "<tr>\n",
       "  <th>Email Link Clicked</th>                  <td>   -1.1387</td> <td>    0.492</td> <td>   -2.314</td> <td> 0.021</td> <td>   -2.103</td> <td>   -0.174</td>\n",
       "</tr>\n",
       "<tr>\n",
       "  <th>Email Opened</th>                        <td>   -0.3124</td> <td>    0.364</td> <td>   -0.859</td> <td> 0.391</td> <td>   -1.026</td> <td>    0.401</td>\n",
       "</tr>\n",
       "<tr>\n",
       "  <th>Form Submitted on Website</th>           <td>   -1.0674</td> <td>    0.651</td> <td>   -1.638</td> <td> 0.101</td> <td>   -2.344</td> <td>    0.209</td>\n",
       "</tr>\n",
       "<tr>\n",
       "  <th>Olark Chat Conversation</th>             <td>   -1.8585</td> <td>    0.421</td> <td>   -4.418</td> <td> 0.000</td> <td>   -2.683</td> <td>   -1.034</td>\n",
       "</tr>\n",
       "<tr>\n",
       "  <th>Page Visited on Website</th>             <td>   -0.8071</td> <td>    0.411</td> <td>   -1.964</td> <td> 0.050</td> <td>   -1.613</td> <td>   -0.002</td>\n",
       "</tr>\n",
       "<tr>\n",
       "  <th>SMS Sent</th>                            <td>    1.5133</td> <td>    0.360</td> <td>    4.198</td> <td> 0.000</td> <td>    0.807</td> <td>    2.220</td>\n",
       "</tr>\n",
       "<tr>\n",
       "  <th>Banking, Investment And Insurance</th>   <td>    0.3308</td> <td>    0.397</td> <td>    0.833</td> <td> 0.405</td> <td>   -0.448</td> <td>    1.109</td>\n",
       "</tr>\n",
       "<tr>\n",
       "  <th>Business Administration</th>             <td>    0.1211</td> <td>    0.369</td> <td>    0.328</td> <td> 0.743</td> <td>   -0.603</td> <td>    0.845</td>\n",
       "</tr>\n",
       "<tr>\n",
       "  <th>E-Commerce</th>                          <td>    0.2919</td> <td>    0.495</td> <td>    0.590</td> <td> 0.555</td> <td>   -0.677</td> <td>    1.261</td>\n",
       "</tr>\n",
       "<tr>\n",
       "  <th>International Business</th>              <td>    0.3995</td> <td>    0.478</td> <td>    0.835</td> <td> 0.404</td> <td>   -0.538</td> <td>    1.337</td>\n",
       "</tr>\n",
       "<tr>\n",
       "  <th>Management</th>                          <td>    0.3247</td> <td>    0.287</td> <td>    1.131</td> <td> 0.258</td> <td>   -0.238</td> <td>    0.888</td>\n",
       "</tr>\n",
       "<tr>\n",
       "  <th>Media and Advertising</th>               <td>    0.3914</td> <td>    0.454</td> <td>    0.861</td> <td> 0.389</td> <td>   -0.499</td> <td>    1.282</td>\n",
       "</tr>\n",
       "<tr>\n",
       "  <th>Rural and Agribusiness</th>              <td>    0.5313</td> <td>    0.748</td> <td>    0.711</td> <td> 0.477</td> <td>   -0.934</td> <td>    1.997</td>\n",
       "</tr>\n",
       "<tr>\n",
       "  <th>Services Excellence</th>                 <td>    0.2989</td> <td>    0.756</td> <td>    0.395</td> <td> 0.693</td> <td>   -1.183</td> <td>    1.781</td>\n",
       "</tr>\n",
       "<tr>\n",
       "  <th>Travel and Tourism</th>                  <td>   -0.3292</td> <td>    0.477</td> <td>   -0.690</td> <td> 0.490</td> <td>   -1.264</td> <td>    0.605</td>\n",
       "</tr>\n",
       "<tr>\n",
       "  <th>Student</th>                             <td>    1.0153</td> <td>    1.120</td> <td>    0.906</td> <td> 0.365</td> <td>   -1.180</td> <td>    3.211</td>\n",
       "</tr>\n",
       "<tr>\n",
       "  <th>Unemployed</th>                          <td>    0.3154</td> <td>    0.929</td> <td>    0.339</td> <td> 0.734</td> <td>   -1.506</td> <td>    2.137</td>\n",
       "</tr>\n",
       "<tr>\n",
       "  <th>Working Professional</th>                <td>    1.1239</td> <td>    0.984</td> <td>    1.142</td> <td> 0.253</td> <td>   -0.804</td> <td>    3.052</td>\n",
       "</tr>\n",
       "<tr>\n",
       "  <th>Mumbai</th>                              <td>   -0.8056</td> <td>    0.311</td> <td>   -2.591</td> <td> 0.010</td> <td>   -1.415</td> <td>   -0.196</td>\n",
       "</tr>\n",
       "<tr>\n",
       "  <th>Other Cities</th>                        <td>   -0.7484</td> <td>    0.346</td> <td>   -2.165</td> <td> 0.030</td> <td>   -1.426</td> <td>   -0.071</td>\n",
       "</tr>\n",
       "<tr>\n",
       "  <th>Other Cities of Maharashtra</th>         <td>   -0.6520</td> <td>    0.377</td> <td>   -1.729</td> <td> 0.084</td> <td>   -1.391</td> <td>    0.087</td>\n",
       "</tr>\n",
       "<tr>\n",
       "  <th>Other Metro Cities</th>                  <td>   -0.6932</td> <td>    0.399</td> <td>   -1.735</td> <td> 0.083</td> <td>   -1.476</td> <td>    0.090</td>\n",
       "</tr>\n",
       "<tr>\n",
       "  <th>Thane & Outskirts</th>                   <td>   -0.9559</td> <td>    0.357</td> <td>   -2.678</td> <td> 0.007</td> <td>   -1.655</td> <td>   -0.256</td>\n",
       "</tr>\n",
       "<tr>\n",
       "  <th>Tier II Cities</th>                      <td>   -0.0679</td> <td>    0.644</td> <td>   -0.106</td> <td> 0.916</td> <td>   -1.330</td> <td>    1.194</td>\n",
       "</tr>\n",
       "<tr>\n",
       "  <th>Already a student</th>                   <td>   -4.6622</td> <td>    1.032</td> <td>   -4.517</td> <td> 0.000</td> <td>   -6.685</td> <td>   -2.639</td>\n",
       "</tr>\n",
       "<tr>\n",
       "  <th>Closed by Horizzon</th>                  <td>   26.2450</td> <td>  1.2e+04</td> <td>    0.002</td> <td> 0.998</td> <td>-2.34e+04</td> <td> 2.35e+04</td>\n",
       "</tr>\n",
       "<tr>\n",
       "  <th>Interested in other courses</th>         <td>   -2.7148</td> <td>    0.373</td> <td>   -7.287</td> <td> 0.000</td> <td>   -3.445</td> <td>   -1.985</td>\n",
       "</tr>\n",
       "<tr>\n",
       "  <th>Lost to EINS</th>                        <td>    5.5286</td> <td>    0.740</td> <td>    7.471</td> <td> 0.000</td> <td>    4.078</td> <td>    6.979</td>\n",
       "</tr>\n",
       "<tr>\n",
       "  <th>Other_Tags</th>                          <td>   -1.3921</td> <td>    0.173</td> <td>   -8.068</td> <td> 0.000</td> <td>   -1.730</td> <td>   -1.054</td>\n",
       "</tr>\n",
       "<tr>\n",
       "  <th>Ringing</th>                             <td>   -3.5580</td> <td>    0.251</td> <td>  -14.148</td> <td> 0.000</td> <td>   -4.051</td> <td>   -3.065</td>\n",
       "</tr>\n",
       "<tr>\n",
       "  <th>Will revert after reading the email</th> <td>    4.0601</td> <td>    0.226</td> <td>   17.948</td> <td> 0.000</td> <td>    3.617</td> <td>    4.503</td>\n",
       "</tr>\n",
       "</table>"
      ],
      "text/plain": [
       "<class 'statsmodels.iolib.summary.Summary'>\n",
       "\"\"\"\n",
       "                 Generalized Linear Model Regression Results                  \n",
       "==============================================================================\n",
       "Dep. Variable:              Converted   No. Observations:                 6467\n",
       "Model:                            GLM   Df Residuals:                     6419\n",
       "Model Family:                Binomial   Df Model:                           47\n",
       "Link Function:                  logit   Scale:                          1.0000\n",
       "Method:                          IRLS   Log-Likelihood:                -1335.0\n",
       "Date:                Sun, 07 Mar 2021   Deviance:                       2670.0\n",
       "Time:                        00:36:17   Pearson chi2:                 1.10e+04\n",
       "No. Iterations:                    24                                         \n",
       "Covariance Type:            nonrobust                                         \n",
       "=======================================================================================================\n",
       "                                          coef    std err          z      P>|z|      [0.025      0.975]\n",
       "-------------------------------------------------------------------------------------------------------\n",
       "const                                  -1.1810      1.093     -1.080      0.280      -3.324       0.962\n",
       "Do Not Email                           -0.8503      0.263     -3.237      0.001      -1.365      -0.335\n",
       "TotalVisits                             1.0584      0.306      3.456      0.001       0.458       1.659\n",
       "Total Time Spent on Website             4.3600      0.244     17.869      0.000       3.882       4.838\n",
       "Page Views Per Visit                   -1.2670      0.406     -3.124      0.002      -2.062      -0.472\n",
       "Mastering_Interview_Copy               -0.1183      0.166     -0.711      0.477      -0.444       0.208\n",
       "Null_Count                             -2.0690      0.339     -6.108      0.000      -2.733      -1.405\n",
       "Landing Page Submission                -0.4240      0.241     -1.757      0.079      -0.897       0.049\n",
       "Lead Add Form                           4.3222      0.563      7.682      0.000       3.219       5.425\n",
       "Lead Import                            -0.2734      0.897     -0.305      0.760      -2.031       1.484\n",
       "Direct Traffic                          0.1680      0.400      0.420      0.675      -0.616       0.952\n",
       "Google                                  0.1481      0.381      0.389      0.698      -0.599       0.895\n",
       "Olark Chat                              1.0925      0.409      2.673      0.008       0.291       1.894\n",
       "Organic Search                          0.0706      0.397      0.178      0.859      -0.707       0.849\n",
       "Reference                              -3.3818      0.586     -5.773      0.000      -4.530      -2.234\n",
       "Converted to Lead                      -1.8378      0.523     -3.514      0.000      -2.863      -0.813\n",
       "Email Bounced                          -1.5432      0.585     -2.638      0.008      -2.690      -0.397\n",
       "Email Link Clicked                     -1.1387      0.492     -2.314      0.021      -2.103      -0.174\n",
       "Email Opened                           -0.3124      0.364     -0.859      0.391      -1.026       0.401\n",
       "Form Submitted on Website              -1.0674      0.651     -1.638      0.101      -2.344       0.209\n",
       "Olark Chat Conversation                -1.8585      0.421     -4.418      0.000      -2.683      -1.034\n",
       "Page Visited on Website                -0.8071      0.411     -1.964      0.050      -1.613      -0.002\n",
       "SMS Sent                                1.5133      0.360      4.198      0.000       0.807       2.220\n",
       "Banking, Investment And Insurance       0.3308      0.397      0.833      0.405      -0.448       1.109\n",
       "Business Administration                 0.1211      0.369      0.328      0.743      -0.603       0.845\n",
       "E-Commerce                              0.2919      0.495      0.590      0.555      -0.677       1.261\n",
       "International Business                  0.3995      0.478      0.835      0.404      -0.538       1.337\n",
       "Management                              0.3247      0.287      1.131      0.258      -0.238       0.888\n",
       "Media and Advertising                   0.3914      0.454      0.861      0.389      -0.499       1.282\n",
       "Rural and Agribusiness                  0.5313      0.748      0.711      0.477      -0.934       1.997\n",
       "Services Excellence                     0.2989      0.756      0.395      0.693      -1.183       1.781\n",
       "Travel and Tourism                     -0.3292      0.477     -0.690      0.490      -1.264       0.605\n",
       "Student                                 1.0153      1.120      0.906      0.365      -1.180       3.211\n",
       "Unemployed                              0.3154      0.929      0.339      0.734      -1.506       2.137\n",
       "Working Professional                    1.1239      0.984      1.142      0.253      -0.804       3.052\n",
       "Mumbai                                 -0.8056      0.311     -2.591      0.010      -1.415      -0.196\n",
       "Other Cities                           -0.7484      0.346     -2.165      0.030      -1.426      -0.071\n",
       "Other Cities of Maharashtra            -0.6520      0.377     -1.729      0.084      -1.391       0.087\n",
       "Other Metro Cities                     -0.6932      0.399     -1.735      0.083      -1.476       0.090\n",
       "Thane & Outskirts                      -0.9559      0.357     -2.678      0.007      -1.655      -0.256\n",
       "Tier II Cities                         -0.0679      0.644     -0.106      0.916      -1.330       1.194\n",
       "Already a student                      -4.6622      1.032     -4.517      0.000      -6.685      -2.639\n",
       "Closed by Horizzon                     26.2450    1.2e+04      0.002      0.998   -2.34e+04    2.35e+04\n",
       "Interested in other courses            -2.7148      0.373     -7.287      0.000      -3.445      -1.985\n",
       "Lost to EINS                            5.5286      0.740      7.471      0.000       4.078       6.979\n",
       "Other_Tags                             -1.3921      0.173     -8.068      0.000      -1.730      -1.054\n",
       "Ringing                                -3.5580      0.251    -14.148      0.000      -4.051      -3.065\n",
       "Will revert after reading the email     4.0601      0.226     17.948      0.000       3.617       4.503\n",
       "=======================================================================================================\n",
       "\"\"\""
      ]
     },
     "execution_count": 104,
     "metadata": {},
     "output_type": "execute_result"
    }
   ],
   "source": [
    "# Logistic regression model\n",
    "x_train = x_train.astype(\"float\")\n",
    "y_train = y_train.astype(\"float\")\n",
    "logm = sm.GLM(y_train,(sm.add_constant(x_train)), family = sm.families.Binomial())\n",
    "logm.fit().summary()"
   ]
  },
  {
   "cell_type": "markdown",
   "metadata": {},
   "source": [
    "#### As the number of features are 47, we will use RFE to select top 20 features for our model."
   ]
  },
  {
   "cell_type": "markdown",
   "metadata": {},
   "source": [
    "### Feature Selection Using RFE"
   ]
  },
  {
   "cell_type": "code",
   "execution_count": 105,
   "metadata": {},
   "outputs": [],
   "source": [
    "logreg = LogisticRegression()"
   ]
  },
  {
   "cell_type": "code",
   "execution_count": 106,
   "metadata": {},
   "outputs": [],
   "source": [
    "# Running RFE with 15 variables as output\n",
    "rfe = RFE(logreg, 20)\n",
    "rfe = rfe.fit(x_train, y_train)"
   ]
  },
  {
   "cell_type": "code",
   "execution_count": 107,
   "metadata": {},
   "outputs": [
    {
     "data": {
      "text/plain": [
       "[('Do Not Email', True, 1),\n",
       " ('TotalVisits', False, 3),\n",
       " ('Total Time Spent on Website', True, 1),\n",
       " ('Page Views Per Visit', False, 2),\n",
       " ('Mastering_Interview_Copy', False, 24),\n",
       " ('Null_Count', True, 1),\n",
       " ('Landing Page Submission', True, 1),\n",
       " ('Lead Add Form', True, 1),\n",
       " ('Lead Import', True, 1),\n",
       " ('Direct Traffic', False, 21),\n",
       " ('Google', False, 22),\n",
       " ('Olark Chat', True, 1),\n",
       " ('Organic Search', False, 20),\n",
       " ('Reference', True, 1),\n",
       " ('Converted to Lead', True, 1),\n",
       " ('Email Bounced', True, 1),\n",
       " ('Email Link Clicked', False, 4),\n",
       " ('Email Opened', False, 25),\n",
       " ('Form Submitted on Website', False, 5),\n",
       " ('Olark Chat Conversation', True, 1),\n",
       " ('Page Visited on Website', False, 7),\n",
       " ('SMS Sent', True, 1),\n",
       " ('Banking, Investment And Insurance', False, 17),\n",
       " ('Business Administration', False, 28),\n",
       " ('E-Commerce', False, 23),\n",
       " ('International Business', False, 16),\n",
       " ('Management', False, 18),\n",
       " ('Media and Advertising', False, 19),\n",
       " ('Rural and Agribusiness', False, 15),\n",
       " ('Services Excellence', False, 26),\n",
       " ('Travel and Tourism', False, 6),\n",
       " ('Student', False, 14),\n",
       " ('Unemployed', False, 13),\n",
       " ('Working Professional', True, 1),\n",
       " ('Mumbai', False, 9),\n",
       " ('Other Cities', False, 10),\n",
       " ('Other Cities of Maharashtra', False, 12),\n",
       " ('Other Metro Cities', False, 11),\n",
       " ('Thane & Outskirts', False, 8),\n",
       " ('Tier II Cities', False, 27),\n",
       " ('Already a student', True, 1),\n",
       " ('Closed by Horizzon', True, 1),\n",
       " ('Interested in other courses', True, 1),\n",
       " ('Lost to EINS', True, 1),\n",
       " ('Other_Tags', True, 1),\n",
       " ('Ringing', True, 1),\n",
       " ('Will revert after reading the email', True, 1)]"
      ]
     },
     "execution_count": 107,
     "metadata": {},
     "output_type": "execute_result"
    }
   ],
   "source": [
    "# Features that have been selected by RFE\n",
    "list(zip(x_train.columns, rfe.support_, rfe.ranking_))"
   ]
  },
  {
   "cell_type": "code",
   "execution_count": 108,
   "metadata": {},
   "outputs": [],
   "source": [
    "# Storing the columns selected by RFE in the variable 'RFE_cols'\n",
    "RFE_cols = x_train.columns[rfe.support_]"
   ]
  },
  {
   "cell_type": "code",
   "execution_count": 109,
   "metadata": {},
   "outputs": [
    {
     "data": {
      "text/plain": [
       "Index(['TotalVisits', 'Page Views Per Visit', 'Mastering_Interview_Copy',\n",
       "       'Direct Traffic', 'Google', 'Organic Search', 'Email Link Clicked',\n",
       "       'Email Opened', 'Form Submitted on Website', 'Page Visited on Website',\n",
       "       'Banking, Investment And Insurance', 'Business Administration',\n",
       "       'E-Commerce', 'International Business', 'Management',\n",
       "       'Media and Advertising', 'Rural and Agribusiness',\n",
       "       'Services Excellence', 'Travel and Tourism', 'Student', 'Unemployed',\n",
       "       'Mumbai', 'Other Cities', 'Other Cities of Maharashtra',\n",
       "       'Other Metro Cities', 'Thane & Outskirts', 'Tier II Cities'],\n",
       "      dtype='object')"
      ]
     },
     "execution_count": 109,
     "metadata": {},
     "output_type": "execute_result"
    }
   ],
   "source": [
    "# Checking the columns which were not selected using RFE\n",
    "x_train.columns[~rfe.support_]"
   ]
  },
  {
   "cell_type": "markdown",
   "metadata": {},
   "source": [
    "### Model 1 : Using 20 variables given by RFE"
   ]
  },
  {
   "cell_type": "code",
   "execution_count": 127,
   "metadata": {},
   "outputs": [],
   "source": [
    "# Creating x_train dataframe using RFE selected variables\n",
    "x_train_rfe = x_train[RFE_cols]"
   ]
  },
  {
   "cell_type": "code",
   "execution_count": 128,
   "metadata": {
    "scrolled": false
   },
   "outputs": [
    {
     "data": {
      "text/html": [
       "<table class=\"simpletable\">\n",
       "<caption>Generalized Linear Model Regression Results</caption>\n",
       "<tr>\n",
       "  <th>Dep. Variable:</th>       <td>Converted</td>    <th>  No. Observations:  </th>  <td>  6467</td> \n",
       "</tr>\n",
       "<tr>\n",
       "  <th>Model:</th>                  <td>GLM</td>       <th>  Df Residuals:      </th>  <td>  6446</td> \n",
       "</tr>\n",
       "<tr>\n",
       "  <th>Model Family:</th>        <td>Binomial</td>     <th>  Df Model:          </th>  <td>    20</td> \n",
       "</tr>\n",
       "<tr>\n",
       "  <th>Link Function:</th>         <td>logit</td>      <th>  Scale:             </th> <td>  1.0000</td>\n",
       "</tr>\n",
       "<tr>\n",
       "  <th>Method:</th>                <td>IRLS</td>       <th>  Log-Likelihood:    </th> <td> -1356.2</td>\n",
       "</tr>\n",
       "<tr>\n",
       "  <th>Date:</th>            <td>Sun, 07 Mar 2021</td> <th>  Deviance:          </th> <td>  2712.4</td>\n",
       "</tr>\n",
       "<tr>\n",
       "  <th>Time:</th>                <td>00:43:20</td>     <th>  Pearson chi2:      </th> <td>1.05e+04</td>\n",
       "</tr>\n",
       "<tr>\n",
       "  <th>No. Iterations:</th>         <td>24</td>        <th>                     </th>     <td> </td>   \n",
       "</tr>\n",
       "<tr>\n",
       "  <th>Covariance Type:</th>     <td>nonrobust</td>    <th>                     </th>     <td> </td>   \n",
       "</tr>\n",
       "</table>\n",
       "<table class=\"simpletable\">\n",
       "<tr>\n",
       "                   <td></td>                      <th>coef</th>     <th>std err</th>      <th>z</th>      <th>P>|z|</th>  <th>[0.025</th>    <th>0.975]</th>  \n",
       "</tr>\n",
       "<tr>\n",
       "  <th>const</th>                               <td>   -1.2336</td> <td>    0.236</td> <td>   -5.235</td> <td> 0.000</td> <td>   -1.696</td> <td>   -0.772</td>\n",
       "</tr>\n",
       "<tr>\n",
       "  <th>Do Not Email</th>                        <td>   -0.9276</td> <td>    0.250</td> <td>   -3.712</td> <td> 0.000</td> <td>   -1.417</td> <td>   -0.438</td>\n",
       "</tr>\n",
       "<tr>\n",
       "  <th>Total Time Spent on Website</th>         <td>    4.2924</td> <td>    0.238</td> <td>   18.071</td> <td> 0.000</td> <td>    3.827</td> <td>    4.758</td>\n",
       "</tr>\n",
       "<tr>\n",
       "  <th>Null_Count</th>                          <td>   -1.9010</td> <td>    0.313</td> <td>   -6.080</td> <td> 0.000</td> <td>   -2.514</td> <td>   -1.288</td>\n",
       "</tr>\n",
       "<tr>\n",
       "  <th>Landing Page Submission</th>             <td>   -0.8951</td> <td>    0.134</td> <td>   -6.699</td> <td> 0.000</td> <td>   -1.157</td> <td>   -0.633</td>\n",
       "</tr>\n",
       "<tr>\n",
       "  <th>Lead Add Form</th>                       <td>    4.1544</td> <td>    0.422</td> <td>    9.849</td> <td> 0.000</td> <td>    3.328</td> <td>    4.981</td>\n",
       "</tr>\n",
       "<tr>\n",
       "  <th>Lead Import</th>                         <td>   -0.9645</td> <td>    0.760</td> <td>   -1.269</td> <td> 0.204</td> <td>   -2.454</td> <td>    0.525</td>\n",
       "</tr>\n",
       "<tr>\n",
       "  <th>Olark Chat</th>                          <td>    0.8970</td> <td>    0.166</td> <td>    5.396</td> <td> 0.000</td> <td>    0.571</td> <td>    1.223</td>\n",
       "</tr>\n",
       "<tr>\n",
       "  <th>Reference</th>                           <td>   -3.3881</td> <td>    0.570</td> <td>   -5.949</td> <td> 0.000</td> <td>   -4.504</td> <td>   -2.272</td>\n",
       "</tr>\n",
       "<tr>\n",
       "  <th>Converted to Lead</th>                   <td>   -1.3958</td> <td>    0.379</td> <td>   -3.682</td> <td> 0.000</td> <td>   -2.139</td> <td>   -0.653</td>\n",
       "</tr>\n",
       "<tr>\n",
       "  <th>Email Bounced</th>                       <td>   -0.9919</td> <td>    0.494</td> <td>   -2.010</td> <td> 0.044</td> <td>   -1.959</td> <td>   -0.025</td>\n",
       "</tr>\n",
       "<tr>\n",
       "  <th>Olark Chat Conversation</th>             <td>   -1.4151</td> <td>    0.233</td> <td>   -6.068</td> <td> 0.000</td> <td>   -1.872</td> <td>   -0.958</td>\n",
       "</tr>\n",
       "<tr>\n",
       "  <th>SMS Sent</th>                            <td>    1.8947</td> <td>    0.112</td> <td>   16.990</td> <td> 0.000</td> <td>    1.676</td> <td>    2.113</td>\n",
       "</tr>\n",
       "<tr>\n",
       "  <th>Working Professional</th>                <td>    0.7947</td> <td>    0.367</td> <td>    2.168</td> <td> 0.030</td> <td>    0.076</td> <td>    1.513</td>\n",
       "</tr>\n",
       "<tr>\n",
       "  <th>Already a student</th>                   <td>   -4.4932</td> <td>    1.020</td> <td>   -4.407</td> <td> 0.000</td> <td>   -6.492</td> <td>   -2.495</td>\n",
       "</tr>\n",
       "<tr>\n",
       "  <th>Closed by Horizzon</th>                  <td>   26.1612</td> <td> 1.21e+04</td> <td>    0.002</td> <td> 0.998</td> <td>-2.37e+04</td> <td> 2.38e+04</td>\n",
       "</tr>\n",
       "<tr>\n",
       "  <th>Interested in other courses</th>         <td>   -2.7412</td> <td>    0.369</td> <td>   -7.424</td> <td> 0.000</td> <td>   -3.465</td> <td>   -2.018</td>\n",
       "</tr>\n",
       "<tr>\n",
       "  <th>Lost to EINS</th>                        <td>    5.5243</td> <td>    0.737</td> <td>    7.498</td> <td> 0.000</td> <td>    4.080</td> <td>    6.968</td>\n",
       "</tr>\n",
       "<tr>\n",
       "  <th>Other_Tags</th>                          <td>   -1.3815</td> <td>    0.168</td> <td>   -8.203</td> <td> 0.000</td> <td>   -1.712</td> <td>   -1.051</td>\n",
       "</tr>\n",
       "<tr>\n",
       "  <th>Ringing</th>                             <td>   -3.5239</td> <td>    0.249</td> <td>  -14.127</td> <td> 0.000</td> <td>   -4.013</td> <td>   -3.035</td>\n",
       "</tr>\n",
       "<tr>\n",
       "  <th>Will revert after reading the email</th> <td>    3.9829</td> <td>    0.218</td> <td>   18.277</td> <td> 0.000</td> <td>    3.556</td> <td>    4.410</td>\n",
       "</tr>\n",
       "</table>"
      ],
      "text/plain": [
       "<class 'statsmodels.iolib.summary.Summary'>\n",
       "\"\"\"\n",
       "                 Generalized Linear Model Regression Results                  \n",
       "==============================================================================\n",
       "Dep. Variable:              Converted   No. Observations:                 6467\n",
       "Model:                            GLM   Df Residuals:                     6446\n",
       "Model Family:                Binomial   Df Model:                           20\n",
       "Link Function:                  logit   Scale:                          1.0000\n",
       "Method:                          IRLS   Log-Likelihood:                -1356.2\n",
       "Date:                Sun, 07 Mar 2021   Deviance:                       2712.4\n",
       "Time:                        00:43:20   Pearson chi2:                 1.05e+04\n",
       "No. Iterations:                    24                                         \n",
       "Covariance Type:            nonrobust                                         \n",
       "=======================================================================================================\n",
       "                                          coef    std err          z      P>|z|      [0.025      0.975]\n",
       "-------------------------------------------------------------------------------------------------------\n",
       "const                                  -1.2336      0.236     -5.235      0.000      -1.696      -0.772\n",
       "Do Not Email                           -0.9276      0.250     -3.712      0.000      -1.417      -0.438\n",
       "Total Time Spent on Website             4.2924      0.238     18.071      0.000       3.827       4.758\n",
       "Null_Count                             -1.9010      0.313     -6.080      0.000      -2.514      -1.288\n",
       "Landing Page Submission                -0.8951      0.134     -6.699      0.000      -1.157      -0.633\n",
       "Lead Add Form                           4.1544      0.422      9.849      0.000       3.328       4.981\n",
       "Lead Import                            -0.9645      0.760     -1.269      0.204      -2.454       0.525\n",
       "Olark Chat                              0.8970      0.166      5.396      0.000       0.571       1.223\n",
       "Reference                              -3.3881      0.570     -5.949      0.000      -4.504      -2.272\n",
       "Converted to Lead                      -1.3958      0.379     -3.682      0.000      -2.139      -0.653\n",
       "Email Bounced                          -0.9919      0.494     -2.010      0.044      -1.959      -0.025\n",
       "Olark Chat Conversation                -1.4151      0.233     -6.068      0.000      -1.872      -0.958\n",
       "SMS Sent                                1.8947      0.112     16.990      0.000       1.676       2.113\n",
       "Working Professional                    0.7947      0.367      2.168      0.030       0.076       1.513\n",
       "Already a student                      -4.4932      1.020     -4.407      0.000      -6.492      -2.495\n",
       "Closed by Horizzon                     26.1612   1.21e+04      0.002      0.998   -2.37e+04    2.38e+04\n",
       "Interested in other courses            -2.7412      0.369     -7.424      0.000      -3.465      -2.018\n",
       "Lost to EINS                            5.5243      0.737      7.498      0.000       4.080       6.968\n",
       "Other_Tags                             -1.3815      0.168     -8.203      0.000      -1.712      -1.051\n",
       "Ringing                                -3.5239      0.249    -14.127      0.000      -4.013      -3.035\n",
       "Will revert after reading the email     3.9829      0.218     18.277      0.000       3.556       4.410\n",
       "=======================================================================================================\n",
       "\"\"\""
      ]
     },
     "execution_count": 128,
     "metadata": {},
     "output_type": "execute_result"
    }
   ],
   "source": [
    "x_train_rfe = sm.add_constant(x_train_rfe)\n",
    "logm1 = sm.GLM(y_train, x_train_rfe, family = sm.families.Binomial())\n",
    "res = logm1.fit()\n",
    "res.summary()"
   ]
  },
  {
   "cell_type": "markdown",
   "metadata": {},
   "source": [
    "#### VIF (Model 1)"
   ]
  },
  {
   "cell_type": "code",
   "execution_count": 129,
   "metadata": {},
   "outputs": [],
   "source": [
    "x_train_rfe.drop(\"const\", axis = 1, inplace = True)"
   ]
  },
  {
   "cell_type": "code",
   "execution_count": 130,
   "metadata": {
    "scrolled": false
   },
   "outputs": [
    {
     "data": {
      "text/html": [
       "<div>\n",
       "<style scoped>\n",
       "    .dataframe tbody tr th:only-of-type {\n",
       "        vertical-align: middle;\n",
       "    }\n",
       "\n",
       "    .dataframe tbody tr th {\n",
       "        vertical-align: top;\n",
       "    }\n",
       "\n",
       "    .dataframe thead th {\n",
       "        text-align: right;\n",
       "    }\n",
       "</style>\n",
       "<table border=\"1\" class=\"dataframe\">\n",
       "  <thead>\n",
       "    <tr style=\"text-align: right;\">\n",
       "      <th></th>\n",
       "      <th>Features</th>\n",
       "      <th>VIF</th>\n",
       "    </tr>\n",
       "  </thead>\n",
       "  <tbody>\n",
       "    <tr>\n",
       "      <th>4</th>\n",
       "      <td>Lead Add Form</td>\n",
       "      <td>4.71</td>\n",
       "    </tr>\n",
       "    <tr>\n",
       "      <th>7</th>\n",
       "      <td>Reference</td>\n",
       "      <td>4.42</td>\n",
       "    </tr>\n",
       "    <tr>\n",
       "      <th>2</th>\n",
       "      <td>Null_Count</td>\n",
       "      <td>3.48</td>\n",
       "    </tr>\n",
       "    <tr>\n",
       "      <th>3</th>\n",
       "      <td>Landing Page Submission</td>\n",
       "      <td>2.88</td>\n",
       "    </tr>\n",
       "    <tr>\n",
       "      <th>6</th>\n",
       "      <td>Olark Chat</td>\n",
       "      <td>2.37</td>\n",
       "    </tr>\n",
       "    <tr>\n",
       "      <th>1</th>\n",
       "      <td>Total Time Spent on Website</td>\n",
       "      <td>2.33</td>\n",
       "    </tr>\n",
       "    <tr>\n",
       "      <th>19</th>\n",
       "      <td>Will revert after reading the email</td>\n",
       "      <td>2.27</td>\n",
       "    </tr>\n",
       "    <tr>\n",
       "      <th>0</th>\n",
       "      <td>Do Not Email</td>\n",
       "      <td>1.86</td>\n",
       "    </tr>\n",
       "    <tr>\n",
       "      <th>9</th>\n",
       "      <td>Email Bounced</td>\n",
       "      <td>1.78</td>\n",
       "    </tr>\n",
       "    <tr>\n",
       "      <th>11</th>\n",
       "      <td>SMS Sent</td>\n",
       "      <td>1.75</td>\n",
       "    </tr>\n",
       "    <tr>\n",
       "      <th>10</th>\n",
       "      <td>Olark Chat Conversation</td>\n",
       "      <td>1.47</td>\n",
       "    </tr>\n",
       "    <tr>\n",
       "      <th>14</th>\n",
       "      <td>Closed by Horizzon</td>\n",
       "      <td>1.43</td>\n",
       "    </tr>\n",
       "    <tr>\n",
       "      <th>12</th>\n",
       "      <td>Working Professional</td>\n",
       "      <td>1.36</td>\n",
       "    </tr>\n",
       "    <tr>\n",
       "      <th>18</th>\n",
       "      <td>Ringing</td>\n",
       "      <td>1.33</td>\n",
       "    </tr>\n",
       "    <tr>\n",
       "      <th>17</th>\n",
       "      <td>Other_Tags</td>\n",
       "      <td>1.31</td>\n",
       "    </tr>\n",
       "    <tr>\n",
       "      <th>13</th>\n",
       "      <td>Already a student</td>\n",
       "      <td>1.13</td>\n",
       "    </tr>\n",
       "    <tr>\n",
       "      <th>8</th>\n",
       "      <td>Converted to Lead</td>\n",
       "      <td>1.12</td>\n",
       "    </tr>\n",
       "    <tr>\n",
       "      <th>15</th>\n",
       "      <td>Interested in other courses</td>\n",
       "      <td>1.11</td>\n",
       "    </tr>\n",
       "    <tr>\n",
       "      <th>16</th>\n",
       "      <td>Lost to EINS</td>\n",
       "      <td>1.08</td>\n",
       "    </tr>\n",
       "    <tr>\n",
       "      <th>5</th>\n",
       "      <td>Lead Import</td>\n",
       "      <td>1.02</td>\n",
       "    </tr>\n",
       "  </tbody>\n",
       "</table>\n",
       "</div>"
      ],
      "text/plain": [
       "                               Features   VIF\n",
       "4                         Lead Add Form  4.71\n",
       "7                             Reference  4.42\n",
       "2                            Null_Count  3.48\n",
       "3               Landing Page Submission  2.88\n",
       "6                            Olark Chat  2.37\n",
       "1           Total Time Spent on Website  2.33\n",
       "19  Will revert after reading the email  2.27\n",
       "0                          Do Not Email  1.86\n",
       "9                         Email Bounced  1.78\n",
       "11                             SMS Sent  1.75\n",
       "10              Olark Chat Conversation  1.47\n",
       "14                   Closed by Horizzon  1.43\n",
       "12                 Working Professional  1.36\n",
       "18                              Ringing  1.33\n",
       "17                           Other_Tags  1.31\n",
       "13                    Already a student  1.13\n",
       "8                     Converted to Lead  1.12\n",
       "15          Interested in other courses  1.11\n",
       "16                         Lost to EINS  1.08\n",
       "5                           Lead Import  1.02"
      ]
     },
     "execution_count": 130,
     "metadata": {},
     "output_type": "execute_result"
    }
   ],
   "source": [
    "# Create a dataframe that will contain the names of all the feature variables and their respective VIFs\n",
    "vif = pd.DataFrame()\n",
    "vif['Features'] = x_train_rfe.columns\n",
    "vif['VIF'] = [variance_inflation_factor(x_train_rfe.values, i) for i in range(x_train_rfe.shape[1])]\n",
    "vif['VIF'] = round(vif['VIF'], 2)\n",
    "vif = vif.sort_values(by = \"VIF\", ascending = False)\n",
    "vif"
   ]
  },
  {
   "cell_type": "markdown",
   "metadata": {},
   "source": [
    "### Model 2 : Dropping `Closed by horizzon` from Model 1\n",
    "because of it's high p-value, it is insignificant"
   ]
  },
  {
   "cell_type": "code",
   "execution_count": 131,
   "metadata": {},
   "outputs": [],
   "source": [
    "# Creating x_train_new1 dataframe for model 2.\n",
    "x_train_new1 = x_train_rfe.drop([\"Closed by Horizzon\"], axis=1)"
   ]
  },
  {
   "cell_type": "code",
   "execution_count": 132,
   "metadata": {},
   "outputs": [],
   "source": [
    "# Adding a constant variable\n",
    "x_train_new1 = sm.add_constant(x_train_new1)"
   ]
  },
  {
   "cell_type": "code",
   "execution_count": 133,
   "metadata": {},
   "outputs": [
    {
     "data": {
      "text/html": [
       "<table class=\"simpletable\">\n",
       "<caption>Generalized Linear Model Regression Results</caption>\n",
       "<tr>\n",
       "  <th>Dep. Variable:</th>       <td>Converted</td>    <th>  No. Observations:  </th>  <td>  6467</td> \n",
       "</tr>\n",
       "<tr>\n",
       "  <th>Model:</th>                  <td>GLM</td>       <th>  Df Residuals:      </th>  <td>  6447</td> \n",
       "</tr>\n",
       "<tr>\n",
       "  <th>Model Family:</th>        <td>Binomial</td>     <th>  Df Model:          </th>  <td>    19</td> \n",
       "</tr>\n",
       "<tr>\n",
       "  <th>Link Function:</th>         <td>logit</td>      <th>  Scale:             </th> <td>  1.0000</td>\n",
       "</tr>\n",
       "<tr>\n",
       "  <th>Method:</th>                <td>IRLS</td>       <th>  Log-Likelihood:    </th> <td> -1475.4</td>\n",
       "</tr>\n",
       "<tr>\n",
       "  <th>Date:</th>            <td>Sun, 07 Mar 2021</td> <th>  Deviance:          </th> <td>  2950.7</td>\n",
       "</tr>\n",
       "<tr>\n",
       "  <th>Time:</th>                <td>00:43:26</td>     <th>  Pearson chi2:      </th> <td>2.01e+04</td>\n",
       "</tr>\n",
       "<tr>\n",
       "  <th>No. Iterations:</th>          <td>9</td>        <th>                     </th>     <td> </td>   \n",
       "</tr>\n",
       "<tr>\n",
       "  <th>Covariance Type:</th>     <td>nonrobust</td>    <th>                     </th>     <td> </td>   \n",
       "</tr>\n",
       "</table>\n",
       "<table class=\"simpletable\">\n",
       "<tr>\n",
       "                   <td></td>                      <th>coef</th>     <th>std err</th>      <th>z</th>      <th>P>|z|</th>  <th>[0.025</th>    <th>0.975]</th>  \n",
       "</tr>\n",
       "<tr>\n",
       "  <th>const</th>                               <td>   -0.2581</td> <td>    0.209</td> <td>   -1.233</td> <td> 0.218</td> <td>   -0.668</td> <td>    0.152</td>\n",
       "</tr>\n",
       "<tr>\n",
       "  <th>Do Not Email</th>                        <td>   -0.9838</td> <td>    0.246</td> <td>   -4.007</td> <td> 0.000</td> <td>   -1.465</td> <td>   -0.503</td>\n",
       "</tr>\n",
       "<tr>\n",
       "  <th>Total Time Spent on Website</th>         <td>    4.3126</td> <td>    0.228</td> <td>   18.953</td> <td> 0.000</td> <td>    3.867</td> <td>    4.759</td>\n",
       "</tr>\n",
       "<tr>\n",
       "  <th>Null_Count</th>                          <td>   -3.1492</td> <td>    0.284</td> <td>  -11.085</td> <td> 0.000</td> <td>   -3.706</td> <td>   -2.592</td>\n",
       "</tr>\n",
       "<tr>\n",
       "  <th>Landing Page Submission</th>             <td>   -0.8577</td> <td>    0.129</td> <td>   -6.650</td> <td> 0.000</td> <td>   -1.110</td> <td>   -0.605</td>\n",
       "</tr>\n",
       "<tr>\n",
       "  <th>Lead Add Form</th>                       <td>    4.2235</td> <td>    0.419</td> <td>   10.081</td> <td> 0.000</td> <td>    3.402</td> <td>    5.045</td>\n",
       "</tr>\n",
       "<tr>\n",
       "  <th>Lead Import</th>                         <td>   -1.0325</td> <td>    0.748</td> <td>   -1.380</td> <td> 0.168</td> <td>   -2.499</td> <td>    0.434</td>\n",
       "</tr>\n",
       "<tr>\n",
       "  <th>Olark Chat</th>                          <td>    0.9602</td> <td>    0.162</td> <td>    5.932</td> <td> 0.000</td> <td>    0.643</td> <td>    1.278</td>\n",
       "</tr>\n",
       "<tr>\n",
       "  <th>Reference</th>                           <td>   -1.1816</td> <td>    0.482</td> <td>   -2.450</td> <td> 0.014</td> <td>   -2.127</td> <td>   -0.236</td>\n",
       "</tr>\n",
       "<tr>\n",
       "  <th>Converted to Lead</th>                   <td>   -1.5080</td> <td>    0.366</td> <td>   -4.120</td> <td> 0.000</td> <td>   -2.225</td> <td>   -0.791</td>\n",
       "</tr>\n",
       "<tr>\n",
       "  <th>Email Bounced</th>                       <td>   -0.8868</td> <td>    0.451</td> <td>   -1.968</td> <td> 0.049</td> <td>   -1.770</td> <td>   -0.003</td>\n",
       "</tr>\n",
       "<tr>\n",
       "  <th>Olark Chat Conversation</th>             <td>   -1.4076</td> <td>    0.216</td> <td>   -6.520</td> <td> 0.000</td> <td>   -1.831</td> <td>   -0.985</td>\n",
       "</tr>\n",
       "<tr>\n",
       "  <th>SMS Sent</th>                            <td>    1.7127</td> <td>    0.109</td> <td>   15.779</td> <td> 0.000</td> <td>    1.500</td> <td>    1.925</td>\n",
       "</tr>\n",
       "<tr>\n",
       "  <th>Working Professional</th>                <td>    1.5412</td> <td>    0.316</td> <td>    4.884</td> <td> 0.000</td> <td>    0.923</td> <td>    2.160</td>\n",
       "</tr>\n",
       "<tr>\n",
       "  <th>Already a student</th>                   <td>   -5.1777</td> <td>    1.022</td> <td>   -5.067</td> <td> 0.000</td> <td>   -7.181</td> <td>   -3.175</td>\n",
       "</tr>\n",
       "<tr>\n",
       "  <th>Interested in other courses</th>         <td>   -3.6000</td> <td>    0.374</td> <td>   -9.621</td> <td> 0.000</td> <td>   -4.333</td> <td>   -2.867</td>\n",
       "</tr>\n",
       "<tr>\n",
       "  <th>Lost to EINS</th>                        <td>    4.9980</td> <td>    0.735</td> <td>    6.801</td> <td> 0.000</td> <td>    3.558</td> <td>    6.438</td>\n",
       "</tr>\n",
       "<tr>\n",
       "  <th>Other_Tags</th>                          <td>   -2.0133</td> <td>    0.162</td> <td>  -12.453</td> <td> 0.000</td> <td>   -2.330</td> <td>   -1.696</td>\n",
       "</tr>\n",
       "<tr>\n",
       "  <th>Ringing</th>                             <td>   -4.1944</td> <td>    0.249</td> <td>  -16.854</td> <td> 0.000</td> <td>   -4.682</td> <td>   -3.707</td>\n",
       "</tr>\n",
       "<tr>\n",
       "  <th>Will revert after reading the email</th> <td>    3.1370</td> <td>    0.196</td> <td>   16.032</td> <td> 0.000</td> <td>    2.754</td> <td>    3.521</td>\n",
       "</tr>\n",
       "</table>"
      ],
      "text/plain": [
       "<class 'statsmodels.iolib.summary.Summary'>\n",
       "\"\"\"\n",
       "                 Generalized Linear Model Regression Results                  \n",
       "==============================================================================\n",
       "Dep. Variable:              Converted   No. Observations:                 6467\n",
       "Model:                            GLM   Df Residuals:                     6447\n",
       "Model Family:                Binomial   Df Model:                           19\n",
       "Link Function:                  logit   Scale:                          1.0000\n",
       "Method:                          IRLS   Log-Likelihood:                -1475.4\n",
       "Date:                Sun, 07 Mar 2021   Deviance:                       2950.7\n",
       "Time:                        00:43:26   Pearson chi2:                 2.01e+04\n",
       "No. Iterations:                     9                                         \n",
       "Covariance Type:            nonrobust                                         \n",
       "=======================================================================================================\n",
       "                                          coef    std err          z      P>|z|      [0.025      0.975]\n",
       "-------------------------------------------------------------------------------------------------------\n",
       "const                                  -0.2581      0.209     -1.233      0.218      -0.668       0.152\n",
       "Do Not Email                           -0.9838      0.246     -4.007      0.000      -1.465      -0.503\n",
       "Total Time Spent on Website             4.3126      0.228     18.953      0.000       3.867       4.759\n",
       "Null_Count                             -3.1492      0.284    -11.085      0.000      -3.706      -2.592\n",
       "Landing Page Submission                -0.8577      0.129     -6.650      0.000      -1.110      -0.605\n",
       "Lead Add Form                           4.2235      0.419     10.081      0.000       3.402       5.045\n",
       "Lead Import                            -1.0325      0.748     -1.380      0.168      -2.499       0.434\n",
       "Olark Chat                              0.9602      0.162      5.932      0.000       0.643       1.278\n",
       "Reference                              -1.1816      0.482     -2.450      0.014      -2.127      -0.236\n",
       "Converted to Lead                      -1.5080      0.366     -4.120      0.000      -2.225      -0.791\n",
       "Email Bounced                          -0.8868      0.451     -1.968      0.049      -1.770      -0.003\n",
       "Olark Chat Conversation                -1.4076      0.216     -6.520      0.000      -1.831      -0.985\n",
       "SMS Sent                                1.7127      0.109     15.779      0.000       1.500       1.925\n",
       "Working Professional                    1.5412      0.316      4.884      0.000       0.923       2.160\n",
       "Already a student                      -5.1777      1.022     -5.067      0.000      -7.181      -3.175\n",
       "Interested in other courses            -3.6000      0.374     -9.621      0.000      -4.333      -2.867\n",
       "Lost to EINS                            4.9980      0.735      6.801      0.000       3.558       6.438\n",
       "Other_Tags                             -2.0133      0.162    -12.453      0.000      -2.330      -1.696\n",
       "Ringing                                -4.1944      0.249    -16.854      0.000      -4.682      -3.707\n",
       "Will revert after reading the email     3.1370      0.196     16.032      0.000       2.754       3.521\n",
       "=======================================================================================================\n",
       "\"\"\""
      ]
     },
     "execution_count": 133,
     "metadata": {},
     "output_type": "execute_result"
    }
   ],
   "source": [
    "# Running the Logistic regression on model2\n",
    "logm2 = sm.GLM(y_train, x_train_new1, family = sm.families.Binomial())\n",
    "res = logm2.fit()\n",
    "res.summary()"
   ]
  },
  {
   "cell_type": "markdown",
   "metadata": {},
   "source": [
    "#### VIF (Model 2)"
   ]
  },
  {
   "cell_type": "code",
   "execution_count": 134,
   "metadata": {},
   "outputs": [],
   "source": [
    "x_train_new1.drop(\"const\",inplace=True,axis=1)"
   ]
  },
  {
   "cell_type": "code",
   "execution_count": 135,
   "metadata": {},
   "outputs": [
    {
     "data": {
      "text/html": [
       "<div>\n",
       "<style scoped>\n",
       "    .dataframe tbody tr th:only-of-type {\n",
       "        vertical-align: middle;\n",
       "    }\n",
       "\n",
       "    .dataframe tbody tr th {\n",
       "        vertical-align: top;\n",
       "    }\n",
       "\n",
       "    .dataframe thead th {\n",
       "        text-align: right;\n",
       "    }\n",
       "</style>\n",
       "<table border=\"1\" class=\"dataframe\">\n",
       "  <thead>\n",
       "    <tr style=\"text-align: right;\">\n",
       "      <th></th>\n",
       "      <th>Features</th>\n",
       "      <th>VIF</th>\n",
       "    </tr>\n",
       "  </thead>\n",
       "  <tbody>\n",
       "    <tr>\n",
       "      <th>4</th>\n",
       "      <td>Lead Add Form</td>\n",
       "      <td>4.59</td>\n",
       "    </tr>\n",
       "    <tr>\n",
       "      <th>7</th>\n",
       "      <td>Reference</td>\n",
       "      <td>4.32</td>\n",
       "    </tr>\n",
       "    <tr>\n",
       "      <th>2</th>\n",
       "      <td>Null_Count</td>\n",
       "      <td>3.44</td>\n",
       "    </tr>\n",
       "    <tr>\n",
       "      <th>3</th>\n",
       "      <td>Landing Page Submission</td>\n",
       "      <td>2.80</td>\n",
       "    </tr>\n",
       "    <tr>\n",
       "      <th>6</th>\n",
       "      <td>Olark Chat</td>\n",
       "      <td>2.32</td>\n",
       "    </tr>\n",
       "    <tr>\n",
       "      <th>1</th>\n",
       "      <td>Total Time Spent on Website</td>\n",
       "      <td>2.17</td>\n",
       "    </tr>\n",
       "    <tr>\n",
       "      <th>18</th>\n",
       "      <td>Will revert after reading the email</td>\n",
       "      <td>2.03</td>\n",
       "    </tr>\n",
       "    <tr>\n",
       "      <th>0</th>\n",
       "      <td>Do Not Email</td>\n",
       "      <td>1.86</td>\n",
       "    </tr>\n",
       "    <tr>\n",
       "      <th>9</th>\n",
       "      <td>Email Bounced</td>\n",
       "      <td>1.78</td>\n",
       "    </tr>\n",
       "    <tr>\n",
       "      <th>11</th>\n",
       "      <td>SMS Sent</td>\n",
       "      <td>1.74</td>\n",
       "    </tr>\n",
       "    <tr>\n",
       "      <th>10</th>\n",
       "      <td>Olark Chat Conversation</td>\n",
       "      <td>1.47</td>\n",
       "    </tr>\n",
       "    <tr>\n",
       "      <th>12</th>\n",
       "      <td>Working Professional</td>\n",
       "      <td>1.33</td>\n",
       "    </tr>\n",
       "    <tr>\n",
       "      <th>17</th>\n",
       "      <td>Ringing</td>\n",
       "      <td>1.31</td>\n",
       "    </tr>\n",
       "    <tr>\n",
       "      <th>16</th>\n",
       "      <td>Other_Tags</td>\n",
       "      <td>1.29</td>\n",
       "    </tr>\n",
       "    <tr>\n",
       "      <th>8</th>\n",
       "      <td>Converted to Lead</td>\n",
       "      <td>1.12</td>\n",
       "    </tr>\n",
       "    <tr>\n",
       "      <th>13</th>\n",
       "      <td>Already a student</td>\n",
       "      <td>1.12</td>\n",
       "    </tr>\n",
       "    <tr>\n",
       "      <th>14</th>\n",
       "      <td>Interested in other courses</td>\n",
       "      <td>1.10</td>\n",
       "    </tr>\n",
       "    <tr>\n",
       "      <th>15</th>\n",
       "      <td>Lost to EINS</td>\n",
       "      <td>1.06</td>\n",
       "    </tr>\n",
       "    <tr>\n",
       "      <th>5</th>\n",
       "      <td>Lead Import</td>\n",
       "      <td>1.02</td>\n",
       "    </tr>\n",
       "  </tbody>\n",
       "</table>\n",
       "</div>"
      ],
      "text/plain": [
       "                               Features   VIF\n",
       "4                         Lead Add Form  4.59\n",
       "7                             Reference  4.32\n",
       "2                            Null_Count  3.44\n",
       "3               Landing Page Submission  2.80\n",
       "6                            Olark Chat  2.32\n",
       "1           Total Time Spent on Website  2.17\n",
       "18  Will revert after reading the email  2.03\n",
       "0                          Do Not Email  1.86\n",
       "9                         Email Bounced  1.78\n",
       "11                             SMS Sent  1.74\n",
       "10              Olark Chat Conversation  1.47\n",
       "12                 Working Professional  1.33\n",
       "17                              Ringing  1.31\n",
       "16                           Other_Tags  1.29\n",
       "8                     Converted to Lead  1.12\n",
       "13                    Already a student  1.12\n",
       "14          Interested in other courses  1.10\n",
       "15                         Lost to EINS  1.06\n",
       "5                           Lead Import  1.02"
      ]
     },
     "execution_count": 135,
     "metadata": {},
     "output_type": "execute_result"
    }
   ],
   "source": [
    "# Create a dataframe that will contain the names of all the feature variables and their respective VIFs\n",
    "vif = pd.DataFrame()\n",
    "vif['Features'] = x_train_new1.columns\n",
    "vif['VIF'] = [variance_inflation_factor(x_train_new1.values, i) for i in range(x_train_new1.shape[1])]\n",
    "vif['VIF'] = round(vif['VIF'], 2)\n",
    "vif = vif.sort_values(by = \"VIF\", ascending = False)\n",
    "vif"
   ]
  },
  {
   "cell_type": "markdown",
   "metadata": {},
   "source": [
    "### Model 3 : Dropping `Lead Import` from model 2\n",
    "because it has high p-value."
   ]
  },
  {
   "cell_type": "code",
   "execution_count": 136,
   "metadata": {},
   "outputs": [
    {
     "data": {
      "text/html": [
       "<table class=\"simpletable\">\n",
       "<caption>Generalized Linear Model Regression Results</caption>\n",
       "<tr>\n",
       "  <th>Dep. Variable:</th>       <td>Converted</td>    <th>  No. Observations:  </th>  <td>  6467</td> \n",
       "</tr>\n",
       "<tr>\n",
       "  <th>Model:</th>                  <td>GLM</td>       <th>  Df Residuals:      </th>  <td>  6448</td> \n",
       "</tr>\n",
       "<tr>\n",
       "  <th>Model Family:</th>        <td>Binomial</td>     <th>  Df Model:          </th>  <td>    18</td> \n",
       "</tr>\n",
       "<tr>\n",
       "  <th>Link Function:</th>         <td>logit</td>      <th>  Scale:             </th> <td>  1.0000</td>\n",
       "</tr>\n",
       "<tr>\n",
       "  <th>Method:</th>                <td>IRLS</td>       <th>  Log-Likelihood:    </th> <td> -1476.4</td>\n",
       "</tr>\n",
       "<tr>\n",
       "  <th>Date:</th>            <td>Sun, 07 Mar 2021</td> <th>  Deviance:          </th> <td>  2952.8</td>\n",
       "</tr>\n",
       "<tr>\n",
       "  <th>Time:</th>                <td>00:44:32</td>     <th>  Pearson chi2:      </th> <td>2.00e+04</td>\n",
       "</tr>\n",
       "<tr>\n",
       "  <th>No. Iterations:</th>          <td>9</td>        <th>                     </th>     <td> </td>   \n",
       "</tr>\n",
       "<tr>\n",
       "  <th>Covariance Type:</th>     <td>nonrobust</td>    <th>                     </th>     <td> </td>   \n",
       "</tr>\n",
       "</table>\n",
       "<table class=\"simpletable\">\n",
       "<tr>\n",
       "                   <td></td>                      <th>coef</th>     <th>std err</th>      <th>z</th>      <th>P>|z|</th>  <th>[0.025</th>    <th>0.975]</th>  \n",
       "</tr>\n",
       "<tr>\n",
       "  <th>const</th>                               <td>   -0.2913</td> <td>    0.208</td> <td>   -1.401</td> <td> 0.161</td> <td>   -0.699</td> <td>    0.116</td>\n",
       "</tr>\n",
       "<tr>\n",
       "  <th>Do Not Email</th>                        <td>   -0.9794</td> <td>    0.245</td> <td>   -3.989</td> <td> 0.000</td> <td>   -1.461</td> <td>   -0.498</td>\n",
       "</tr>\n",
       "<tr>\n",
       "  <th>Total Time Spent on Website</th>         <td>    4.3336</td> <td>    0.227</td> <td>   19.069</td> <td> 0.000</td> <td>    3.888</td> <td>    4.779</td>\n",
       "</tr>\n",
       "<tr>\n",
       "  <th>Null_Count</th>                          <td>   -3.1389</td> <td>    0.284</td> <td>  -11.060</td> <td> 0.000</td> <td>   -3.695</td> <td>   -2.583</td>\n",
       "</tr>\n",
       "<tr>\n",
       "  <th>Landing Page Submission</th>             <td>   -0.8344</td> <td>    0.128</td> <td>   -6.521</td> <td> 0.000</td> <td>   -1.085</td> <td>   -0.584</td>\n",
       "</tr>\n",
       "<tr>\n",
       "  <th>Lead Add Form</th>                       <td>    4.2499</td> <td>    0.419</td> <td>   10.153</td> <td> 0.000</td> <td>    3.430</td> <td>    5.070</td>\n",
       "</tr>\n",
       "<tr>\n",
       "  <th>Olark Chat</th>                          <td>    0.9865</td> <td>    0.161</td> <td>    6.128</td> <td> 0.000</td> <td>    0.671</td> <td>    1.302</td>\n",
       "</tr>\n",
       "<tr>\n",
       "  <th>Reference</th>                           <td>   -1.1817</td> <td>    0.482</td> <td>   -2.450</td> <td> 0.014</td> <td>   -2.127</td> <td>   -0.236</td>\n",
       "</tr>\n",
       "<tr>\n",
       "  <th>Converted to Lead</th>                   <td>   -1.5020</td> <td>    0.366</td> <td>   -4.103</td> <td> 0.000</td> <td>   -2.219</td> <td>   -0.784</td>\n",
       "</tr>\n",
       "<tr>\n",
       "  <th>Email Bounced</th>                       <td>   -0.8910</td> <td>    0.451</td> <td>   -1.977</td> <td> 0.048</td> <td>   -1.774</td> <td>   -0.008</td>\n",
       "</tr>\n",
       "<tr>\n",
       "  <th>Olark Chat Conversation</th>             <td>   -1.4034</td> <td>    0.216</td> <td>   -6.504</td> <td> 0.000</td> <td>   -1.826</td> <td>   -0.981</td>\n",
       "</tr>\n",
       "<tr>\n",
       "  <th>SMS Sent</th>                            <td>    1.7063</td> <td>    0.108</td> <td>   15.753</td> <td> 0.000</td> <td>    1.494</td> <td>    1.919</td>\n",
       "</tr>\n",
       "<tr>\n",
       "  <th>Working Professional</th>                <td>    1.5396</td> <td>    0.316</td> <td>    4.877</td> <td> 0.000</td> <td>    0.921</td> <td>    2.158</td>\n",
       "</tr>\n",
       "<tr>\n",
       "  <th>Already a student</th>                   <td>   -5.1770</td> <td>    1.022</td> <td>   -5.065</td> <td> 0.000</td> <td>   -7.180</td> <td>   -3.174</td>\n",
       "</tr>\n",
       "<tr>\n",
       "  <th>Interested in other courses</th>         <td>   -3.5912</td> <td>    0.374</td> <td>   -9.601</td> <td> 0.000</td> <td>   -4.324</td> <td>   -2.858</td>\n",
       "</tr>\n",
       "<tr>\n",
       "  <th>Lost to EINS</th>                        <td>    4.9985</td> <td>    0.735</td> <td>    6.802</td> <td> 0.000</td> <td>    3.558</td> <td>    6.439</td>\n",
       "</tr>\n",
       "<tr>\n",
       "  <th>Other_Tags</th>                          <td>   -2.0075</td> <td>    0.162</td> <td>  -12.429</td> <td> 0.000</td> <td>   -2.324</td> <td>   -1.691</td>\n",
       "</tr>\n",
       "<tr>\n",
       "  <th>Ringing</th>                             <td>   -4.1901</td> <td>    0.249</td> <td>  -16.847</td> <td> 0.000</td> <td>   -4.678</td> <td>   -3.703</td>\n",
       "</tr>\n",
       "<tr>\n",
       "  <th>Will revert after reading the email</th> <td>    3.1375</td> <td>    0.196</td> <td>   16.039</td> <td> 0.000</td> <td>    2.754</td> <td>    3.521</td>\n",
       "</tr>\n",
       "</table>"
      ],
      "text/plain": [
       "<class 'statsmodels.iolib.summary.Summary'>\n",
       "\"\"\"\n",
       "                 Generalized Linear Model Regression Results                  \n",
       "==============================================================================\n",
       "Dep. Variable:              Converted   No. Observations:                 6467\n",
       "Model:                            GLM   Df Residuals:                     6448\n",
       "Model Family:                Binomial   Df Model:                           18\n",
       "Link Function:                  logit   Scale:                          1.0000\n",
       "Method:                          IRLS   Log-Likelihood:                -1476.4\n",
       "Date:                Sun, 07 Mar 2021   Deviance:                       2952.8\n",
       "Time:                        00:44:32   Pearson chi2:                 2.00e+04\n",
       "No. Iterations:                     9                                         \n",
       "Covariance Type:            nonrobust                                         \n",
       "=======================================================================================================\n",
       "                                          coef    std err          z      P>|z|      [0.025      0.975]\n",
       "-------------------------------------------------------------------------------------------------------\n",
       "const                                  -0.2913      0.208     -1.401      0.161      -0.699       0.116\n",
       "Do Not Email                           -0.9794      0.245     -3.989      0.000      -1.461      -0.498\n",
       "Total Time Spent on Website             4.3336      0.227     19.069      0.000       3.888       4.779\n",
       "Null_Count                             -3.1389      0.284    -11.060      0.000      -3.695      -2.583\n",
       "Landing Page Submission                -0.8344      0.128     -6.521      0.000      -1.085      -0.584\n",
       "Lead Add Form                           4.2499      0.419     10.153      0.000       3.430       5.070\n",
       "Olark Chat                              0.9865      0.161      6.128      0.000       0.671       1.302\n",
       "Reference                              -1.1817      0.482     -2.450      0.014      -2.127      -0.236\n",
       "Converted to Lead                      -1.5020      0.366     -4.103      0.000      -2.219      -0.784\n",
       "Email Bounced                          -0.8910      0.451     -1.977      0.048      -1.774      -0.008\n",
       "Olark Chat Conversation                -1.4034      0.216     -6.504      0.000      -1.826      -0.981\n",
       "SMS Sent                                1.7063      0.108     15.753      0.000       1.494       1.919\n",
       "Working Professional                    1.5396      0.316      4.877      0.000       0.921       2.158\n",
       "Already a student                      -5.1770      1.022     -5.065      0.000      -7.180      -3.174\n",
       "Interested in other courses            -3.5912      0.374     -9.601      0.000      -4.324      -2.858\n",
       "Lost to EINS                            4.9985      0.735      6.802      0.000       3.558       6.439\n",
       "Other_Tags                             -2.0075      0.162    -12.429      0.000      -2.324      -1.691\n",
       "Ringing                                -4.1901      0.249    -16.847      0.000      -4.678      -3.703\n",
       "Will revert after reading the email     3.1375      0.196     16.039      0.000       2.754       3.521\n",
       "=======================================================================================================\n",
       "\"\"\""
      ]
     },
     "execution_count": 136,
     "metadata": {},
     "output_type": "execute_result"
    }
   ],
   "source": [
    "# Creating x_train_new2 dataframe for model 3.\n",
    "x_train_new2 = x_train_new1.drop([\"Lead Import\"], axis=1)\n",
    "\n",
    "# Adding a constant variable\n",
    "x_train_new2 = sm.add_constant(x_train_new2)\n",
    "\n",
    "# Running the Logistic regression on model2\n",
    "logm3 = sm.GLM(y_train, x_train_new2, family = sm.families.Binomial())\n",
    "res = logm3.fit()\n",
    "res.summary()"
   ]
  },
  {
   "cell_type": "markdown",
   "metadata": {},
   "source": [
    "#### VIF (Model 3)"
   ]
  },
  {
   "cell_type": "code",
   "execution_count": 137,
   "metadata": {},
   "outputs": [],
   "source": [
    "x_train_new2.drop(\"const\",inplace=True,axis=1)"
   ]
  },
  {
   "cell_type": "code",
   "execution_count": 138,
   "metadata": {},
   "outputs": [
    {
     "data": {
      "text/html": [
       "<div>\n",
       "<style scoped>\n",
       "    .dataframe tbody tr th:only-of-type {\n",
       "        vertical-align: middle;\n",
       "    }\n",
       "\n",
       "    .dataframe tbody tr th {\n",
       "        vertical-align: top;\n",
       "    }\n",
       "\n",
       "    .dataframe thead th {\n",
       "        text-align: right;\n",
       "    }\n",
       "</style>\n",
       "<table border=\"1\" class=\"dataframe\">\n",
       "  <thead>\n",
       "    <tr style=\"text-align: right;\">\n",
       "      <th></th>\n",
       "      <th>Features</th>\n",
       "      <th>VIF</th>\n",
       "    </tr>\n",
       "  </thead>\n",
       "  <tbody>\n",
       "    <tr>\n",
       "      <th>4</th>\n",
       "      <td>Lead Add Form</td>\n",
       "      <td>4.59</td>\n",
       "    </tr>\n",
       "    <tr>\n",
       "      <th>6</th>\n",
       "      <td>Reference</td>\n",
       "      <td>4.32</td>\n",
       "    </tr>\n",
       "    <tr>\n",
       "      <th>2</th>\n",
       "      <td>Null_Count</td>\n",
       "      <td>3.40</td>\n",
       "    </tr>\n",
       "    <tr>\n",
       "      <th>3</th>\n",
       "      <td>Landing Page Submission</td>\n",
       "      <td>2.77</td>\n",
       "    </tr>\n",
       "    <tr>\n",
       "      <th>5</th>\n",
       "      <td>Olark Chat</td>\n",
       "      <td>2.31</td>\n",
       "    </tr>\n",
       "    <tr>\n",
       "      <th>1</th>\n",
       "      <td>Total Time Spent on Website</td>\n",
       "      <td>2.17</td>\n",
       "    </tr>\n",
       "    <tr>\n",
       "      <th>17</th>\n",
       "      <td>Will revert after reading the email</td>\n",
       "      <td>2.02</td>\n",
       "    </tr>\n",
       "    <tr>\n",
       "      <th>0</th>\n",
       "      <td>Do Not Email</td>\n",
       "      <td>1.86</td>\n",
       "    </tr>\n",
       "    <tr>\n",
       "      <th>8</th>\n",
       "      <td>Email Bounced</td>\n",
       "      <td>1.78</td>\n",
       "    </tr>\n",
       "    <tr>\n",
       "      <th>10</th>\n",
       "      <td>SMS Sent</td>\n",
       "      <td>1.74</td>\n",
       "    </tr>\n",
       "    <tr>\n",
       "      <th>9</th>\n",
       "      <td>Olark Chat Conversation</td>\n",
       "      <td>1.47</td>\n",
       "    </tr>\n",
       "    <tr>\n",
       "      <th>11</th>\n",
       "      <td>Working Professional</td>\n",
       "      <td>1.33</td>\n",
       "    </tr>\n",
       "    <tr>\n",
       "      <th>16</th>\n",
       "      <td>Ringing</td>\n",
       "      <td>1.29</td>\n",
       "    </tr>\n",
       "    <tr>\n",
       "      <th>15</th>\n",
       "      <td>Other_Tags</td>\n",
       "      <td>1.28</td>\n",
       "    </tr>\n",
       "    <tr>\n",
       "      <th>7</th>\n",
       "      <td>Converted to Lead</td>\n",
       "      <td>1.12</td>\n",
       "    </tr>\n",
       "    <tr>\n",
       "      <th>12</th>\n",
       "      <td>Already a student</td>\n",
       "      <td>1.12</td>\n",
       "    </tr>\n",
       "    <tr>\n",
       "      <th>13</th>\n",
       "      <td>Interested in other courses</td>\n",
       "      <td>1.10</td>\n",
       "    </tr>\n",
       "    <tr>\n",
       "      <th>14</th>\n",
       "      <td>Lost to EINS</td>\n",
       "      <td>1.06</td>\n",
       "    </tr>\n",
       "  </tbody>\n",
       "</table>\n",
       "</div>"
      ],
      "text/plain": [
       "                               Features   VIF\n",
       "4                         Lead Add Form  4.59\n",
       "6                             Reference  4.32\n",
       "2                            Null_Count  3.40\n",
       "3               Landing Page Submission  2.77\n",
       "5                            Olark Chat  2.31\n",
       "1           Total Time Spent on Website  2.17\n",
       "17  Will revert after reading the email  2.02\n",
       "0                          Do Not Email  1.86\n",
       "8                         Email Bounced  1.78\n",
       "10                             SMS Sent  1.74\n",
       "9               Olark Chat Conversation  1.47\n",
       "11                 Working Professional  1.33\n",
       "16                              Ringing  1.29\n",
       "15                           Other_Tags  1.28\n",
       "7                     Converted to Lead  1.12\n",
       "12                    Already a student  1.12\n",
       "13          Interested in other courses  1.10\n",
       "14                         Lost to EINS  1.06"
      ]
     },
     "execution_count": 138,
     "metadata": {},
     "output_type": "execute_result"
    }
   ],
   "source": [
    "# Create a dataframe that will contain the names of all the feature variables and their respective VIFs\n",
    "vif = pd.DataFrame()\n",
    "vif['Features'] = x_train_new2.columns\n",
    "vif['VIF'] = [variance_inflation_factor(x_train_new2.values, i) for i in range(x_train_new2.shape[1])]\n",
    "vif['VIF'] = round(vif['VIF'], 2)\n",
    "vif = vif.sort_values(by = \"VIF\", ascending = False)\n",
    "vif"
   ]
  },
  {
   "cell_type": "markdown",
   "metadata": {},
   "source": [
    "#### This model looks good, as there seems to be VERY LOW Multicollinearity between the predictors and the p-values for all the predictors seems to be significant. Now, we will check various metrics to see how good our model is."
   ]
  },
  {
   "cell_type": "code",
   "execution_count": 139,
   "metadata": {
    "scrolled": true
   },
   "outputs": [
    {
     "data": {
      "text/plain": [
       "Lead Number\n",
       "608309    0.388386\n",
       "601302    0.038130\n",
       "597540    0.001135\n",
       "591462    0.498530\n",
       "589061    0.030497\n",
       "628456    0.001503\n",
       "588058    0.999794\n",
       "649586    0.115843\n",
       "592599    0.120678\n",
       "649186    0.926527\n",
       "dtype: float64"
      ]
     },
     "execution_count": 139,
     "metadata": {},
     "output_type": "execute_result"
    }
   ],
   "source": [
    "# Getting the predicted values on the train set\n",
    "x_train_new2 = sm.add_constant(x_train_new2)\n",
    "y_train_pred = res.predict(x_train_new2)\n",
    "y_train_pred[:10]"
   ]
  },
  {
   "cell_type": "code",
   "execution_count": 140,
   "metadata": {},
   "outputs": [
    {
     "data": {
      "text/plain": [
       "array([0.38838608, 0.03813   , 0.00113475, 0.49852972, 0.03049673,\n",
       "       0.00150288, 0.99979407, 0.11584304, 0.12067846, 0.92652729])"
      ]
     },
     "execution_count": 140,
     "metadata": {},
     "output_type": "execute_result"
    }
   ],
   "source": [
    "y_train_pred = y_train_pred.values.reshape(-1)\n",
    "y_train_pred[:10]"
   ]
  },
  {
   "cell_type": "code",
   "execution_count": 141,
   "metadata": {},
   "outputs": [
    {
     "data": {
      "text/html": [
       "<div>\n",
       "<style scoped>\n",
       "    .dataframe tbody tr th:only-of-type {\n",
       "        vertical-align: middle;\n",
       "    }\n",
       "\n",
       "    .dataframe tbody tr th {\n",
       "        vertical-align: top;\n",
       "    }\n",
       "\n",
       "    .dataframe thead th {\n",
       "        text-align: right;\n",
       "    }\n",
       "</style>\n",
       "<table border=\"1\" class=\"dataframe\">\n",
       "  <thead>\n",
       "    <tr style=\"text-align: right;\">\n",
       "      <th></th>\n",
       "      <th>Converted</th>\n",
       "      <th>Conversion_Prob</th>\n",
       "    </tr>\n",
       "  </thead>\n",
       "  <tbody>\n",
       "    <tr>\n",
       "      <th>0</th>\n",
       "      <td>0</td>\n",
       "      <td>0.388386</td>\n",
       "    </tr>\n",
       "    <tr>\n",
       "      <th>1</th>\n",
       "      <td>0</td>\n",
       "      <td>0.038130</td>\n",
       "    </tr>\n",
       "    <tr>\n",
       "      <th>2</th>\n",
       "      <td>0</td>\n",
       "      <td>0.001135</td>\n",
       "    </tr>\n",
       "    <tr>\n",
       "      <th>3</th>\n",
       "      <td>1</td>\n",
       "      <td>0.498530</td>\n",
       "    </tr>\n",
       "    <tr>\n",
       "      <th>4</th>\n",
       "      <td>0</td>\n",
       "      <td>0.030497</td>\n",
       "    </tr>\n",
       "  </tbody>\n",
       "</table>\n",
       "</div>"
      ],
      "text/plain": [
       "   Converted  Conversion_Prob\n",
       "0          0         0.388386\n",
       "1          0         0.038130\n",
       "2          0         0.001135\n",
       "3          1         0.498530\n",
       "4          0         0.030497"
      ]
     },
     "execution_count": 141,
     "metadata": {},
     "output_type": "execute_result"
    }
   ],
   "source": [
    "# Creating a dataframe with conversion probability and conversion flag.\n",
    "y_train_pred_final = pd.DataFrame({\"Converted\":y_train.astype(\"int64\").values, \"Conversion_Prob\":y_train_pred})\n",
    "y_train_pred_final.head()"
   ]
  },
  {
   "cell_type": "markdown",
   "metadata": {},
   "source": [
    "#### Creating a new column 'predicted' with 1 if Conversion_Prob > 0.5 else 0"
   ]
  },
  {
   "cell_type": "code",
   "execution_count": 142,
   "metadata": {},
   "outputs": [
    {
     "data": {
      "text/html": [
       "<div>\n",
       "<style scoped>\n",
       "    .dataframe tbody tr th:only-of-type {\n",
       "        vertical-align: middle;\n",
       "    }\n",
       "\n",
       "    .dataframe tbody tr th {\n",
       "        vertical-align: top;\n",
       "    }\n",
       "\n",
       "    .dataframe thead th {\n",
       "        text-align: right;\n",
       "    }\n",
       "</style>\n",
       "<table border=\"1\" class=\"dataframe\">\n",
       "  <thead>\n",
       "    <tr style=\"text-align: right;\">\n",
       "      <th></th>\n",
       "      <th>Converted</th>\n",
       "      <th>Conversion_Prob</th>\n",
       "      <th>predicted</th>\n",
       "    </tr>\n",
       "  </thead>\n",
       "  <tbody>\n",
       "    <tr>\n",
       "      <th>0</th>\n",
       "      <td>0</td>\n",
       "      <td>0.388386</td>\n",
       "      <td>0</td>\n",
       "    </tr>\n",
       "    <tr>\n",
       "      <th>1</th>\n",
       "      <td>0</td>\n",
       "      <td>0.038130</td>\n",
       "      <td>0</td>\n",
       "    </tr>\n",
       "    <tr>\n",
       "      <th>2</th>\n",
       "      <td>0</td>\n",
       "      <td>0.001135</td>\n",
       "      <td>0</td>\n",
       "    </tr>\n",
       "    <tr>\n",
       "      <th>3</th>\n",
       "      <td>1</td>\n",
       "      <td>0.498530</td>\n",
       "      <td>0</td>\n",
       "    </tr>\n",
       "    <tr>\n",
       "      <th>4</th>\n",
       "      <td>0</td>\n",
       "      <td>0.030497</td>\n",
       "      <td>0</td>\n",
       "    </tr>\n",
       "  </tbody>\n",
       "</table>\n",
       "</div>"
      ],
      "text/plain": [
       "   Converted  Conversion_Prob  predicted\n",
       "0          0         0.388386          0\n",
       "1          0         0.038130          0\n",
       "2          0         0.001135          0\n",
       "3          1         0.498530          0\n",
       "4          0         0.030497          0"
      ]
     },
     "execution_count": 142,
     "metadata": {},
     "output_type": "execute_result"
    }
   ],
   "source": [
    "y_train_pred_final[\"predicted\"] = y_train_pred_final[\"Conversion_Prob\"].apply(lambda x : 1 if x>0.5 else 0)\n",
    "y_train_pred_final.head()"
   ]
  },
  {
   "cell_type": "markdown",
   "metadata": {},
   "source": [
    "### Confusion matrix "
   ]
  },
  {
   "cell_type": "code",
   "execution_count": 143,
   "metadata": {},
   "outputs": [
    {
     "name": "stdout",
     "output_type": "stream",
     "text": [
      "[[3750  200]\n",
      " [ 368 2149]]\n"
     ]
    }
   ],
   "source": [
    "confusion = metrics.confusion_matrix(y_train_pred_final.Converted, y_train_pred_final.predicted )\n",
    "print(confusion)"
   ]
  },
  {
   "cell_type": "code",
   "execution_count": 144,
   "metadata": {},
   "outputs": [],
   "source": [
    "# Predicted     not_converted    converted\n",
    "# Actual\n",
    "# not_converted        3725           225\n",
    "# converted            409            2108"
   ]
  },
  {
   "cell_type": "code",
   "execution_count": 145,
   "metadata": {
    "scrolled": true
   },
   "outputs": [
    {
     "name": "stdout",
     "output_type": "stream",
     "text": [
      "0.9121694758002165\n"
     ]
    }
   ],
   "source": [
    "# Let's check the overall accuracy.\n",
    "# Accuracy = Proportion of total number of predictions that were correct.\n",
    "print(metrics.accuracy_score(y_train_pred_final.Converted, y_train_pred_final.predicted))"
   ]
  },
  {
   "cell_type": "code",
   "execution_count": 146,
   "metadata": {},
   "outputs": [],
   "source": [
    "TP = confusion[1,1] # true positive \n",
    "TN = confusion[0,0] # true negatives\n",
    "FP = confusion[0,1] # false positives\n",
    "FN = confusion[1,0] # false negatives"
   ]
  },
  {
   "cell_type": "code",
   "execution_count": 147,
   "metadata": {},
   "outputs": [
    {
     "data": {
      "text/plain": [
       "0.8537941994437823"
      ]
     },
     "execution_count": 147,
     "metadata": {},
     "output_type": "execute_result"
    }
   ],
   "source": [
    "# Let's see the sensitivity of our logistic regression model\n",
    "TP / float(TP+FN)"
   ]
  },
  {
   "cell_type": "code",
   "execution_count": 148,
   "metadata": {},
   "outputs": [
    {
     "data": {
      "text/plain": [
       "0.9493670886075949"
      ]
     },
     "execution_count": 148,
     "metadata": {},
     "output_type": "execute_result"
    }
   ],
   "source": [
    "# Let us calculate specificity\n",
    "TN / float(TN+FP)"
   ]
  },
  {
   "cell_type": "code",
   "execution_count": 149,
   "metadata": {},
   "outputs": [
    {
     "name": "stdout",
     "output_type": "stream",
     "text": [
      "0.05063291139240506\n"
     ]
    }
   ],
   "source": [
    "# Calculate false postive rate - predicting converted when customer haven't converted\n",
    "print(FP/ float(TN+FP))"
   ]
  },
  {
   "cell_type": "code",
   "execution_count": 150,
   "metadata": {},
   "outputs": [
    {
     "name": "stdout",
     "output_type": "stream",
     "text": [
      "0.9148573861217539\n"
     ]
    }
   ],
   "source": [
    "# positive predictive value \n",
    "print (TP / float(TP+FP))"
   ]
  },
  {
   "cell_type": "code",
   "execution_count": 151,
   "metadata": {},
   "outputs": [
    {
     "name": "stdout",
     "output_type": "stream",
     "text": [
      "0.9106362311801846\n"
     ]
    }
   ],
   "source": [
    "# Negative predictive value\n",
    "print (TN / float(TN+ FN))"
   ]
  },
  {
   "cell_type": "markdown",
   "metadata": {},
   "source": [
    "### Plotting the ROC Curve\n",
    "An ROC curve demonstrates several things:\n",
    "\n",
    "- It shows the tradeoff between sensitivity and specificity (any increase in sensitivity will be accompanied by a decrease in specificity).\n",
    "- The closer the curve follows the left-hand border and then the top border of the ROC space, the more accurate the test.\n",
    "- The closer the curve comes to the 45-degree diagonal of the ROC space, the less accurate the test."
   ]
  },
  {
   "cell_type": "code",
   "execution_count": 152,
   "metadata": {},
   "outputs": [],
   "source": [
    "def draw_roc( actual, probs ):\n",
    "    fpr, tpr, thresholds = metrics.roc_curve( actual, probs,\n",
    "                                              drop_intermediate = False )\n",
    "    auc_score = metrics.roc_auc_score( actual, probs )\n",
    "    plt.figure(figsize=(5, 5))\n",
    "    plt.plot( fpr, tpr, label='ROC curve (area = %0.2f)' % auc_score )\n",
    "    plt.plot([0, 1], [0, 1], 'k--')\n",
    "    plt.xlim([0.0, 1.0])\n",
    "    plt.ylim([0.0, 1.05])\n",
    "    plt.xlabel('False Positive Rate or [1 - True Negative Rate]')\n",
    "    plt.ylabel('True Positive Rate')\n",
    "    plt.title('Receiver operating characteristic example')\n",
    "    plt.legend(loc=\"lower right\")\n",
    "    plt.show()\n",
    "\n",
    "    return None"
   ]
  },
  {
   "cell_type": "code",
   "execution_count": 153,
   "metadata": {},
   "outputs": [],
   "source": [
    "fpr, tpr, thresholds = metrics.roc_curve( y_train_pred_final.Converted, y_train_pred_final.Conversion_Prob, drop_intermediate = False )"
   ]
  },
  {
   "cell_type": "code",
   "execution_count": 154,
   "metadata": {},
   "outputs": [
    {
     "data": {
      "image/png": "[encoded data removed]",
      "text/plain": [
       "<Figure size 360x360 with 1 Axes>"
      ]
     },
     "metadata": {
      "needs_background": "light"
     },
     "output_type": "display_data"
    }
   ],
   "source": [
    "draw_roc(y_train_pred_final.Converted, y_train_pred_final.Conversion_Prob)"
   ]
  },
  {
   "cell_type": "markdown",
   "metadata": {},
   "source": [
    "### Finding Optimal Cutoff Point"
   ]
  },
  {
   "cell_type": "markdown",
   "metadata": {},
   "source": [
    "#### Optimal cutoff probability is that prob where we get balanced sensitivity and specificity"
   ]
  },
  {
   "cell_type": "code",
   "execution_count": 155,
   "metadata": {},
   "outputs": [
    {
     "data": {
      "text/html": [
       "<div>\n",
       "<style scoped>\n",
       "    .dataframe tbody tr th:only-of-type {\n",
       "        vertical-align: middle;\n",
       "    }\n",
       "\n",
       "    .dataframe tbody tr th {\n",
       "        vertical-align: top;\n",
       "    }\n",
       "\n",
       "    .dataframe thead th {\n",
       "        text-align: right;\n",
       "    }\n",
       "</style>\n",
       "<table border=\"1\" class=\"dataframe\">\n",
       "  <thead>\n",
       "    <tr style=\"text-align: right;\">\n",
       "      <th></th>\n",
       "      <th>Converted</th>\n",
       "      <th>Conversion_Prob</th>\n",
       "      <th>predicted</th>\n",
       "      <th>0.0</th>\n",
       "      <th>0.1</th>\n",
       "      <th>0.2</th>\n",
       "      <th>0.3</th>\n",
       "      <th>0.4</th>\n",
       "      <th>0.5</th>\n",
       "      <th>0.6</th>\n",
       "      <th>0.7</th>\n",
       "      <th>0.8</th>\n",
       "      <th>0.9</th>\n",
       "    </tr>\n",
       "  </thead>\n",
       "  <tbody>\n",
       "    <tr>\n",
       "      <th>0</th>\n",
       "      <td>0</td>\n",
       "      <td>0.388386</td>\n",
       "      <td>0</td>\n",
       "      <td>1</td>\n",
       "      <td>1</td>\n",
       "      <td>1</td>\n",
       "      <td>1</td>\n",
       "      <td>0</td>\n",
       "      <td>0</td>\n",
       "      <td>0</td>\n",
       "      <td>0</td>\n",
       "      <td>0</td>\n",
       "      <td>0</td>\n",
       "    </tr>\n",
       "    <tr>\n",
       "      <th>1</th>\n",
       "      <td>0</td>\n",
       "      <td>0.038130</td>\n",
       "      <td>0</td>\n",
       "      <td>1</td>\n",
       "      <td>0</td>\n",
       "      <td>0</td>\n",
       "      <td>0</td>\n",
       "      <td>0</td>\n",
       "      <td>0</td>\n",
       "      <td>0</td>\n",
       "      <td>0</td>\n",
       "      <td>0</td>\n",
       "      <td>0</td>\n",
       "    </tr>\n",
       "    <tr>\n",
       "      <th>2</th>\n",
       "      <td>0</td>\n",
       "      <td>0.001135</td>\n",
       "      <td>0</td>\n",
       "      <td>1</td>\n",
       "      <td>0</td>\n",
       "      <td>0</td>\n",
       "      <td>0</td>\n",
       "      <td>0</td>\n",
       "      <td>0</td>\n",
       "      <td>0</td>\n",
       "      <td>0</td>\n",
       "      <td>0</td>\n",
       "      <td>0</td>\n",
       "    </tr>\n",
       "    <tr>\n",
       "      <th>3</th>\n",
       "      <td>1</td>\n",
       "      <td>0.498530</td>\n",
       "      <td>0</td>\n",
       "      <td>1</td>\n",
       "      <td>1</td>\n",
       "      <td>1</td>\n",
       "      <td>1</td>\n",
       "      <td>1</td>\n",
       "      <td>0</td>\n",
       "      <td>0</td>\n",
       "      <td>0</td>\n",
       "      <td>0</td>\n",
       "      <td>0</td>\n",
       "    </tr>\n",
       "    <tr>\n",
       "      <th>4</th>\n",
       "      <td>0</td>\n",
       "      <td>0.030497</td>\n",
       "      <td>0</td>\n",
       "      <td>1</td>\n",
       "      <td>0</td>\n",
       "      <td>0</td>\n",
       "      <td>0</td>\n",
       "      <td>0</td>\n",
       "      <td>0</td>\n",
       "      <td>0</td>\n",
       "      <td>0</td>\n",
       "      <td>0</td>\n",
       "      <td>0</td>\n",
       "    </tr>\n",
       "  </tbody>\n",
       "</table>\n",
       "</div>"
      ],
      "text/plain": [
       "   Converted  Conversion_Prob  predicted  0.0  0.1  0.2  0.3  0.4  0.5  0.6  \\\n",
       "0          0         0.388386          0    1    1    1    1    0    0    0   \n",
       "1          0         0.038130          0    1    0    0    0    0    0    0   \n",
       "2          0         0.001135          0    1    0    0    0    0    0    0   \n",
       "3          1         0.498530          0    1    1    1    1    1    0    0   \n",
       "4          0         0.030497          0    1    0    0    0    0    0    0   \n",
       "\n",
       "   0.7  0.8  0.9  \n",
       "0    0    0    0  \n",
       "1    0    0    0  \n",
       "2    0    0    0  \n",
       "3    0    0    0  \n",
       "4    0    0    0  "
      ]
     },
     "execution_count": 155,
     "metadata": {},
     "output_type": "execute_result"
    }
   ],
   "source": [
    "# Let's create columns with different probability cutoffs \n",
    "numbers = [float(x)/10 for x in range(10)]\n",
    "for i in numbers:\n",
    "    y_train_pred_final[i]= y_train_pred_final.Conversion_Prob.map(lambda x: 1 if x > i else 0)\n",
    "y_train_pred_final.head()"
   ]
  },
  {
   "cell_type": "code",
   "execution_count": 156,
   "metadata": {},
   "outputs": [
    {
     "name": "stdout",
     "output_type": "stream",
     "text": [
      "     prob  accuracy     sensi     speci\n",
      "0.0   0.0  0.389207  1.000000  0.000000\n",
      "0.1   0.1  0.816453  0.970997  0.717975\n",
      "0.2   0.2  0.871965  0.944776  0.825570\n",
      "0.3   0.3  0.904902  0.912197  0.900253\n",
      "0.4   0.4  0.910623  0.882002  0.928861\n",
      "0.5   0.5  0.912169  0.853794  0.949367\n",
      "0.6   0.6  0.910159  0.822408  0.966076\n",
      "0.7   0.7  0.897789  0.777513  0.974430\n",
      "0.8   0.8  0.884954  0.733810  0.981266\n",
      "0.9   0.9  0.862378  0.662694  0.989620\n"
     ]
    }
   ],
   "source": [
    "# Now let's calculate accuracy sensitivity and specificity for various probability cutoffs.\n",
    "cutoff_df = pd.DataFrame( columns = ['prob','accuracy','sensi','speci'])\n",
    "from sklearn.metrics import confusion_matrix\n",
    "\n",
    "# TP = confusion[1,1] # true positive \n",
    "# TN = confusion[0,0] # true negatives\n",
    "# FP = confusion[0,1] # false positives\n",
    "# FN = confusion[1,0] # false negatives\n",
    "\n",
    "num = [0.0,0.1,0.2,0.3,0.4,0.5,0.6,0.7,0.8,0.9]\n",
    "for i in num:\n",
    "    cm1 = metrics.confusion_matrix(y_train_pred_final.Converted, y_train_pred_final[i] )\n",
    "    total1=sum(sum(cm1))\n",
    "    accuracy = (cm1[0,0]+cm1[1,1])/total1\n",
    "    \n",
    "    speci = cm1[0,0]/(cm1[0,0]+cm1[0,1])\n",
    "    sensi = cm1[1,1]/(cm1[1,0]+cm1[1,1])\n",
    "    cutoff_df.loc[i] =[ i ,accuracy,sensi,speci]\n",
    "print(cutoff_df)"
   ]
  },
  {
   "cell_type": "code",
   "execution_count": 157,
   "metadata": {},
   "outputs": [
    {
     "data": {
      "image/png": "[encoded data removed]",
      "text/plain": [
       "<Figure size 432x288 with 1 Axes>"
      ]
     },
     "metadata": {
      "needs_background": "light"
     },
     "output_type": "display_data"
    }
   ],
   "source": [
    "# Let's plot accuracy sensitivity and specificity for various probabilities.\n",
    "cutoff_df.plot.line(x='prob', y=['accuracy','sensi','speci'])\n",
    "plt.show()"
   ]
  },
  {
   "cell_type": "markdown",
   "metadata": {},
   "source": [
    "#### From the curve above, 0.3 is the optimum point to take it as a cutoff probability."
   ]
  },
  {
   "cell_type": "code",
   "execution_count": 158,
   "metadata": {
    "scrolled": true
   },
   "outputs": [
    {
     "data": {
      "text/html": [
       "<div>\n",
       "<style scoped>\n",
       "    .dataframe tbody tr th:only-of-type {\n",
       "        vertical-align: middle;\n",
       "    }\n",
       "\n",
       "    .dataframe tbody tr th {\n",
       "        vertical-align: top;\n",
       "    }\n",
       "\n",
       "    .dataframe thead th {\n",
       "        text-align: right;\n",
       "    }\n",
       "</style>\n",
       "<table border=\"1\" class=\"dataframe\">\n",
       "  <thead>\n",
       "    <tr style=\"text-align: right;\">\n",
       "      <th></th>\n",
       "      <th>Converted</th>\n",
       "      <th>Conversion_Prob</th>\n",
       "      <th>predicted</th>\n",
       "      <th>0.0</th>\n",
       "      <th>0.1</th>\n",
       "      <th>0.2</th>\n",
       "      <th>0.3</th>\n",
       "      <th>0.4</th>\n",
       "      <th>0.5</th>\n",
       "      <th>0.6</th>\n",
       "      <th>0.7</th>\n",
       "      <th>0.8</th>\n",
       "      <th>0.9</th>\n",
       "      <th>final_predicted</th>\n",
       "    </tr>\n",
       "  </thead>\n",
       "  <tbody>\n",
       "    <tr>\n",
       "      <th>0</th>\n",
       "      <td>0</td>\n",
       "      <td>0.388386</td>\n",
       "      <td>0</td>\n",
       "      <td>1</td>\n",
       "      <td>1</td>\n",
       "      <td>1</td>\n",
       "      <td>1</td>\n",
       "      <td>0</td>\n",
       "      <td>0</td>\n",
       "      <td>0</td>\n",
       "      <td>0</td>\n",
       "      <td>0</td>\n",
       "      <td>0</td>\n",
       "      <td>1</td>\n",
       "    </tr>\n",
       "    <tr>\n",
       "      <th>1</th>\n",
       "      <td>0</td>\n",
       "      <td>0.038130</td>\n",
       "      <td>0</td>\n",
       "      <td>1</td>\n",
       "      <td>0</td>\n",
       "      <td>0</td>\n",
       "      <td>0</td>\n",
       "      <td>0</td>\n",
       "      <td>0</td>\n",
       "      <td>0</td>\n",
       "      <td>0</td>\n",
       "      <td>0</td>\n",
       "      <td>0</td>\n",
       "      <td>0</td>\n",
       "    </tr>\n",
       "    <tr>\n",
       "      <th>2</th>\n",
       "      <td>0</td>\n",
       "      <td>0.001135</td>\n",
       "      <td>0</td>\n",
       "      <td>1</td>\n",
       "      <td>0</td>\n",
       "      <td>0</td>\n",
       "      <td>0</td>\n",
       "      <td>0</td>\n",
       "      <td>0</td>\n",
       "      <td>0</td>\n",
       "      <td>0</td>\n",
       "      <td>0</td>\n",
       "      <td>0</td>\n",
       "      <td>0</td>\n",
       "    </tr>\n",
       "    <tr>\n",
       "      <th>3</th>\n",
       "      <td>1</td>\n",
       "      <td>0.498530</td>\n",
       "      <td>0</td>\n",
       "      <td>1</td>\n",
       "      <td>1</td>\n",
       "      <td>1</td>\n",
       "      <td>1</td>\n",
       "      <td>1</td>\n",
       "      <td>0</td>\n",
       "      <td>0</td>\n",
       "      <td>0</td>\n",
       "      <td>0</td>\n",
       "      <td>0</td>\n",
       "      <td>1</td>\n",
       "    </tr>\n",
       "    <tr>\n",
       "      <th>4</th>\n",
       "      <td>0</td>\n",
       "      <td>0.030497</td>\n",
       "      <td>0</td>\n",
       "      <td>1</td>\n",
       "      <td>0</td>\n",
       "      <td>0</td>\n",
       "      <td>0</td>\n",
       "      <td>0</td>\n",
       "      <td>0</td>\n",
       "      <td>0</td>\n",
       "      <td>0</td>\n",
       "      <td>0</td>\n",
       "      <td>0</td>\n",
       "      <td>0</td>\n",
       "    </tr>\n",
       "  </tbody>\n",
       "</table>\n",
       "</div>"
      ],
      "text/plain": [
       "   Converted  Conversion_Prob  predicted  0.0  0.1  0.2  0.3  0.4  0.5  0.6  \\\n",
       "0          0         0.388386          0    1    1    1    1    0    0    0   \n",
       "1          0         0.038130          0    1    0    0    0    0    0    0   \n",
       "2          0         0.001135          0    1    0    0    0    0    0    0   \n",
       "3          1         0.498530          0    1    1    1    1    1    0    0   \n",
       "4          0         0.030497          0    1    0    0    0    0    0    0   \n",
       "\n",
       "   0.7  0.8  0.9  final_predicted  \n",
       "0    0    0    0                1  \n",
       "1    0    0    0                0  \n",
       "2    0    0    0                0  \n",
       "3    0    0    0                1  \n",
       "4    0    0    0                0  "
      ]
     },
     "execution_count": 158,
     "metadata": {},
     "output_type": "execute_result"
    }
   ],
   "source": [
    "y_train_pred_final['final_predicted'] = y_train_pred_final.Conversion_Prob.map( lambda x: 1 if x > 0.3 else 0)\n",
    "\n",
    "y_train_pred_final.head()"
   ]
  },
  {
   "cell_type": "code",
   "execution_count": 159,
   "metadata": {},
   "outputs": [
    {
     "data": {
      "text/html": [
       "<div>\n",
       "<style scoped>\n",
       "    .dataframe tbody tr th:only-of-type {\n",
       "        vertical-align: middle;\n",
       "    }\n",
       "\n",
       "    .dataframe tbody tr th {\n",
       "        vertical-align: top;\n",
       "    }\n",
       "\n",
       "    .dataframe thead th {\n",
       "        text-align: right;\n",
       "    }\n",
       "</style>\n",
       "<table border=\"1\" class=\"dataframe\">\n",
       "  <thead>\n",
       "    <tr style=\"text-align: right;\">\n",
       "      <th></th>\n",
       "      <th>Lead Number</th>\n",
       "      <th>Converted</th>\n",
       "      <th>Conversion_Prob</th>\n",
       "      <th>final_predicted</th>\n",
       "    </tr>\n",
       "  </thead>\n",
       "  <tbody>\n",
       "    <tr>\n",
       "      <th>0</th>\n",
       "      <td>608309</td>\n",
       "      <td>0.0</td>\n",
       "      <td>0.388386</td>\n",
       "      <td>1</td>\n",
       "    </tr>\n",
       "    <tr>\n",
       "      <th>1</th>\n",
       "      <td>601302</td>\n",
       "      <td>0.0</td>\n",
       "      <td>0.038130</td>\n",
       "      <td>0</td>\n",
       "    </tr>\n",
       "    <tr>\n",
       "      <th>2</th>\n",
       "      <td>597540</td>\n",
       "      <td>0.0</td>\n",
       "      <td>0.001135</td>\n",
       "      <td>0</td>\n",
       "    </tr>\n",
       "    <tr>\n",
       "      <th>3</th>\n",
       "      <td>591462</td>\n",
       "      <td>1.0</td>\n",
       "      <td>0.498530</td>\n",
       "      <td>1</td>\n",
       "    </tr>\n",
       "    <tr>\n",
       "      <th>4</th>\n",
       "      <td>589061</td>\n",
       "      <td>0.0</td>\n",
       "      <td>0.030497</td>\n",
       "      <td>0</td>\n",
       "    </tr>\n",
       "  </tbody>\n",
       "</table>\n",
       "</div>"
      ],
      "text/plain": [
       "   Lead Number  Converted  Conversion_Prob  final_predicted\n",
       "0       608309        0.0         0.388386                1\n",
       "1       601302        0.0         0.038130                0\n",
       "2       597540        0.0         0.001135                0\n",
       "3       591462        1.0         0.498530                1\n",
       "4       589061        0.0         0.030497                0"
      ]
     },
     "execution_count": 159,
     "metadata": {},
     "output_type": "execute_result"
    }
   ],
   "source": [
    "train_y = pd.DataFrame(y_train).reset_index()\n",
    "train_y[\"Conversion_Prob\"] = y_train_pred_final.Conversion_Prob\n",
    "train_y[\"final_predicted\"] = y_train_pred_final.final_predicted\n",
    "train_y.head()"
   ]
  },
  {
   "cell_type": "code",
   "execution_count": 160,
   "metadata": {},
   "outputs": [
    {
     "data": {
      "text/plain": [
       "0.9049018091850936"
      ]
     },
     "execution_count": 160,
     "metadata": {},
     "output_type": "execute_result"
    }
   ],
   "source": [
    "# Let's check the overall accuracy.\n",
    "metrics.accuracy_score(y_train_pred_final.Converted, y_train_pred_final.final_predicted)"
   ]
  },
  {
   "cell_type": "code",
   "execution_count": 161,
   "metadata": {},
   "outputs": [
    {
     "data": {
      "text/plain": [
       "array([[3556,  394],\n",
       "       [ 221, 2296]], dtype=int64)"
      ]
     },
     "execution_count": 161,
     "metadata": {},
     "output_type": "execute_result"
    }
   ],
   "source": [
    "confusion2 = metrics.confusion_matrix(y_train_pred_final.Converted, y_train_pred_final.final_predicted )\n",
    "confusion2"
   ]
  },
  {
   "cell_type": "code",
   "execution_count": 162,
   "metadata": {},
   "outputs": [],
   "source": [
    "TP = confusion2[1,1] # true positive \n",
    "TN = confusion2[0,0] # true negatives\n",
    "FP = confusion2[0,1] # false positives\n",
    "FN = confusion2[1,0] # false negatives"
   ]
  },
  {
   "cell_type": "code",
   "execution_count": 163,
   "metadata": {},
   "outputs": [
    {
     "data": {
      "text/plain": [
       "0.912197059992054"
      ]
     },
     "execution_count": 163,
     "metadata": {},
     "output_type": "execute_result"
    }
   ],
   "source": [
    "# Let's see the sensitivity of our logistic regression model\n",
    "TP / float(TP+FN)"
   ]
  },
  {
   "cell_type": "code",
   "execution_count": 164,
   "metadata": {},
   "outputs": [
    {
     "data": {
      "text/plain": [
       "0.900253164556962"
      ]
     },
     "execution_count": 164,
     "metadata": {},
     "output_type": "execute_result"
    }
   ],
   "source": [
    "# Let us calculate specificity\n",
    "TN / float(TN+FP)"
   ]
  },
  {
   "cell_type": "code",
   "execution_count": 165,
   "metadata": {},
   "outputs": [
    {
     "name": "stdout",
     "output_type": "stream",
     "text": [
      "0.09974683544303797\n"
     ]
    }
   ],
   "source": [
    "# Calculate false postive rate - predicting churn when customer does not have churned\n",
    "print(FP/ float(TN+FP))"
   ]
  },
  {
   "cell_type": "code",
   "execution_count": 166,
   "metadata": {},
   "outputs": [
    {
     "name": "stdout",
     "output_type": "stream",
     "text": [
      "0.8535315985130112\n"
     ]
    }
   ],
   "source": [
    "# Positive predictive value \n",
    "print (TP / float(TP+FP))"
   ]
  },
  {
   "cell_type": "code",
   "execution_count": 167,
   "metadata": {},
   "outputs": [
    {
     "name": "stdout",
     "output_type": "stream",
     "text": [
      "0.9414879534021711\n"
     ]
    }
   ],
   "source": [
    "# Negative predictive value\n",
    "print (TN / float(TN+ FN))"
   ]
  },
  {
   "cell_type": "markdown",
   "metadata": {},
   "source": [
    "#### All the metrics look pretty great and it seems like a good model. Let's check how it behaves with the test dataset."
   ]
  },
  {
   "cell_type": "markdown",
   "metadata": {},
   "source": [
    "### Making predictions on the test set"
   ]
  },
  {
   "cell_type": "code",
   "execution_count": 168,
   "metadata": {},
   "outputs": [],
   "source": [
    "# Scaling Numerical Variables in Testing Dataset.\n",
    "df_test[scale_vars] = Scaler.transform(df_test[scale_vars])"
   ]
  },
  {
   "cell_type": "code",
   "execution_count": 169,
   "metadata": {},
   "outputs": [],
   "source": [
    "# Spliting testing Data into x_test and y_test\n",
    "y_test = df_test.pop('Converted')\n",
    "x_test = df_test"
   ]
  },
  {
   "cell_type": "code",
   "execution_count": 171,
   "metadata": {},
   "outputs": [],
   "source": [
    "# Creating x_test_m3 dataframe by using the column names of x_train_new2 dataframe used for bulding model 3.\n",
    "x_test_m3 = sm.add_constant(x_test)\n",
    "x_test_m3 = x_test_m3[list(x_train_new2.columns)]"
   ]
  },
  {
   "cell_type": "code",
   "execution_count": 172,
   "metadata": {},
   "outputs": [],
   "source": [
    "# Making Predictions on the testing dataset.\n",
    "y_test_pred = res.predict(x_test_m3)"
   ]
  },
  {
   "cell_type": "code",
   "execution_count": 174,
   "metadata": {
    "scrolled": true
   },
   "outputs": [
    {
     "data": {
      "text/plain": [
       "Lead Number\n",
       "653848    0.166373\n",
       "603210    0.293471\n",
       "641366    0.168004\n",
       "653757    0.627809\n",
       "601110    0.007587\n",
       "601844    0.061451\n",
       "623622    0.198364\n",
       "639710    0.996119\n",
       "602676    0.000462\n",
       "595906    0.210377\n",
       "dtype: float64"
      ]
     },
     "execution_count": 174,
     "metadata": {},
     "output_type": "execute_result"
    }
   ],
   "source": [
    "#Cheking the predicted probabilities\n",
    "y_test_pred[:10]"
   ]
  },
  {
   "cell_type": "code",
   "execution_count": 176,
   "metadata": {},
   "outputs": [],
   "source": [
    "y_pred_1 = pd.DataFrame(y_test_pred)\n",
    "y_pred_1.reset_index(inplace = True)\n",
    "y_pred_1.columns = ['Lead Number', 'Conversion_Prob']"
   ]
  },
  {
   "cell_type": "code",
   "execution_count": 177,
   "metadata": {},
   "outputs": [],
   "source": [
    "#Getting the final predicted flag for conversion on test data\n",
    "y_pred_1[\"final_predicted\"] = y_pred_1.Conversion_Prob.apply(lambda x: 1 if x>0.3 else 0)"
   ]
  },
  {
   "cell_type": "code",
   "execution_count": 179,
   "metadata": {},
   "outputs": [],
   "source": [
    "y_test = pd.DataFrame(y_test)\n",
    "y_pred_1['Converted'] = list(y_test.Converted)\n",
    "y_pred_1.head()"
   ]
  },
  {
   "cell_type": "markdown",
   "metadata": {},
   "source": [
    "### Checking the accuracy and other metrics for the model."
   ]
  },
  {
   "cell_type": "code",
   "execution_count": 181,
   "metadata": {},
   "outputs": [
    {
     "data": {
      "text/plain": [
       "0.9011544011544012"
      ]
     },
     "execution_count": 181,
     "metadata": {},
     "output_type": "execute_result"
    }
   ],
   "source": [
    "metrics.accuracy_score(y_pred_1.Converted,y_pred_1.final_predicted)"
   ]
  },
  {
   "cell_type": "code",
   "execution_count": 182,
   "metadata": {},
   "outputs": [
    {
     "data": {
      "text/plain": [
       "array([[1553,  176],\n",
       "       [  98,  945]], dtype=int64)"
      ]
     },
     "execution_count": 182,
     "metadata": {},
     "output_type": "execute_result"
    }
   ],
   "source": [
    "confusion = metrics.confusion_matrix(y_pred_1.Converted, y_pred_1.final_predicted)\n",
    "confusion"
   ]
  },
  {
   "cell_type": "code",
   "execution_count": 183,
   "metadata": {},
   "outputs": [],
   "source": [
    "TP = confusion[1,1] # true positive \n",
    "TN = confusion[0,0] # true negatives\n",
    "FP = confusion[0,1] # false positives\n",
    "FN = confusion[1,0] # false negatives"
   ]
  },
  {
   "cell_type": "code",
   "execution_count": 184,
   "metadata": {},
   "outputs": [
    {
     "data": {
      "text/plain": [
       "0.9060402684563759"
      ]
     },
     "execution_count": 184,
     "metadata": {},
     "output_type": "execute_result"
    }
   ],
   "source": [
    "# Let's see the sensitivity of our logistic regression model\n",
    "TP / float(TP+FN)"
   ]
  },
  {
   "cell_type": "code",
   "execution_count": 185,
   "metadata": {},
   "outputs": [
    {
     "data": {
      "text/plain": [
       "0.898207056101793"
      ]
     },
     "execution_count": 185,
     "metadata": {},
     "output_type": "execute_result"
    }
   ],
   "source": [
    "# Let us calculate specificity\n",
    "TN / float(TN+FP)"
   ]
  },
  {
   "cell_type": "code",
   "execution_count": 186,
   "metadata": {},
   "outputs": [
    {
     "name": "stdout",
     "output_type": "stream",
     "text": [
      "0.10179294389820706\n"
     ]
    }
   ],
   "source": [
    "# Calculate false postive rate - predicting churn when customer does not have churned\n",
    "print(FP/ float(TN+FP))"
   ]
  },
  {
   "cell_type": "code",
   "execution_count": 187,
   "metadata": {},
   "outputs": [
    {
     "name": "stdout",
     "output_type": "stream",
     "text": [
      "0.8429973238180196\n"
     ]
    }
   ],
   "source": [
    "# Positive predictive value \n",
    "print (TP / float(TP+FP))"
   ]
  },
  {
   "cell_type": "code",
   "execution_count": 188,
   "metadata": {},
   "outputs": [
    {
     "name": "stdout",
     "output_type": "stream",
     "text": [
      "0.9406420351302242\n"
     ]
    }
   ],
   "source": [
    "# Negative predictive value\n",
    "print (TN / float(TN+ FN))"
   ]
  },
  {
   "cell_type": "markdown",
   "metadata": {},
   "source": [
    "### Calculating Lead Score for each of the Leads."
   ]
  },
  {
   "cell_type": "code",
   "execution_count": 189,
   "metadata": {
    "scrolled": true
   },
   "outputs": [
    {
     "data": {
      "text/html": [
       "<div>\n",
       "<style scoped>\n",
       "    .dataframe tbody tr th:only-of-type {\n",
       "        vertical-align: middle;\n",
       "    }\n",
       "\n",
       "    .dataframe tbody tr th {\n",
       "        vertical-align: top;\n",
       "    }\n",
       "\n",
       "    .dataframe thead th {\n",
       "        text-align: right;\n",
       "    }\n",
       "</style>\n",
       "<table border=\"1\" class=\"dataframe\">\n",
       "  <thead>\n",
       "    <tr style=\"text-align: right;\">\n",
       "      <th></th>\n",
       "      <th>Lead Number</th>\n",
       "      <th>Converted</th>\n",
       "      <th>Conversion_Prob</th>\n",
       "      <th>final_predicted</th>\n",
       "    </tr>\n",
       "  </thead>\n",
       "  <tbody>\n",
       "    <tr>\n",
       "      <th>0</th>\n",
       "      <td>608309</td>\n",
       "      <td>0.0</td>\n",
       "      <td>0.388386</td>\n",
       "      <td>1</td>\n",
       "    </tr>\n",
       "    <tr>\n",
       "      <th>1</th>\n",
       "      <td>601302</td>\n",
       "      <td>0.0</td>\n",
       "      <td>0.038130</td>\n",
       "      <td>0</td>\n",
       "    </tr>\n",
       "    <tr>\n",
       "      <th>2</th>\n",
       "      <td>597540</td>\n",
       "      <td>0.0</td>\n",
       "      <td>0.001135</td>\n",
       "      <td>0</td>\n",
       "    </tr>\n",
       "    <tr>\n",
       "      <th>3</th>\n",
       "      <td>591462</td>\n",
       "      <td>1.0</td>\n",
       "      <td>0.498530</td>\n",
       "      <td>1</td>\n",
       "    </tr>\n",
       "    <tr>\n",
       "      <th>4</th>\n",
       "      <td>589061</td>\n",
       "      <td>0.0</td>\n",
       "      <td>0.030497</td>\n",
       "      <td>0</td>\n",
       "    </tr>\n",
       "  </tbody>\n",
       "</table>\n",
       "</div>"
      ],
      "text/plain": [
       "   Lead Number  Converted  Conversion_Prob  final_predicted\n",
       "0       608309        0.0         0.388386                1\n",
       "1       601302        0.0         0.038130                0\n",
       "2       597540        0.0         0.001135                0\n",
       "3       591462        1.0         0.498530                1\n",
       "4       589061        0.0         0.030497                0"
      ]
     },
     "execution_count": 189,
     "metadata": {},
     "output_type": "execute_result"
    }
   ],
   "source": [
    "lead_score = pd.concat([train_y, y_pred_1], axis = 0)\n",
    "lead_score.head()"
   ]
  },
  {
   "cell_type": "code",
   "execution_count": 190,
   "metadata": {},
   "outputs": [],
   "source": [
    "lead_score[\"Lead Score\"] = lead_score.Conversion_Prob.apply(lambda x: x*100)"
   ]
  },
  {
   "cell_type": "code",
   "execution_count": 197,
   "metadata": {},
   "outputs": [
    {
     "data": {
      "text/html": [
       "<div>\n",
       "<style scoped>\n",
       "    .dataframe tbody tr th:only-of-type {\n",
       "        vertical-align: middle;\n",
       "    }\n",
       "\n",
       "    .dataframe tbody tr th {\n",
       "        vertical-align: top;\n",
       "    }\n",
       "\n",
       "    .dataframe thead th {\n",
       "        text-align: right;\n",
       "    }\n",
       "</style>\n",
       "<table border=\"1\" class=\"dataframe\">\n",
       "  <thead>\n",
       "    <tr style=\"text-align: right;\">\n",
       "      <th></th>\n",
       "      <th>Lead Number</th>\n",
       "      <th>Lead Score</th>\n",
       "    </tr>\n",
       "  </thead>\n",
       "  <tbody>\n",
       "    <tr>\n",
       "      <th>0</th>\n",
       "      <td>608309</td>\n",
       "      <td>38.838608</td>\n",
       "    </tr>\n",
       "    <tr>\n",
       "      <th>1</th>\n",
       "      <td>601302</td>\n",
       "      <td>3.813000</td>\n",
       "    </tr>\n",
       "    <tr>\n",
       "      <th>2</th>\n",
       "      <td>597540</td>\n",
       "      <td>0.113475</td>\n",
       "    </tr>\n",
       "    <tr>\n",
       "      <th>3</th>\n",
       "      <td>591462</td>\n",
       "      <td>49.852972</td>\n",
       "    </tr>\n",
       "    <tr>\n",
       "      <th>4</th>\n",
       "      <td>589061</td>\n",
       "      <td>3.049673</td>\n",
       "    </tr>\n",
       "    <tr>\n",
       "      <th>5</th>\n",
       "      <td>628456</td>\n",
       "      <td>0.150288</td>\n",
       "    </tr>\n",
       "    <tr>\n",
       "      <th>6</th>\n",
       "      <td>588058</td>\n",
       "      <td>99.979407</td>\n",
       "    </tr>\n",
       "    <tr>\n",
       "      <th>7</th>\n",
       "      <td>649586</td>\n",
       "      <td>11.584304</td>\n",
       "    </tr>\n",
       "    <tr>\n",
       "      <th>8</th>\n",
       "      <td>592599</td>\n",
       "      <td>12.067846</td>\n",
       "    </tr>\n",
       "    <tr>\n",
       "      <th>9</th>\n",
       "      <td>649186</td>\n",
       "      <td>92.652729</td>\n",
       "    </tr>\n",
       "  </tbody>\n",
       "</table>\n",
       "</div>"
      ],
      "text/plain": [
       "   Lead Number  Lead Score\n",
       "0       608309   38.838608\n",
       "1       601302    3.813000\n",
       "2       597540    0.113475\n",
       "3       591462   49.852972\n",
       "4       589061    3.049673\n",
       "5       628456    0.150288\n",
       "6       588058   99.979407\n",
       "7       649586   11.584304\n",
       "8       592599   12.067846\n",
       "9       649186   92.652729"
      ]
     },
     "execution_count": 197,
     "metadata": {},
     "output_type": "execute_result"
    }
   ],
   "source": [
    "lead_score[['Lead Number', 'Lead Score']].head(10)"
   ]
  },
  {
   "cell_type": "code",
   "execution_count": 198,
   "metadata": {
    "scrolled": false
   },
   "outputs": [
    {
     "name": "stdout",
     "output_type": "stream",
     "text": [
      "                 Generalized Linear Model Regression Results                  \n",
      "==============================================================================\n",
      "Dep. Variable:              Converted   No. Observations:                 6467\n",
      "Model:                            GLM   Df Residuals:                     6448\n",
      "Model Family:                Binomial   Df Model:                           18\n",
      "Link Function:                  logit   Scale:                          1.0000\n",
      "Method:                          IRLS   Log-Likelihood:                -1476.4\n",
      "Date:                Sun, 07 Mar 2021   Deviance:                       2952.8\n",
      "Time:                        01:11:24   Pearson chi2:                 2.00e+04\n",
      "No. Iterations:                     9                                         \n",
      "Covariance Type:            nonrobust                                         \n",
      "=======================================================================================================\n",
      "                                          coef    std err          z      P>|z|      [0.025      0.975]\n",
      "-------------------------------------------------------------------------------------------------------\n",
      "const                                  -0.2913      0.208     -1.401      0.161      -0.699       0.116\n",
      "Do Not Email                           -0.9794      0.245     -3.989      0.000      -1.461      -0.498\n",
      "Total Time Spent on Website             4.3336      0.227     19.069      0.000       3.888       4.779\n",
      "Null_Count                             -3.1389      0.284    -11.060      0.000      -3.695      -2.583\n",
      "Landing Page Submission                -0.8344      0.128     -6.521      0.000      -1.085      -0.584\n",
      "Lead Add Form                           4.2499      0.419     10.153      0.000       3.430       5.070\n",
      "Olark Chat                              0.9865      0.161      6.128      0.000       0.671       1.302\n",
      "Reference                              -1.1817      0.482     -2.450      0.014      -2.127      -0.236\n",
      "Converted to Lead                      -1.5020      0.366     -4.103      0.000      -2.219      -0.784\n",
      "Email Bounced                          -0.8910      0.451     -1.977      0.048      -1.774      -0.008\n",
      "Olark Chat Conversation                -1.4034      0.216     -6.504      0.000      -1.826      -0.981\n",
      "SMS Sent                                1.7063      0.108     15.753      0.000       1.494       1.919\n",
      "Working Professional                    1.5396      0.316      4.877      0.000       0.921       2.158\n",
      "Already a student                      -5.1770      1.022     -5.065      0.000      -7.180      -3.174\n",
      "Interested in other courses            -3.5912      0.374     -9.601      0.000      -4.324      -2.858\n",
      "Lost to EINS                            4.9985      0.735      6.802      0.000       3.558       6.439\n",
      "Other_Tags                             -2.0075      0.162    -12.429      0.000      -2.324      -1.691\n",
      "Ringing                                -4.1901      0.249    -16.847      0.000      -4.678      -3.703\n",
      "Will revert after reading the email     3.1375      0.196     16.039      0.000       2.754       3.521\n",
      "=======================================================================================================\n"
     ]
    }
   ],
   "source": [
    "print(res.summary())"
   ]
  },
  {
   "cell_type": "markdown",
   "metadata": {},
   "source": [
    "# CONCLUSION\n",
    "\n",
    "#### Metrics for Train Data: - \n",
    "Accuracy: 0.905\n",
    "Sensitivity: 0.912\n",
    "Specificity: 0.900\n",
    "\n",
    "#### Metrics for Test Data: -\n",
    "Accuracy: 0.901\n",
    "Sensitivity: 0.906\n",
    "Specificity: 0.898\n",
    "\n",
    "#### The model accuracy, sensitivity and specificity, both for train and test data, are coming out to be nearly 90% which shows that the model is a good fit.\n",
    "\n",
    "\n",
    "#### Variables that are influencing the conversion rate positively - \n",
    "\n",
    "   - Total Time Spent on Website: The more time a lead spends on the website, the more is the chance of conversion.\n",
    "   - Lead Add Form: Conversion rate is high when the lead origin is Lead Add Form.\n",
    "   - SMS Sent: Conversion rate is high when the last activity is sending SMS.\n",
    "   - Working Professional: Lead is most likely to be converted if he/she is a working professional.\n",
    "   - Conversion rate is high when Tag = Lost to EINS\n",
    "   - Conversion rate is high when the lead has recieved the email and will likely revert back.\n",
    "   \n",
    "#### Variables that are influencing the conversion rate negatively - \n",
    "\n",
    "   - An important variable is Null Count, i.e. the amount of infomation a lead is revealing is important to note as the missing information leads to less conversion rate.\n",
    "   - The conversion rate is negatively influenced if the lead source is Reference.\n",
    "   - Already a student - If the lead is a students, he/she is less likely to be converted. It seems like the courses are designed for working professionals.\n",
    "   - If the lead is interested in other courses, he is less likely to be converted.\n",
    "   - Ringing: If the leads isn't answering and ignoring `(RUDE)` the calls, they are less likely to be converted.  \n",
    "\n",
    "\n"
   ]
  },
  {
   "cell_type": "code",
   "execution_count": null,
   "metadata": {},
   "outputs": [],
   "source": []
  }
 ],
 "metadata": {
  "kernelspec": {
   "display_name": "Python 3",
   "language": "python",
   "name": "python3"
  },
  "language_info": {
   "codemirror_mode": {
    "name": "ipython",
    "version": 3
   },
   "file_extension": ".py",
   "mimetype": "text/x-python",
   "name": "python",
   "nbconvert_exporter": "python",
   "pygments_lexer": "ipython3",
   "version": "3.8.3"
  }
 },
 "nbformat": 4,
 "nbformat_minor": 4
}
